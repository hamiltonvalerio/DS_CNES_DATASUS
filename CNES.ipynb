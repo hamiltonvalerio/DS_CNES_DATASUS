{
  "nbformat": 4,
  "nbformat_minor": 0,
  "metadata": {
    "kernelspec": {
      "display_name": "Python 3",
      "language": "python",
      "name": "python3"
    },
    "language_info": {
      "codemirror_mode": {
        "name": "ipython",
        "version": 3
      },
      "file_extension": ".py",
      "mimetype": "text/x-python",
      "name": "python",
      "nbconvert_exporter": "python",
      "pygments_lexer": "ipython3",
      "version": "3.8.5"
    },
    "colab": {
      "name": "CNES.ipynb",
      "provenance": [],
      "collapsed_sections": [],
      "toc_visible": true,
      "include_colab_link": true
    }
  },
  "cells": [
    {
      "cell_type": "markdown",
      "metadata": {
        "id": "view-in-github",
        "colab_type": "text"
      },
      "source": [
        "<a href=\"https://colab.research.google.com/github/hamiltonvalerio/DS_CNES_DATASUS/blob/main/CNES.ipynb\" target=\"_parent\"><img src=\"https://colab.research.google.com/assets/colab-badge.svg\" alt=\"Open In Colab\"/></a>"
      ]
    },
    {
      "cell_type": "code",
      "metadata": {
        "id": "v-JByq-50WNH",
        "colab": {
          "base_uri": "https://localhost:8080/"
        },
        "outputId": "3866397b-afad-4579-dbb7-3e081a2e0be2"
      },
      "source": [
        "import pandas as pd\n",
        "import numpy as np\n",
        "import glob\n",
        "import time\n",
        "import requests\n",
        "from io import StringIO\n",
        "import unicodedata\n",
        "import re\n",
        "from google.colab import drive\n",
        "drive.mount('/drive')"
      ],
      "execution_count": 174,
      "outputs": [
        {
          "output_type": "stream",
          "text": [
            "Drive already mounted at /drive; to attempt to forcibly remount, call drive.mount(\"/drive\", force_remount=True).\n"
          ],
          "name": "stdout"
        }
      ]
    },
    {
      "cell_type": "markdown",
      "metadata": {
        "id": "8P-51WkK0WNM"
      },
      "source": [
        "# SELECIONANDO NO GOOGLE DRIVE A TABELA DO MÊS 12/2020 DE NOMES DE EQUIPAMENTOS (tbEquipamento202012.csv) PARA FAZER UM JOIN COM O DATAFRAME de EQUIPAMENTOS TRAZENDO A NOMENCLATURA (Gama Camara, PET/CT)"
      ]
    },
    {
      "cell_type": "code",
      "metadata": {
        "scrolled": false,
        "colab": {
          "base_uri": "https://localhost:8080/",
          "height": 111
        },
        "id": "PLH0oQe90WNN",
        "outputId": "64791ccd-47f1-4210-a3e0-07023147c2bc"
      },
      "source": [
        "url_eq_auxiliar = 'https://drive.google.com/file/d/19Qikm47nw3cy7FL6QwZj_4XmVHzz4Xp6/view?usp=sharing'\n",
        "path_eq_auxiliar = 'https://drive.google.com/uc?export=download&id='+url_eq_auxiliar.split('/')[-2]\n",
        "df_eq = pd.read_csv(path_eq_auxiliar,sep=';')\n",
        "\n",
        "filtro_eq = ['Gama Camara', 'PET/CT']\n",
        "\n",
        "result_eq = df_eq[df_eq['DS_EQUIPAMENTO'].str.contains('|'.join(filtro_eq))]\n",
        "\n",
        "result_eq"
      ],
      "execution_count": 175,
      "outputs": [
        {
          "output_type": "execute_result",
          "data": {
            "text/html": [
              "<div>\n",
              "<style scoped>\n",
              "    .dataframe tbody tr th:only-of-type {\n",
              "        vertical-align: middle;\n",
              "    }\n",
              "\n",
              "    .dataframe tbody tr th {\n",
              "        vertical-align: top;\n",
              "    }\n",
              "\n",
              "    .dataframe thead th {\n",
              "        text-align: right;\n",
              "    }\n",
              "</style>\n",
              "<table border=\"1\" class=\"dataframe\">\n",
              "  <thead>\n",
              "    <tr style=\"text-align: right;\">\n",
              "      <th></th>\n",
              "      <th>CO_EQUIPAMENTO</th>\n",
              "      <th>CO_TIPO_EQUIPAMENTO</th>\n",
              "      <th>DS_EQUIPAMENTO</th>\n",
              "    </tr>\n",
              "  </thead>\n",
              "  <tbody>\n",
              "    <tr>\n",
              "      <th>7</th>\n",
              "      <td>1</td>\n",
              "      <td>1</td>\n",
              "      <td>Gama Camara</td>\n",
              "    </tr>\n",
              "    <tr>\n",
              "      <th>66</th>\n",
              "      <td>18</td>\n",
              "      <td>1</td>\n",
              "      <td>PET/CT</td>\n",
              "    </tr>\n",
              "  </tbody>\n",
              "</table>\n",
              "</div>"
            ],
            "text/plain": [
              "    CO_EQUIPAMENTO  CO_TIPO_EQUIPAMENTO DS_EQUIPAMENTO\n",
              "7                1                    1    Gama Camara\n",
              "66              18                    1         PET/CT"
            ]
          },
          "metadata": {
            "tags": []
          },
          "execution_count": 175
        }
      ]
    },
    {
      "cell_type": "markdown",
      "metadata": {
        "id": "FwkzryXo0WNO"
      },
      "source": [
        "# ARRAY DE ESTADOS PARA PESQUISA"
      ]
    },
    {
      "cell_type": "code",
      "metadata": {
        "id": "TH79GCPU0WNO"
      },
      "source": [
        "array_estados = np.array([\"AC\", \"AL\", \"AM\", \"AP\", \"BA\", \"CE\", \"DF\", \"ES\", \"GO\", \"MA\", \"MT\", \"MS\", \"MG\", \"PA\", \"PB\", \"PR\", \"PE\", \"PI\", \"RJ\", \"RN\", \"RO\", \"RS\", \"RR\", \"SC\", \"SE\", \"SP\", \"TO\"])\n",
        "pd.options.display.max_columns = None"
      ],
      "execution_count": 176,
      "outputs": []
    },
    {
      "cell_type": "markdown",
      "metadata": {
        "id": "jxKzMqdedzsL"
      },
      "source": [
        "# FUNÇÃO PARA RETIRAR ACENTOS"
      ]
    },
    {
      "cell_type": "code",
      "metadata": {
        "id": "G7pWCm4WdyPX"
      },
      "source": [
        "def removerAcentosECaracteresEspeciais(palavra):\n",
        "\n",
        "    # Unicode normalize transforma um caracter em seu equivalente em latin.\n",
        "    nfkd = unicodedata.normalize('NFKD', palavra)\n",
        "    palavraSemAcento = u\"\".join([c for c in nfkd if not unicodedata.combining(c)])\n",
        "\n",
        "    # Usa expressão regular para retornar a palavra apenas com números, letras e espaço\n",
        "    return re.sub('[^a-zA-Z0-9 \\\\\\]', '', palavraSemAcento)\n",
        "\n",
        "    #crédito: https://gist.github.com/boniattirodrigo/67429ada53b7337d2e79"
      ],
      "execution_count": 177,
      "outputs": []
    },
    {
      "cell_type": "markdown",
      "metadata": {
        "id": "kNg7yUhB0WNO"
      },
      "source": [
        "# MONTA O ARRAY DE LINKS DE EQUIPAMENTOS\n",
        "Todos os arquivos do ano de 2020, mês 12, todos os Estados Brasileiros."
      ]
    },
    {
      "cell_type": "code",
      "metadata": {
        "colab": {
          "base_uri": "https://localhost:8080/"
        },
        "id": "wPWtM9E80WNP",
        "outputId": "6e0a075a-67cd-4d12-9e12-98b80375e4f9"
      },
      "source": [
        "path_eq = 'https://datascience.ipen.br/~mario/CNESdados/200508_/Dados/EQ/CSVs/EQ'\n",
        "array_urls_eq = []\n",
        "campos_eq = ['CNES','CPF_CNPJ','CODEQUIP']\n",
        "\n",
        "for est in array_estados:\n",
        "    array_urls_eq.append(path_eq+\"\"+est+\"_2020.csv\")\n",
        "    print(array_urls_eq)\n"
      ],
      "execution_count": 178,
      "outputs": [
        {
          "output_type": "stream",
          "text": [
            "['https://datascience.ipen.br/~mario/CNESdados/200508_/Dados/EQ/CSVs/EQAC_2020.csv']\n",
            "['https://datascience.ipen.br/~mario/CNESdados/200508_/Dados/EQ/CSVs/EQAC_2020.csv', 'https://datascience.ipen.br/~mario/CNESdados/200508_/Dados/EQ/CSVs/EQAL_2020.csv']\n",
            "['https://datascience.ipen.br/~mario/CNESdados/200508_/Dados/EQ/CSVs/EQAC_2020.csv', 'https://datascience.ipen.br/~mario/CNESdados/200508_/Dados/EQ/CSVs/EQAL_2020.csv', 'https://datascience.ipen.br/~mario/CNESdados/200508_/Dados/EQ/CSVs/EQAM_2020.csv']\n",
            "['https://datascience.ipen.br/~mario/CNESdados/200508_/Dados/EQ/CSVs/EQAC_2020.csv', 'https://datascience.ipen.br/~mario/CNESdados/200508_/Dados/EQ/CSVs/EQAL_2020.csv', 'https://datascience.ipen.br/~mario/CNESdados/200508_/Dados/EQ/CSVs/EQAM_2020.csv', 'https://datascience.ipen.br/~mario/CNESdados/200508_/Dados/EQ/CSVs/EQAP_2020.csv']\n",
            "['https://datascience.ipen.br/~mario/CNESdados/200508_/Dados/EQ/CSVs/EQAC_2020.csv', 'https://datascience.ipen.br/~mario/CNESdados/200508_/Dados/EQ/CSVs/EQAL_2020.csv', 'https://datascience.ipen.br/~mario/CNESdados/200508_/Dados/EQ/CSVs/EQAM_2020.csv', 'https://datascience.ipen.br/~mario/CNESdados/200508_/Dados/EQ/CSVs/EQAP_2020.csv', 'https://datascience.ipen.br/~mario/CNESdados/200508_/Dados/EQ/CSVs/EQBA_2020.csv']\n",
            "['https://datascience.ipen.br/~mario/CNESdados/200508_/Dados/EQ/CSVs/EQAC_2020.csv', 'https://datascience.ipen.br/~mario/CNESdados/200508_/Dados/EQ/CSVs/EQAL_2020.csv', 'https://datascience.ipen.br/~mario/CNESdados/200508_/Dados/EQ/CSVs/EQAM_2020.csv', 'https://datascience.ipen.br/~mario/CNESdados/200508_/Dados/EQ/CSVs/EQAP_2020.csv', 'https://datascience.ipen.br/~mario/CNESdados/200508_/Dados/EQ/CSVs/EQBA_2020.csv', 'https://datascience.ipen.br/~mario/CNESdados/200508_/Dados/EQ/CSVs/EQCE_2020.csv']\n",
            "['https://datascience.ipen.br/~mario/CNESdados/200508_/Dados/EQ/CSVs/EQAC_2020.csv', 'https://datascience.ipen.br/~mario/CNESdados/200508_/Dados/EQ/CSVs/EQAL_2020.csv', 'https://datascience.ipen.br/~mario/CNESdados/200508_/Dados/EQ/CSVs/EQAM_2020.csv', 'https://datascience.ipen.br/~mario/CNESdados/200508_/Dados/EQ/CSVs/EQAP_2020.csv', 'https://datascience.ipen.br/~mario/CNESdados/200508_/Dados/EQ/CSVs/EQBA_2020.csv', 'https://datascience.ipen.br/~mario/CNESdados/200508_/Dados/EQ/CSVs/EQCE_2020.csv', 'https://datascience.ipen.br/~mario/CNESdados/200508_/Dados/EQ/CSVs/EQDF_2020.csv']\n",
            "['https://datascience.ipen.br/~mario/CNESdados/200508_/Dados/EQ/CSVs/EQAC_2020.csv', 'https://datascience.ipen.br/~mario/CNESdados/200508_/Dados/EQ/CSVs/EQAL_2020.csv', 'https://datascience.ipen.br/~mario/CNESdados/200508_/Dados/EQ/CSVs/EQAM_2020.csv', 'https://datascience.ipen.br/~mario/CNESdados/200508_/Dados/EQ/CSVs/EQAP_2020.csv', 'https://datascience.ipen.br/~mario/CNESdados/200508_/Dados/EQ/CSVs/EQBA_2020.csv', 'https://datascience.ipen.br/~mario/CNESdados/200508_/Dados/EQ/CSVs/EQCE_2020.csv', 'https://datascience.ipen.br/~mario/CNESdados/200508_/Dados/EQ/CSVs/EQDF_2020.csv', 'https://datascience.ipen.br/~mario/CNESdados/200508_/Dados/EQ/CSVs/EQES_2020.csv']\n",
            "['https://datascience.ipen.br/~mario/CNESdados/200508_/Dados/EQ/CSVs/EQAC_2020.csv', 'https://datascience.ipen.br/~mario/CNESdados/200508_/Dados/EQ/CSVs/EQAL_2020.csv', 'https://datascience.ipen.br/~mario/CNESdados/200508_/Dados/EQ/CSVs/EQAM_2020.csv', 'https://datascience.ipen.br/~mario/CNESdados/200508_/Dados/EQ/CSVs/EQAP_2020.csv', 'https://datascience.ipen.br/~mario/CNESdados/200508_/Dados/EQ/CSVs/EQBA_2020.csv', 'https://datascience.ipen.br/~mario/CNESdados/200508_/Dados/EQ/CSVs/EQCE_2020.csv', 'https://datascience.ipen.br/~mario/CNESdados/200508_/Dados/EQ/CSVs/EQDF_2020.csv', 'https://datascience.ipen.br/~mario/CNESdados/200508_/Dados/EQ/CSVs/EQES_2020.csv', 'https://datascience.ipen.br/~mario/CNESdados/200508_/Dados/EQ/CSVs/EQGO_2020.csv']\n",
            "['https://datascience.ipen.br/~mario/CNESdados/200508_/Dados/EQ/CSVs/EQAC_2020.csv', 'https://datascience.ipen.br/~mario/CNESdados/200508_/Dados/EQ/CSVs/EQAL_2020.csv', 'https://datascience.ipen.br/~mario/CNESdados/200508_/Dados/EQ/CSVs/EQAM_2020.csv', 'https://datascience.ipen.br/~mario/CNESdados/200508_/Dados/EQ/CSVs/EQAP_2020.csv', 'https://datascience.ipen.br/~mario/CNESdados/200508_/Dados/EQ/CSVs/EQBA_2020.csv', 'https://datascience.ipen.br/~mario/CNESdados/200508_/Dados/EQ/CSVs/EQCE_2020.csv', 'https://datascience.ipen.br/~mario/CNESdados/200508_/Dados/EQ/CSVs/EQDF_2020.csv', 'https://datascience.ipen.br/~mario/CNESdados/200508_/Dados/EQ/CSVs/EQES_2020.csv', 'https://datascience.ipen.br/~mario/CNESdados/200508_/Dados/EQ/CSVs/EQGO_2020.csv', 'https://datascience.ipen.br/~mario/CNESdados/200508_/Dados/EQ/CSVs/EQMA_2020.csv']\n",
            "['https://datascience.ipen.br/~mario/CNESdados/200508_/Dados/EQ/CSVs/EQAC_2020.csv', 'https://datascience.ipen.br/~mario/CNESdados/200508_/Dados/EQ/CSVs/EQAL_2020.csv', 'https://datascience.ipen.br/~mario/CNESdados/200508_/Dados/EQ/CSVs/EQAM_2020.csv', 'https://datascience.ipen.br/~mario/CNESdados/200508_/Dados/EQ/CSVs/EQAP_2020.csv', 'https://datascience.ipen.br/~mario/CNESdados/200508_/Dados/EQ/CSVs/EQBA_2020.csv', 'https://datascience.ipen.br/~mario/CNESdados/200508_/Dados/EQ/CSVs/EQCE_2020.csv', 'https://datascience.ipen.br/~mario/CNESdados/200508_/Dados/EQ/CSVs/EQDF_2020.csv', 'https://datascience.ipen.br/~mario/CNESdados/200508_/Dados/EQ/CSVs/EQES_2020.csv', 'https://datascience.ipen.br/~mario/CNESdados/200508_/Dados/EQ/CSVs/EQGO_2020.csv', 'https://datascience.ipen.br/~mario/CNESdados/200508_/Dados/EQ/CSVs/EQMA_2020.csv', 'https://datascience.ipen.br/~mario/CNESdados/200508_/Dados/EQ/CSVs/EQMT_2020.csv']\n",
            "['https://datascience.ipen.br/~mario/CNESdados/200508_/Dados/EQ/CSVs/EQAC_2020.csv', 'https://datascience.ipen.br/~mario/CNESdados/200508_/Dados/EQ/CSVs/EQAL_2020.csv', 'https://datascience.ipen.br/~mario/CNESdados/200508_/Dados/EQ/CSVs/EQAM_2020.csv', 'https://datascience.ipen.br/~mario/CNESdados/200508_/Dados/EQ/CSVs/EQAP_2020.csv', 'https://datascience.ipen.br/~mario/CNESdados/200508_/Dados/EQ/CSVs/EQBA_2020.csv', 'https://datascience.ipen.br/~mario/CNESdados/200508_/Dados/EQ/CSVs/EQCE_2020.csv', 'https://datascience.ipen.br/~mario/CNESdados/200508_/Dados/EQ/CSVs/EQDF_2020.csv', 'https://datascience.ipen.br/~mario/CNESdados/200508_/Dados/EQ/CSVs/EQES_2020.csv', 'https://datascience.ipen.br/~mario/CNESdados/200508_/Dados/EQ/CSVs/EQGO_2020.csv', 'https://datascience.ipen.br/~mario/CNESdados/200508_/Dados/EQ/CSVs/EQMA_2020.csv', 'https://datascience.ipen.br/~mario/CNESdados/200508_/Dados/EQ/CSVs/EQMT_2020.csv', 'https://datascience.ipen.br/~mario/CNESdados/200508_/Dados/EQ/CSVs/EQMS_2020.csv']\n",
            "['https://datascience.ipen.br/~mario/CNESdados/200508_/Dados/EQ/CSVs/EQAC_2020.csv', 'https://datascience.ipen.br/~mario/CNESdados/200508_/Dados/EQ/CSVs/EQAL_2020.csv', 'https://datascience.ipen.br/~mario/CNESdados/200508_/Dados/EQ/CSVs/EQAM_2020.csv', 'https://datascience.ipen.br/~mario/CNESdados/200508_/Dados/EQ/CSVs/EQAP_2020.csv', 'https://datascience.ipen.br/~mario/CNESdados/200508_/Dados/EQ/CSVs/EQBA_2020.csv', 'https://datascience.ipen.br/~mario/CNESdados/200508_/Dados/EQ/CSVs/EQCE_2020.csv', 'https://datascience.ipen.br/~mario/CNESdados/200508_/Dados/EQ/CSVs/EQDF_2020.csv', 'https://datascience.ipen.br/~mario/CNESdados/200508_/Dados/EQ/CSVs/EQES_2020.csv', 'https://datascience.ipen.br/~mario/CNESdados/200508_/Dados/EQ/CSVs/EQGO_2020.csv', 'https://datascience.ipen.br/~mario/CNESdados/200508_/Dados/EQ/CSVs/EQMA_2020.csv', 'https://datascience.ipen.br/~mario/CNESdados/200508_/Dados/EQ/CSVs/EQMT_2020.csv', 'https://datascience.ipen.br/~mario/CNESdados/200508_/Dados/EQ/CSVs/EQMS_2020.csv', 'https://datascience.ipen.br/~mario/CNESdados/200508_/Dados/EQ/CSVs/EQMG_2020.csv']\n",
            "['https://datascience.ipen.br/~mario/CNESdados/200508_/Dados/EQ/CSVs/EQAC_2020.csv', 'https://datascience.ipen.br/~mario/CNESdados/200508_/Dados/EQ/CSVs/EQAL_2020.csv', 'https://datascience.ipen.br/~mario/CNESdados/200508_/Dados/EQ/CSVs/EQAM_2020.csv', 'https://datascience.ipen.br/~mario/CNESdados/200508_/Dados/EQ/CSVs/EQAP_2020.csv', 'https://datascience.ipen.br/~mario/CNESdados/200508_/Dados/EQ/CSVs/EQBA_2020.csv', 'https://datascience.ipen.br/~mario/CNESdados/200508_/Dados/EQ/CSVs/EQCE_2020.csv', 'https://datascience.ipen.br/~mario/CNESdados/200508_/Dados/EQ/CSVs/EQDF_2020.csv', 'https://datascience.ipen.br/~mario/CNESdados/200508_/Dados/EQ/CSVs/EQES_2020.csv', 'https://datascience.ipen.br/~mario/CNESdados/200508_/Dados/EQ/CSVs/EQGO_2020.csv', 'https://datascience.ipen.br/~mario/CNESdados/200508_/Dados/EQ/CSVs/EQMA_2020.csv', 'https://datascience.ipen.br/~mario/CNESdados/200508_/Dados/EQ/CSVs/EQMT_2020.csv', 'https://datascience.ipen.br/~mario/CNESdados/200508_/Dados/EQ/CSVs/EQMS_2020.csv', 'https://datascience.ipen.br/~mario/CNESdados/200508_/Dados/EQ/CSVs/EQMG_2020.csv', 'https://datascience.ipen.br/~mario/CNESdados/200508_/Dados/EQ/CSVs/EQPA_2020.csv']\n",
            "['https://datascience.ipen.br/~mario/CNESdados/200508_/Dados/EQ/CSVs/EQAC_2020.csv', 'https://datascience.ipen.br/~mario/CNESdados/200508_/Dados/EQ/CSVs/EQAL_2020.csv', 'https://datascience.ipen.br/~mario/CNESdados/200508_/Dados/EQ/CSVs/EQAM_2020.csv', 'https://datascience.ipen.br/~mario/CNESdados/200508_/Dados/EQ/CSVs/EQAP_2020.csv', 'https://datascience.ipen.br/~mario/CNESdados/200508_/Dados/EQ/CSVs/EQBA_2020.csv', 'https://datascience.ipen.br/~mario/CNESdados/200508_/Dados/EQ/CSVs/EQCE_2020.csv', 'https://datascience.ipen.br/~mario/CNESdados/200508_/Dados/EQ/CSVs/EQDF_2020.csv', 'https://datascience.ipen.br/~mario/CNESdados/200508_/Dados/EQ/CSVs/EQES_2020.csv', 'https://datascience.ipen.br/~mario/CNESdados/200508_/Dados/EQ/CSVs/EQGO_2020.csv', 'https://datascience.ipen.br/~mario/CNESdados/200508_/Dados/EQ/CSVs/EQMA_2020.csv', 'https://datascience.ipen.br/~mario/CNESdados/200508_/Dados/EQ/CSVs/EQMT_2020.csv', 'https://datascience.ipen.br/~mario/CNESdados/200508_/Dados/EQ/CSVs/EQMS_2020.csv', 'https://datascience.ipen.br/~mario/CNESdados/200508_/Dados/EQ/CSVs/EQMG_2020.csv', 'https://datascience.ipen.br/~mario/CNESdados/200508_/Dados/EQ/CSVs/EQPA_2020.csv', 'https://datascience.ipen.br/~mario/CNESdados/200508_/Dados/EQ/CSVs/EQPB_2020.csv']\n",
            "['https://datascience.ipen.br/~mario/CNESdados/200508_/Dados/EQ/CSVs/EQAC_2020.csv', 'https://datascience.ipen.br/~mario/CNESdados/200508_/Dados/EQ/CSVs/EQAL_2020.csv', 'https://datascience.ipen.br/~mario/CNESdados/200508_/Dados/EQ/CSVs/EQAM_2020.csv', 'https://datascience.ipen.br/~mario/CNESdados/200508_/Dados/EQ/CSVs/EQAP_2020.csv', 'https://datascience.ipen.br/~mario/CNESdados/200508_/Dados/EQ/CSVs/EQBA_2020.csv', 'https://datascience.ipen.br/~mario/CNESdados/200508_/Dados/EQ/CSVs/EQCE_2020.csv', 'https://datascience.ipen.br/~mario/CNESdados/200508_/Dados/EQ/CSVs/EQDF_2020.csv', 'https://datascience.ipen.br/~mario/CNESdados/200508_/Dados/EQ/CSVs/EQES_2020.csv', 'https://datascience.ipen.br/~mario/CNESdados/200508_/Dados/EQ/CSVs/EQGO_2020.csv', 'https://datascience.ipen.br/~mario/CNESdados/200508_/Dados/EQ/CSVs/EQMA_2020.csv', 'https://datascience.ipen.br/~mario/CNESdados/200508_/Dados/EQ/CSVs/EQMT_2020.csv', 'https://datascience.ipen.br/~mario/CNESdados/200508_/Dados/EQ/CSVs/EQMS_2020.csv', 'https://datascience.ipen.br/~mario/CNESdados/200508_/Dados/EQ/CSVs/EQMG_2020.csv', 'https://datascience.ipen.br/~mario/CNESdados/200508_/Dados/EQ/CSVs/EQPA_2020.csv', 'https://datascience.ipen.br/~mario/CNESdados/200508_/Dados/EQ/CSVs/EQPB_2020.csv', 'https://datascience.ipen.br/~mario/CNESdados/200508_/Dados/EQ/CSVs/EQPR_2020.csv']\n",
            "['https://datascience.ipen.br/~mario/CNESdados/200508_/Dados/EQ/CSVs/EQAC_2020.csv', 'https://datascience.ipen.br/~mario/CNESdados/200508_/Dados/EQ/CSVs/EQAL_2020.csv', 'https://datascience.ipen.br/~mario/CNESdados/200508_/Dados/EQ/CSVs/EQAM_2020.csv', 'https://datascience.ipen.br/~mario/CNESdados/200508_/Dados/EQ/CSVs/EQAP_2020.csv', 'https://datascience.ipen.br/~mario/CNESdados/200508_/Dados/EQ/CSVs/EQBA_2020.csv', 'https://datascience.ipen.br/~mario/CNESdados/200508_/Dados/EQ/CSVs/EQCE_2020.csv', 'https://datascience.ipen.br/~mario/CNESdados/200508_/Dados/EQ/CSVs/EQDF_2020.csv', 'https://datascience.ipen.br/~mario/CNESdados/200508_/Dados/EQ/CSVs/EQES_2020.csv', 'https://datascience.ipen.br/~mario/CNESdados/200508_/Dados/EQ/CSVs/EQGO_2020.csv', 'https://datascience.ipen.br/~mario/CNESdados/200508_/Dados/EQ/CSVs/EQMA_2020.csv', 'https://datascience.ipen.br/~mario/CNESdados/200508_/Dados/EQ/CSVs/EQMT_2020.csv', 'https://datascience.ipen.br/~mario/CNESdados/200508_/Dados/EQ/CSVs/EQMS_2020.csv', 'https://datascience.ipen.br/~mario/CNESdados/200508_/Dados/EQ/CSVs/EQMG_2020.csv', 'https://datascience.ipen.br/~mario/CNESdados/200508_/Dados/EQ/CSVs/EQPA_2020.csv', 'https://datascience.ipen.br/~mario/CNESdados/200508_/Dados/EQ/CSVs/EQPB_2020.csv', 'https://datascience.ipen.br/~mario/CNESdados/200508_/Dados/EQ/CSVs/EQPR_2020.csv', 'https://datascience.ipen.br/~mario/CNESdados/200508_/Dados/EQ/CSVs/EQPE_2020.csv']\n",
            "['https://datascience.ipen.br/~mario/CNESdados/200508_/Dados/EQ/CSVs/EQAC_2020.csv', 'https://datascience.ipen.br/~mario/CNESdados/200508_/Dados/EQ/CSVs/EQAL_2020.csv', 'https://datascience.ipen.br/~mario/CNESdados/200508_/Dados/EQ/CSVs/EQAM_2020.csv', 'https://datascience.ipen.br/~mario/CNESdados/200508_/Dados/EQ/CSVs/EQAP_2020.csv', 'https://datascience.ipen.br/~mario/CNESdados/200508_/Dados/EQ/CSVs/EQBA_2020.csv', 'https://datascience.ipen.br/~mario/CNESdados/200508_/Dados/EQ/CSVs/EQCE_2020.csv', 'https://datascience.ipen.br/~mario/CNESdados/200508_/Dados/EQ/CSVs/EQDF_2020.csv', 'https://datascience.ipen.br/~mario/CNESdados/200508_/Dados/EQ/CSVs/EQES_2020.csv', 'https://datascience.ipen.br/~mario/CNESdados/200508_/Dados/EQ/CSVs/EQGO_2020.csv', 'https://datascience.ipen.br/~mario/CNESdados/200508_/Dados/EQ/CSVs/EQMA_2020.csv', 'https://datascience.ipen.br/~mario/CNESdados/200508_/Dados/EQ/CSVs/EQMT_2020.csv', 'https://datascience.ipen.br/~mario/CNESdados/200508_/Dados/EQ/CSVs/EQMS_2020.csv', 'https://datascience.ipen.br/~mario/CNESdados/200508_/Dados/EQ/CSVs/EQMG_2020.csv', 'https://datascience.ipen.br/~mario/CNESdados/200508_/Dados/EQ/CSVs/EQPA_2020.csv', 'https://datascience.ipen.br/~mario/CNESdados/200508_/Dados/EQ/CSVs/EQPB_2020.csv', 'https://datascience.ipen.br/~mario/CNESdados/200508_/Dados/EQ/CSVs/EQPR_2020.csv', 'https://datascience.ipen.br/~mario/CNESdados/200508_/Dados/EQ/CSVs/EQPE_2020.csv', 'https://datascience.ipen.br/~mario/CNESdados/200508_/Dados/EQ/CSVs/EQPI_2020.csv']\n",
            "['https://datascience.ipen.br/~mario/CNESdados/200508_/Dados/EQ/CSVs/EQAC_2020.csv', 'https://datascience.ipen.br/~mario/CNESdados/200508_/Dados/EQ/CSVs/EQAL_2020.csv', 'https://datascience.ipen.br/~mario/CNESdados/200508_/Dados/EQ/CSVs/EQAM_2020.csv', 'https://datascience.ipen.br/~mario/CNESdados/200508_/Dados/EQ/CSVs/EQAP_2020.csv', 'https://datascience.ipen.br/~mario/CNESdados/200508_/Dados/EQ/CSVs/EQBA_2020.csv', 'https://datascience.ipen.br/~mario/CNESdados/200508_/Dados/EQ/CSVs/EQCE_2020.csv', 'https://datascience.ipen.br/~mario/CNESdados/200508_/Dados/EQ/CSVs/EQDF_2020.csv', 'https://datascience.ipen.br/~mario/CNESdados/200508_/Dados/EQ/CSVs/EQES_2020.csv', 'https://datascience.ipen.br/~mario/CNESdados/200508_/Dados/EQ/CSVs/EQGO_2020.csv', 'https://datascience.ipen.br/~mario/CNESdados/200508_/Dados/EQ/CSVs/EQMA_2020.csv', 'https://datascience.ipen.br/~mario/CNESdados/200508_/Dados/EQ/CSVs/EQMT_2020.csv', 'https://datascience.ipen.br/~mario/CNESdados/200508_/Dados/EQ/CSVs/EQMS_2020.csv', 'https://datascience.ipen.br/~mario/CNESdados/200508_/Dados/EQ/CSVs/EQMG_2020.csv', 'https://datascience.ipen.br/~mario/CNESdados/200508_/Dados/EQ/CSVs/EQPA_2020.csv', 'https://datascience.ipen.br/~mario/CNESdados/200508_/Dados/EQ/CSVs/EQPB_2020.csv', 'https://datascience.ipen.br/~mario/CNESdados/200508_/Dados/EQ/CSVs/EQPR_2020.csv', 'https://datascience.ipen.br/~mario/CNESdados/200508_/Dados/EQ/CSVs/EQPE_2020.csv', 'https://datascience.ipen.br/~mario/CNESdados/200508_/Dados/EQ/CSVs/EQPI_2020.csv', 'https://datascience.ipen.br/~mario/CNESdados/200508_/Dados/EQ/CSVs/EQRJ_2020.csv']\n",
            "['https://datascience.ipen.br/~mario/CNESdados/200508_/Dados/EQ/CSVs/EQAC_2020.csv', 'https://datascience.ipen.br/~mario/CNESdados/200508_/Dados/EQ/CSVs/EQAL_2020.csv', 'https://datascience.ipen.br/~mario/CNESdados/200508_/Dados/EQ/CSVs/EQAM_2020.csv', 'https://datascience.ipen.br/~mario/CNESdados/200508_/Dados/EQ/CSVs/EQAP_2020.csv', 'https://datascience.ipen.br/~mario/CNESdados/200508_/Dados/EQ/CSVs/EQBA_2020.csv', 'https://datascience.ipen.br/~mario/CNESdados/200508_/Dados/EQ/CSVs/EQCE_2020.csv', 'https://datascience.ipen.br/~mario/CNESdados/200508_/Dados/EQ/CSVs/EQDF_2020.csv', 'https://datascience.ipen.br/~mario/CNESdados/200508_/Dados/EQ/CSVs/EQES_2020.csv', 'https://datascience.ipen.br/~mario/CNESdados/200508_/Dados/EQ/CSVs/EQGO_2020.csv', 'https://datascience.ipen.br/~mario/CNESdados/200508_/Dados/EQ/CSVs/EQMA_2020.csv', 'https://datascience.ipen.br/~mario/CNESdados/200508_/Dados/EQ/CSVs/EQMT_2020.csv', 'https://datascience.ipen.br/~mario/CNESdados/200508_/Dados/EQ/CSVs/EQMS_2020.csv', 'https://datascience.ipen.br/~mario/CNESdados/200508_/Dados/EQ/CSVs/EQMG_2020.csv', 'https://datascience.ipen.br/~mario/CNESdados/200508_/Dados/EQ/CSVs/EQPA_2020.csv', 'https://datascience.ipen.br/~mario/CNESdados/200508_/Dados/EQ/CSVs/EQPB_2020.csv', 'https://datascience.ipen.br/~mario/CNESdados/200508_/Dados/EQ/CSVs/EQPR_2020.csv', 'https://datascience.ipen.br/~mario/CNESdados/200508_/Dados/EQ/CSVs/EQPE_2020.csv', 'https://datascience.ipen.br/~mario/CNESdados/200508_/Dados/EQ/CSVs/EQPI_2020.csv', 'https://datascience.ipen.br/~mario/CNESdados/200508_/Dados/EQ/CSVs/EQRJ_2020.csv', 'https://datascience.ipen.br/~mario/CNESdados/200508_/Dados/EQ/CSVs/EQRN_2020.csv']\n",
            "['https://datascience.ipen.br/~mario/CNESdados/200508_/Dados/EQ/CSVs/EQAC_2020.csv', 'https://datascience.ipen.br/~mario/CNESdados/200508_/Dados/EQ/CSVs/EQAL_2020.csv', 'https://datascience.ipen.br/~mario/CNESdados/200508_/Dados/EQ/CSVs/EQAM_2020.csv', 'https://datascience.ipen.br/~mario/CNESdados/200508_/Dados/EQ/CSVs/EQAP_2020.csv', 'https://datascience.ipen.br/~mario/CNESdados/200508_/Dados/EQ/CSVs/EQBA_2020.csv', 'https://datascience.ipen.br/~mario/CNESdados/200508_/Dados/EQ/CSVs/EQCE_2020.csv', 'https://datascience.ipen.br/~mario/CNESdados/200508_/Dados/EQ/CSVs/EQDF_2020.csv', 'https://datascience.ipen.br/~mario/CNESdados/200508_/Dados/EQ/CSVs/EQES_2020.csv', 'https://datascience.ipen.br/~mario/CNESdados/200508_/Dados/EQ/CSVs/EQGO_2020.csv', 'https://datascience.ipen.br/~mario/CNESdados/200508_/Dados/EQ/CSVs/EQMA_2020.csv', 'https://datascience.ipen.br/~mario/CNESdados/200508_/Dados/EQ/CSVs/EQMT_2020.csv', 'https://datascience.ipen.br/~mario/CNESdados/200508_/Dados/EQ/CSVs/EQMS_2020.csv', 'https://datascience.ipen.br/~mario/CNESdados/200508_/Dados/EQ/CSVs/EQMG_2020.csv', 'https://datascience.ipen.br/~mario/CNESdados/200508_/Dados/EQ/CSVs/EQPA_2020.csv', 'https://datascience.ipen.br/~mario/CNESdados/200508_/Dados/EQ/CSVs/EQPB_2020.csv', 'https://datascience.ipen.br/~mario/CNESdados/200508_/Dados/EQ/CSVs/EQPR_2020.csv', 'https://datascience.ipen.br/~mario/CNESdados/200508_/Dados/EQ/CSVs/EQPE_2020.csv', 'https://datascience.ipen.br/~mario/CNESdados/200508_/Dados/EQ/CSVs/EQPI_2020.csv', 'https://datascience.ipen.br/~mario/CNESdados/200508_/Dados/EQ/CSVs/EQRJ_2020.csv', 'https://datascience.ipen.br/~mario/CNESdados/200508_/Dados/EQ/CSVs/EQRN_2020.csv', 'https://datascience.ipen.br/~mario/CNESdados/200508_/Dados/EQ/CSVs/EQRO_2020.csv']\n",
            "['https://datascience.ipen.br/~mario/CNESdados/200508_/Dados/EQ/CSVs/EQAC_2020.csv', 'https://datascience.ipen.br/~mario/CNESdados/200508_/Dados/EQ/CSVs/EQAL_2020.csv', 'https://datascience.ipen.br/~mario/CNESdados/200508_/Dados/EQ/CSVs/EQAM_2020.csv', 'https://datascience.ipen.br/~mario/CNESdados/200508_/Dados/EQ/CSVs/EQAP_2020.csv', 'https://datascience.ipen.br/~mario/CNESdados/200508_/Dados/EQ/CSVs/EQBA_2020.csv', 'https://datascience.ipen.br/~mario/CNESdados/200508_/Dados/EQ/CSVs/EQCE_2020.csv', 'https://datascience.ipen.br/~mario/CNESdados/200508_/Dados/EQ/CSVs/EQDF_2020.csv', 'https://datascience.ipen.br/~mario/CNESdados/200508_/Dados/EQ/CSVs/EQES_2020.csv', 'https://datascience.ipen.br/~mario/CNESdados/200508_/Dados/EQ/CSVs/EQGO_2020.csv', 'https://datascience.ipen.br/~mario/CNESdados/200508_/Dados/EQ/CSVs/EQMA_2020.csv', 'https://datascience.ipen.br/~mario/CNESdados/200508_/Dados/EQ/CSVs/EQMT_2020.csv', 'https://datascience.ipen.br/~mario/CNESdados/200508_/Dados/EQ/CSVs/EQMS_2020.csv', 'https://datascience.ipen.br/~mario/CNESdados/200508_/Dados/EQ/CSVs/EQMG_2020.csv', 'https://datascience.ipen.br/~mario/CNESdados/200508_/Dados/EQ/CSVs/EQPA_2020.csv', 'https://datascience.ipen.br/~mario/CNESdados/200508_/Dados/EQ/CSVs/EQPB_2020.csv', 'https://datascience.ipen.br/~mario/CNESdados/200508_/Dados/EQ/CSVs/EQPR_2020.csv', 'https://datascience.ipen.br/~mario/CNESdados/200508_/Dados/EQ/CSVs/EQPE_2020.csv', 'https://datascience.ipen.br/~mario/CNESdados/200508_/Dados/EQ/CSVs/EQPI_2020.csv', 'https://datascience.ipen.br/~mario/CNESdados/200508_/Dados/EQ/CSVs/EQRJ_2020.csv', 'https://datascience.ipen.br/~mario/CNESdados/200508_/Dados/EQ/CSVs/EQRN_2020.csv', 'https://datascience.ipen.br/~mario/CNESdados/200508_/Dados/EQ/CSVs/EQRO_2020.csv', 'https://datascience.ipen.br/~mario/CNESdados/200508_/Dados/EQ/CSVs/EQRS_2020.csv']\n",
            "['https://datascience.ipen.br/~mario/CNESdados/200508_/Dados/EQ/CSVs/EQAC_2020.csv', 'https://datascience.ipen.br/~mario/CNESdados/200508_/Dados/EQ/CSVs/EQAL_2020.csv', 'https://datascience.ipen.br/~mario/CNESdados/200508_/Dados/EQ/CSVs/EQAM_2020.csv', 'https://datascience.ipen.br/~mario/CNESdados/200508_/Dados/EQ/CSVs/EQAP_2020.csv', 'https://datascience.ipen.br/~mario/CNESdados/200508_/Dados/EQ/CSVs/EQBA_2020.csv', 'https://datascience.ipen.br/~mario/CNESdados/200508_/Dados/EQ/CSVs/EQCE_2020.csv', 'https://datascience.ipen.br/~mario/CNESdados/200508_/Dados/EQ/CSVs/EQDF_2020.csv', 'https://datascience.ipen.br/~mario/CNESdados/200508_/Dados/EQ/CSVs/EQES_2020.csv', 'https://datascience.ipen.br/~mario/CNESdados/200508_/Dados/EQ/CSVs/EQGO_2020.csv', 'https://datascience.ipen.br/~mario/CNESdados/200508_/Dados/EQ/CSVs/EQMA_2020.csv', 'https://datascience.ipen.br/~mario/CNESdados/200508_/Dados/EQ/CSVs/EQMT_2020.csv', 'https://datascience.ipen.br/~mario/CNESdados/200508_/Dados/EQ/CSVs/EQMS_2020.csv', 'https://datascience.ipen.br/~mario/CNESdados/200508_/Dados/EQ/CSVs/EQMG_2020.csv', 'https://datascience.ipen.br/~mario/CNESdados/200508_/Dados/EQ/CSVs/EQPA_2020.csv', 'https://datascience.ipen.br/~mario/CNESdados/200508_/Dados/EQ/CSVs/EQPB_2020.csv', 'https://datascience.ipen.br/~mario/CNESdados/200508_/Dados/EQ/CSVs/EQPR_2020.csv', 'https://datascience.ipen.br/~mario/CNESdados/200508_/Dados/EQ/CSVs/EQPE_2020.csv', 'https://datascience.ipen.br/~mario/CNESdados/200508_/Dados/EQ/CSVs/EQPI_2020.csv', 'https://datascience.ipen.br/~mario/CNESdados/200508_/Dados/EQ/CSVs/EQRJ_2020.csv', 'https://datascience.ipen.br/~mario/CNESdados/200508_/Dados/EQ/CSVs/EQRN_2020.csv', 'https://datascience.ipen.br/~mario/CNESdados/200508_/Dados/EQ/CSVs/EQRO_2020.csv', 'https://datascience.ipen.br/~mario/CNESdados/200508_/Dados/EQ/CSVs/EQRS_2020.csv', 'https://datascience.ipen.br/~mario/CNESdados/200508_/Dados/EQ/CSVs/EQRR_2020.csv']\n",
            "['https://datascience.ipen.br/~mario/CNESdados/200508_/Dados/EQ/CSVs/EQAC_2020.csv', 'https://datascience.ipen.br/~mario/CNESdados/200508_/Dados/EQ/CSVs/EQAL_2020.csv', 'https://datascience.ipen.br/~mario/CNESdados/200508_/Dados/EQ/CSVs/EQAM_2020.csv', 'https://datascience.ipen.br/~mario/CNESdados/200508_/Dados/EQ/CSVs/EQAP_2020.csv', 'https://datascience.ipen.br/~mario/CNESdados/200508_/Dados/EQ/CSVs/EQBA_2020.csv', 'https://datascience.ipen.br/~mario/CNESdados/200508_/Dados/EQ/CSVs/EQCE_2020.csv', 'https://datascience.ipen.br/~mario/CNESdados/200508_/Dados/EQ/CSVs/EQDF_2020.csv', 'https://datascience.ipen.br/~mario/CNESdados/200508_/Dados/EQ/CSVs/EQES_2020.csv', 'https://datascience.ipen.br/~mario/CNESdados/200508_/Dados/EQ/CSVs/EQGO_2020.csv', 'https://datascience.ipen.br/~mario/CNESdados/200508_/Dados/EQ/CSVs/EQMA_2020.csv', 'https://datascience.ipen.br/~mario/CNESdados/200508_/Dados/EQ/CSVs/EQMT_2020.csv', 'https://datascience.ipen.br/~mario/CNESdados/200508_/Dados/EQ/CSVs/EQMS_2020.csv', 'https://datascience.ipen.br/~mario/CNESdados/200508_/Dados/EQ/CSVs/EQMG_2020.csv', 'https://datascience.ipen.br/~mario/CNESdados/200508_/Dados/EQ/CSVs/EQPA_2020.csv', 'https://datascience.ipen.br/~mario/CNESdados/200508_/Dados/EQ/CSVs/EQPB_2020.csv', 'https://datascience.ipen.br/~mario/CNESdados/200508_/Dados/EQ/CSVs/EQPR_2020.csv', 'https://datascience.ipen.br/~mario/CNESdados/200508_/Dados/EQ/CSVs/EQPE_2020.csv', 'https://datascience.ipen.br/~mario/CNESdados/200508_/Dados/EQ/CSVs/EQPI_2020.csv', 'https://datascience.ipen.br/~mario/CNESdados/200508_/Dados/EQ/CSVs/EQRJ_2020.csv', 'https://datascience.ipen.br/~mario/CNESdados/200508_/Dados/EQ/CSVs/EQRN_2020.csv', 'https://datascience.ipen.br/~mario/CNESdados/200508_/Dados/EQ/CSVs/EQRO_2020.csv', 'https://datascience.ipen.br/~mario/CNESdados/200508_/Dados/EQ/CSVs/EQRS_2020.csv', 'https://datascience.ipen.br/~mario/CNESdados/200508_/Dados/EQ/CSVs/EQRR_2020.csv', 'https://datascience.ipen.br/~mario/CNESdados/200508_/Dados/EQ/CSVs/EQSC_2020.csv']\n",
            "['https://datascience.ipen.br/~mario/CNESdados/200508_/Dados/EQ/CSVs/EQAC_2020.csv', 'https://datascience.ipen.br/~mario/CNESdados/200508_/Dados/EQ/CSVs/EQAL_2020.csv', 'https://datascience.ipen.br/~mario/CNESdados/200508_/Dados/EQ/CSVs/EQAM_2020.csv', 'https://datascience.ipen.br/~mario/CNESdados/200508_/Dados/EQ/CSVs/EQAP_2020.csv', 'https://datascience.ipen.br/~mario/CNESdados/200508_/Dados/EQ/CSVs/EQBA_2020.csv', 'https://datascience.ipen.br/~mario/CNESdados/200508_/Dados/EQ/CSVs/EQCE_2020.csv', 'https://datascience.ipen.br/~mario/CNESdados/200508_/Dados/EQ/CSVs/EQDF_2020.csv', 'https://datascience.ipen.br/~mario/CNESdados/200508_/Dados/EQ/CSVs/EQES_2020.csv', 'https://datascience.ipen.br/~mario/CNESdados/200508_/Dados/EQ/CSVs/EQGO_2020.csv', 'https://datascience.ipen.br/~mario/CNESdados/200508_/Dados/EQ/CSVs/EQMA_2020.csv', 'https://datascience.ipen.br/~mario/CNESdados/200508_/Dados/EQ/CSVs/EQMT_2020.csv', 'https://datascience.ipen.br/~mario/CNESdados/200508_/Dados/EQ/CSVs/EQMS_2020.csv', 'https://datascience.ipen.br/~mario/CNESdados/200508_/Dados/EQ/CSVs/EQMG_2020.csv', 'https://datascience.ipen.br/~mario/CNESdados/200508_/Dados/EQ/CSVs/EQPA_2020.csv', 'https://datascience.ipen.br/~mario/CNESdados/200508_/Dados/EQ/CSVs/EQPB_2020.csv', 'https://datascience.ipen.br/~mario/CNESdados/200508_/Dados/EQ/CSVs/EQPR_2020.csv', 'https://datascience.ipen.br/~mario/CNESdados/200508_/Dados/EQ/CSVs/EQPE_2020.csv', 'https://datascience.ipen.br/~mario/CNESdados/200508_/Dados/EQ/CSVs/EQPI_2020.csv', 'https://datascience.ipen.br/~mario/CNESdados/200508_/Dados/EQ/CSVs/EQRJ_2020.csv', 'https://datascience.ipen.br/~mario/CNESdados/200508_/Dados/EQ/CSVs/EQRN_2020.csv', 'https://datascience.ipen.br/~mario/CNESdados/200508_/Dados/EQ/CSVs/EQRO_2020.csv', 'https://datascience.ipen.br/~mario/CNESdados/200508_/Dados/EQ/CSVs/EQRS_2020.csv', 'https://datascience.ipen.br/~mario/CNESdados/200508_/Dados/EQ/CSVs/EQRR_2020.csv', 'https://datascience.ipen.br/~mario/CNESdados/200508_/Dados/EQ/CSVs/EQSC_2020.csv', 'https://datascience.ipen.br/~mario/CNESdados/200508_/Dados/EQ/CSVs/EQSE_2020.csv']\n",
            "['https://datascience.ipen.br/~mario/CNESdados/200508_/Dados/EQ/CSVs/EQAC_2020.csv', 'https://datascience.ipen.br/~mario/CNESdados/200508_/Dados/EQ/CSVs/EQAL_2020.csv', 'https://datascience.ipen.br/~mario/CNESdados/200508_/Dados/EQ/CSVs/EQAM_2020.csv', 'https://datascience.ipen.br/~mario/CNESdados/200508_/Dados/EQ/CSVs/EQAP_2020.csv', 'https://datascience.ipen.br/~mario/CNESdados/200508_/Dados/EQ/CSVs/EQBA_2020.csv', 'https://datascience.ipen.br/~mario/CNESdados/200508_/Dados/EQ/CSVs/EQCE_2020.csv', 'https://datascience.ipen.br/~mario/CNESdados/200508_/Dados/EQ/CSVs/EQDF_2020.csv', 'https://datascience.ipen.br/~mario/CNESdados/200508_/Dados/EQ/CSVs/EQES_2020.csv', 'https://datascience.ipen.br/~mario/CNESdados/200508_/Dados/EQ/CSVs/EQGO_2020.csv', 'https://datascience.ipen.br/~mario/CNESdados/200508_/Dados/EQ/CSVs/EQMA_2020.csv', 'https://datascience.ipen.br/~mario/CNESdados/200508_/Dados/EQ/CSVs/EQMT_2020.csv', 'https://datascience.ipen.br/~mario/CNESdados/200508_/Dados/EQ/CSVs/EQMS_2020.csv', 'https://datascience.ipen.br/~mario/CNESdados/200508_/Dados/EQ/CSVs/EQMG_2020.csv', 'https://datascience.ipen.br/~mario/CNESdados/200508_/Dados/EQ/CSVs/EQPA_2020.csv', 'https://datascience.ipen.br/~mario/CNESdados/200508_/Dados/EQ/CSVs/EQPB_2020.csv', 'https://datascience.ipen.br/~mario/CNESdados/200508_/Dados/EQ/CSVs/EQPR_2020.csv', 'https://datascience.ipen.br/~mario/CNESdados/200508_/Dados/EQ/CSVs/EQPE_2020.csv', 'https://datascience.ipen.br/~mario/CNESdados/200508_/Dados/EQ/CSVs/EQPI_2020.csv', 'https://datascience.ipen.br/~mario/CNESdados/200508_/Dados/EQ/CSVs/EQRJ_2020.csv', 'https://datascience.ipen.br/~mario/CNESdados/200508_/Dados/EQ/CSVs/EQRN_2020.csv', 'https://datascience.ipen.br/~mario/CNESdados/200508_/Dados/EQ/CSVs/EQRO_2020.csv', 'https://datascience.ipen.br/~mario/CNESdados/200508_/Dados/EQ/CSVs/EQRS_2020.csv', 'https://datascience.ipen.br/~mario/CNESdados/200508_/Dados/EQ/CSVs/EQRR_2020.csv', 'https://datascience.ipen.br/~mario/CNESdados/200508_/Dados/EQ/CSVs/EQSC_2020.csv', 'https://datascience.ipen.br/~mario/CNESdados/200508_/Dados/EQ/CSVs/EQSE_2020.csv', 'https://datascience.ipen.br/~mario/CNESdados/200508_/Dados/EQ/CSVs/EQSP_2020.csv']\n",
            "['https://datascience.ipen.br/~mario/CNESdados/200508_/Dados/EQ/CSVs/EQAC_2020.csv', 'https://datascience.ipen.br/~mario/CNESdados/200508_/Dados/EQ/CSVs/EQAL_2020.csv', 'https://datascience.ipen.br/~mario/CNESdados/200508_/Dados/EQ/CSVs/EQAM_2020.csv', 'https://datascience.ipen.br/~mario/CNESdados/200508_/Dados/EQ/CSVs/EQAP_2020.csv', 'https://datascience.ipen.br/~mario/CNESdados/200508_/Dados/EQ/CSVs/EQBA_2020.csv', 'https://datascience.ipen.br/~mario/CNESdados/200508_/Dados/EQ/CSVs/EQCE_2020.csv', 'https://datascience.ipen.br/~mario/CNESdados/200508_/Dados/EQ/CSVs/EQDF_2020.csv', 'https://datascience.ipen.br/~mario/CNESdados/200508_/Dados/EQ/CSVs/EQES_2020.csv', 'https://datascience.ipen.br/~mario/CNESdados/200508_/Dados/EQ/CSVs/EQGO_2020.csv', 'https://datascience.ipen.br/~mario/CNESdados/200508_/Dados/EQ/CSVs/EQMA_2020.csv', 'https://datascience.ipen.br/~mario/CNESdados/200508_/Dados/EQ/CSVs/EQMT_2020.csv', 'https://datascience.ipen.br/~mario/CNESdados/200508_/Dados/EQ/CSVs/EQMS_2020.csv', 'https://datascience.ipen.br/~mario/CNESdados/200508_/Dados/EQ/CSVs/EQMG_2020.csv', 'https://datascience.ipen.br/~mario/CNESdados/200508_/Dados/EQ/CSVs/EQPA_2020.csv', 'https://datascience.ipen.br/~mario/CNESdados/200508_/Dados/EQ/CSVs/EQPB_2020.csv', 'https://datascience.ipen.br/~mario/CNESdados/200508_/Dados/EQ/CSVs/EQPR_2020.csv', 'https://datascience.ipen.br/~mario/CNESdados/200508_/Dados/EQ/CSVs/EQPE_2020.csv', 'https://datascience.ipen.br/~mario/CNESdados/200508_/Dados/EQ/CSVs/EQPI_2020.csv', 'https://datascience.ipen.br/~mario/CNESdados/200508_/Dados/EQ/CSVs/EQRJ_2020.csv', 'https://datascience.ipen.br/~mario/CNESdados/200508_/Dados/EQ/CSVs/EQRN_2020.csv', 'https://datascience.ipen.br/~mario/CNESdados/200508_/Dados/EQ/CSVs/EQRO_2020.csv', 'https://datascience.ipen.br/~mario/CNESdados/200508_/Dados/EQ/CSVs/EQRS_2020.csv', 'https://datascience.ipen.br/~mario/CNESdados/200508_/Dados/EQ/CSVs/EQRR_2020.csv', 'https://datascience.ipen.br/~mario/CNESdados/200508_/Dados/EQ/CSVs/EQSC_2020.csv', 'https://datascience.ipen.br/~mario/CNESdados/200508_/Dados/EQ/CSVs/EQSE_2020.csv', 'https://datascience.ipen.br/~mario/CNESdados/200508_/Dados/EQ/CSVs/EQSP_2020.csv', 'https://datascience.ipen.br/~mario/CNESdados/200508_/Dados/EQ/CSVs/EQTO_2020.csv']\n"
          ],
          "name": "stdout"
        }
      ]
    },
    {
      "cell_type": "markdown",
      "metadata": {
        "id": "cw8qD6O90WNP"
      },
      "source": [
        "# GERA O DATAFRAME DE EQUIPAMENTOS"
      ]
    },
    {
      "cell_type": "code",
      "metadata": {
        "colab": {
          "base_uri": "https://localhost:8080/"
        },
        "id": "qEY2_zoU1zn5",
        "outputId": "6a0357c7-aecc-43a9-a212-26bd2eb8dea5"
      },
      "source": [
        "timeStartEQ = time.time()\n",
        "dfs_EQ = [pd.read_csv(url,sep=',', error_bad_lines=False, index_col=False, dtype='unicode', usecols = campos_eq) for url in array_urls_eq]\n",
        "total_df_EQ = pd.concat(dfs_EQ, ignore_index=True)\n",
        "tempoDeExecucaoEQ = (time.time() - timeStartEQ)\n",
        "print('Tempo de execução em minutos: ' + str(tempoDeExecucaoEQ/60))"
      ],
      "execution_count": 179,
      "outputs": [
        {
          "output_type": "stream",
          "text": [
            "Tempo de execução em minutos: 1.3449062744776408\n"
          ],
          "name": "stdout"
        }
      ]
    },
    {
      "cell_type": "code",
      "metadata": {
        "id": "z16xOdQ8GTJ8"
      },
      "source": [
        "total_df_EQ['CODEQUIP'] = total_df_EQ['CODEQUIP'].astype(int)"
      ],
      "execution_count": 180,
      "outputs": []
    },
    {
      "cell_type": "code",
      "metadata": {
        "colab": {
          "base_uri": "https://localhost:8080/",
          "height": 49
        },
        "id": "H0dCHdVRIw-j",
        "outputId": "6c495c64-8bd1-470c-efca-ecca1df0a94d"
      },
      "source": [
        "filtro_cnpj_eq = ['74045626000231']\n",
        "result_cnpj_eq = total_df_EQ[total_df_EQ['CPF_CNPJ'].str.contains('|'.join(filtro_cnpj_eq))]\n",
        "\n",
        "result_cnpj_eq"
      ],
      "execution_count": 182,
      "outputs": [
        {
          "output_type": "execute_result",
          "data": {
            "text/html": [
              "<div>\n",
              "<style scoped>\n",
              "    .dataframe tbody tr th:only-of-type {\n",
              "        vertical-align: middle;\n",
              "    }\n",
              "\n",
              "    .dataframe tbody tr th {\n",
              "        vertical-align: top;\n",
              "    }\n",
              "\n",
              "    .dataframe thead th {\n",
              "        text-align: right;\n",
              "    }\n",
              "</style>\n",
              "<table border=\"1\" class=\"dataframe\">\n",
              "  <thead>\n",
              "    <tr style=\"text-align: right;\">\n",
              "      <th></th>\n",
              "      <th>CNES</th>\n",
              "      <th>CPF_CNPJ</th>\n",
              "      <th>CODEQUIP</th>\n",
              "    </tr>\n",
              "  </thead>\n",
              "  <tbody>\n",
              "  </tbody>\n",
              "</table>\n",
              "</div>"
            ],
            "text/plain": [
              "Empty DataFrame\n",
              "Columns: [CNES, CPF_CNPJ, CODEQUIP]\n",
              "Index: []"
            ]
          },
          "metadata": {
            "tags": []
          },
          "execution_count": 182
        }
      ]
    },
    {
      "cell_type": "code",
      "metadata": {
        "colab": {
          "base_uri": "https://localhost:8080/",
          "height": 204
        },
        "id": "3EbJd6QZ09vE",
        "outputId": "87f495bf-d441-4309-b8cd-6099794c2c56"
      },
      "source": [
        "total_df_EQ.head()"
      ],
      "execution_count": 183,
      "outputs": [
        {
          "output_type": "execute_result",
          "data": {
            "text/html": [
              "<div>\n",
              "<style scoped>\n",
              "    .dataframe tbody tr th:only-of-type {\n",
              "        vertical-align: middle;\n",
              "    }\n",
              "\n",
              "    .dataframe tbody tr th {\n",
              "        vertical-align: top;\n",
              "    }\n",
              "\n",
              "    .dataframe thead th {\n",
              "        text-align: right;\n",
              "    }\n",
              "</style>\n",
              "<table border=\"1\" class=\"dataframe\">\n",
              "  <thead>\n",
              "    <tr style=\"text-align: right;\">\n",
              "      <th></th>\n",
              "      <th>CNES</th>\n",
              "      <th>CPF_CNPJ</th>\n",
              "      <th>CODEQUIP</th>\n",
              "    </tr>\n",
              "  </thead>\n",
              "  <tbody>\n",
              "    <tr>\n",
              "      <th>0</th>\n",
              "      <td>3006166</td>\n",
              "      <td>00000000000000</td>\n",
              "      <td>81</td>\n",
              "    </tr>\n",
              "    <tr>\n",
              "      <th>1</th>\n",
              "      <td>3006166</td>\n",
              "      <td>00000000000000</td>\n",
              "      <td>84</td>\n",
              "    </tr>\n",
              "    <tr>\n",
              "      <th>2</th>\n",
              "      <td>3006166</td>\n",
              "      <td>00000000000000</td>\n",
              "      <td>83</td>\n",
              "    </tr>\n",
              "    <tr>\n",
              "      <th>3</th>\n",
              "      <td>3006166</td>\n",
              "      <td>00000000000000</td>\n",
              "      <td>80</td>\n",
              "    </tr>\n",
              "    <tr>\n",
              "      <th>4</th>\n",
              "      <td>3382745</td>\n",
              "      <td>00000000000000</td>\n",
              "      <td>81</td>\n",
              "    </tr>\n",
              "  </tbody>\n",
              "</table>\n",
              "</div>"
            ],
            "text/plain": [
              "      CNES        CPF_CNPJ  CODEQUIP\n",
              "0  3006166  00000000000000        81\n",
              "1  3006166  00000000000000        84\n",
              "2  3006166  00000000000000        83\n",
              "3  3006166  00000000000000        80\n",
              "4  3382745  00000000000000        81"
            ]
          },
          "metadata": {
            "tags": []
          },
          "execution_count": 183
        }
      ]
    },
    {
      "cell_type": "code",
      "metadata": {
        "colab": {
          "base_uri": "https://localhost:8080/"
        },
        "id": "tBXbE7tW3udx",
        "outputId": "fe90de5c-ea30-4499-849d-03c91cdd73d0"
      },
      "source": [
        "total_df_EQ.shape"
      ],
      "execution_count": 184,
      "outputs": [
        {
          "output_type": "execute_result",
          "data": {
            "text/plain": [
              "(8596372, 3)"
            ]
          },
          "metadata": {
            "tags": []
          },
          "execution_count": 184
        }
      ]
    },
    {
      "cell_type": "code",
      "metadata": {
        "colab": {
          "base_uri": "https://localhost:8080/"
        },
        "id": "jyRc07kqFhr2",
        "outputId": "b2970c85-6826-4885-8581-6af41d5fb1ed"
      },
      "source": [
        "total_df_EQ.dtypes"
      ],
      "execution_count": 185,
      "outputs": [
        {
          "output_type": "execute_result",
          "data": {
            "text/plain": [
              "CNES        object\n",
              "CPF_CNPJ    object\n",
              "CODEQUIP     int64\n",
              "dtype: object"
            ]
          },
          "metadata": {
            "tags": []
          },
          "execution_count": 185
        }
      ]
    },
    {
      "cell_type": "markdown",
      "metadata": {
        "id": "ae4ZMEVA0WNQ"
      },
      "source": [
        "# FILTRA O DATAFRAME DE EQUIPAMENTOS COM OS FILTROS: coluna_codequip.values (1,18) - QUE CORRESPONDEM AOS CODIGOS DOS EQUIPAMENTOS: Gama Camara e PET/CT "
      ]
    },
    {
      "cell_type": "code",
      "metadata": {
        "colab": {
          "base_uri": "https://localhost:8080/"
        },
        "id": "VKfVKBtc82ZC",
        "outputId": "53a47e7d-26b3-4df6-af34-0aa80f3dccd7"
      },
      "source": [
        "coluna_codequip = result_eq.loc[:,'CO_EQUIPAMENTO'].astype(int)\n",
        "coluna_codequip.values"
      ],
      "execution_count": 186,
      "outputs": [
        {
          "output_type": "execute_result",
          "data": {
            "text/plain": [
              "array([ 1, 18])"
            ]
          },
          "metadata": {
            "tags": []
          },
          "execution_count": 186
        }
      ]
    },
    {
      "cell_type": "code",
      "metadata": {
        "id": "UUruqI1-D0en"
      },
      "source": [
        "result_df_EQ = total_df_EQ.loc[total_df_EQ['CODEQUIP'].isin(coluna_codequip.values)]"
      ],
      "execution_count": 187,
      "outputs": []
    },
    {
      "cell_type": "code",
      "metadata": {
        "colab": {
          "base_uri": "https://localhost:8080/"
        },
        "id": "VEkgLZ073ahO",
        "outputId": "86f4b235-4789-4526-cb23-b0c430ffd7ce"
      },
      "source": [
        "result_df_EQ.shape"
      ],
      "execution_count": 188,
      "outputs": [
        {
          "output_type": "execute_result",
          "data": {
            "text/plain": [
              "(7343, 3)"
            ]
          },
          "metadata": {
            "tags": []
          },
          "execution_count": 188
        }
      ]
    },
    {
      "cell_type": "code",
      "metadata": {
        "id": "kxVXtYku33OD"
      },
      "source": [
        "result_df_EQ = result_df_EQ.rename(columns={'CODEQUIP': 'CODEQUIP_TAB_EQ'})"
      ],
      "execution_count": 189,
      "outputs": []
    },
    {
      "cell_type": "code",
      "metadata": {
        "colab": {
          "base_uri": "https://localhost:8080/",
          "height": 419
        },
        "id": "HyPgN8eiPGZY",
        "outputId": "6e442b7f-673a-4fea-9d38-374d06544b9a"
      },
      "source": [
        "result_df_EQ"
      ],
      "execution_count": 190,
      "outputs": [
        {
          "output_type": "execute_result",
          "data": {
            "text/html": [
              "<div>\n",
              "<style scoped>\n",
              "    .dataframe tbody tr th:only-of-type {\n",
              "        vertical-align: middle;\n",
              "    }\n",
              "\n",
              "    .dataframe tbody tr th {\n",
              "        vertical-align: top;\n",
              "    }\n",
              "\n",
              "    .dataframe thead th {\n",
              "        text-align: right;\n",
              "    }\n",
              "</style>\n",
              "<table border=\"1\" class=\"dataframe\">\n",
              "  <thead>\n",
              "    <tr style=\"text-align: right;\">\n",
              "      <th></th>\n",
              "      <th>CNES</th>\n",
              "      <th>CPF_CNPJ</th>\n",
              "      <th>CODEQUIP_TAB_EQ</th>\n",
              "    </tr>\n",
              "  </thead>\n",
              "  <tbody>\n",
              "    <tr>\n",
              "      <th>921</th>\n",
              "      <td>2001977</td>\n",
              "      <td>00624104000177</td>\n",
              "      <td>1</td>\n",
              "    </tr>\n",
              "    <tr>\n",
              "      <th>1396</th>\n",
              "      <td>6225012</td>\n",
              "      <td>07616992000125</td>\n",
              "      <td>1</td>\n",
              "    </tr>\n",
              "    <tr>\n",
              "      <th>1538</th>\n",
              "      <td>6655653</td>\n",
              "      <td>11467937000198</td>\n",
              "      <td>1</td>\n",
              "    </tr>\n",
              "    <tr>\n",
              "      <th>2138</th>\n",
              "      <td>9467610</td>\n",
              "      <td>28685425000109</td>\n",
              "      <td>1</td>\n",
              "    </tr>\n",
              "    <tr>\n",
              "      <th>3609</th>\n",
              "      <td>2001977</td>\n",
              "      <td>00624104000177</td>\n",
              "      <td>1</td>\n",
              "    </tr>\n",
              "    <tr>\n",
              "      <th>...</th>\n",
              "      <td>...</td>\n",
              "      <td>...</td>\n",
              "      <td>...</td>\n",
              "    </tr>\n",
              "    <tr>\n",
              "      <th>8591389</th>\n",
              "      <td>2792451</td>\n",
              "      <td>25053117004828</td>\n",
              "      <td>1</td>\n",
              "    </tr>\n",
              "    <tr>\n",
              "      <th>8591436</th>\n",
              "      <td>2468972</td>\n",
              "      <td>25053117005123</td>\n",
              "      <td>1</td>\n",
              "    </tr>\n",
              "    <tr>\n",
              "      <th>8593585</th>\n",
              "      <td>7653948</td>\n",
              "      <td>06180514000152</td>\n",
              "      <td>1</td>\n",
              "    </tr>\n",
              "    <tr>\n",
              "      <th>8595290</th>\n",
              "      <td>5098246</td>\n",
              "      <td>07720890000155</td>\n",
              "      <td>1</td>\n",
              "    </tr>\n",
              "    <tr>\n",
              "      <th>8595337</th>\n",
              "      <td>5284694</td>\n",
              "      <td>07757411000175</td>\n",
              "      <td>1</td>\n",
              "    </tr>\n",
              "  </tbody>\n",
              "</table>\n",
              "<p>7343 rows × 3 columns</p>\n",
              "</div>"
            ],
            "text/plain": [
              "            CNES        CPF_CNPJ  CODEQUIP_TAB_EQ\n",
              "921      2001977  00624104000177                1\n",
              "1396     6225012  07616992000125                1\n",
              "1538     6655653  11467937000198                1\n",
              "2138     9467610  28685425000109                1\n",
              "3609     2001977  00624104000177                1\n",
              "...          ...             ...              ...\n",
              "8591389  2792451  25053117004828                1\n",
              "8591436  2468972  25053117005123                1\n",
              "8593585  7653948  06180514000152                1\n",
              "8595290  5098246  07720890000155                1\n",
              "8595337  5284694  07757411000175                1\n",
              "\n",
              "[7343 rows x 3 columns]"
            ]
          },
          "metadata": {
            "tags": []
          },
          "execution_count": 190
        }
      ]
    },
    {
      "cell_type": "code",
      "metadata": {
        "id": "177pFM5nyTBa"
      },
      "source": [
        "result_df_EQ.to_csv('/drive/My Drive/DS_CNES/result_df_EQ.csv')"
      ],
      "execution_count": 191,
      "outputs": []
    },
    {
      "cell_type": "markdown",
      "metadata": {
        "id": "zUXNFJvy0WNR"
      },
      "source": [
        "# MONTA O ARRAY DE LINKS ESTABELECIMENTOS"
      ]
    },
    {
      "cell_type": "code",
      "metadata": {
        "colab": {
          "base_uri": "https://localhost:8080/"
        },
        "id": "D5tCoqOM0WNR",
        "outputId": "c581c5c1-6447-4257-8430-ef26365feb50"
      },
      "source": [
        "path_st = 'https://datascience.ipen.br/~mario/CNESdados/200508_/Dados/ST/CSVs/ST'\n",
        "array_urls_st = []\n",
        "campos_st = ['CNES','CPF_CNPJ','ALVARA']\n",
        "\n",
        "for est in array_estados:\n",
        "    array_urls_st.append(path_st+\"\"+est+\"_2020.csv\")\n",
        "    print(array_urls_st)"
      ],
      "execution_count": 192,
      "outputs": [
        {
          "output_type": "stream",
          "text": [
            "['https://datascience.ipen.br/~mario/CNESdados/200508_/Dados/ST/CSVs/STAC_2020.csv']\n",
            "['https://datascience.ipen.br/~mario/CNESdados/200508_/Dados/ST/CSVs/STAC_2020.csv', 'https://datascience.ipen.br/~mario/CNESdados/200508_/Dados/ST/CSVs/STAL_2020.csv']\n",
            "['https://datascience.ipen.br/~mario/CNESdados/200508_/Dados/ST/CSVs/STAC_2020.csv', 'https://datascience.ipen.br/~mario/CNESdados/200508_/Dados/ST/CSVs/STAL_2020.csv', 'https://datascience.ipen.br/~mario/CNESdados/200508_/Dados/ST/CSVs/STAM_2020.csv']\n",
            "['https://datascience.ipen.br/~mario/CNESdados/200508_/Dados/ST/CSVs/STAC_2020.csv', 'https://datascience.ipen.br/~mario/CNESdados/200508_/Dados/ST/CSVs/STAL_2020.csv', 'https://datascience.ipen.br/~mario/CNESdados/200508_/Dados/ST/CSVs/STAM_2020.csv', 'https://datascience.ipen.br/~mario/CNESdados/200508_/Dados/ST/CSVs/STAP_2020.csv']\n",
            "['https://datascience.ipen.br/~mario/CNESdados/200508_/Dados/ST/CSVs/STAC_2020.csv', 'https://datascience.ipen.br/~mario/CNESdados/200508_/Dados/ST/CSVs/STAL_2020.csv', 'https://datascience.ipen.br/~mario/CNESdados/200508_/Dados/ST/CSVs/STAM_2020.csv', 'https://datascience.ipen.br/~mario/CNESdados/200508_/Dados/ST/CSVs/STAP_2020.csv', 'https://datascience.ipen.br/~mario/CNESdados/200508_/Dados/ST/CSVs/STBA_2020.csv']\n",
            "['https://datascience.ipen.br/~mario/CNESdados/200508_/Dados/ST/CSVs/STAC_2020.csv', 'https://datascience.ipen.br/~mario/CNESdados/200508_/Dados/ST/CSVs/STAL_2020.csv', 'https://datascience.ipen.br/~mario/CNESdados/200508_/Dados/ST/CSVs/STAM_2020.csv', 'https://datascience.ipen.br/~mario/CNESdados/200508_/Dados/ST/CSVs/STAP_2020.csv', 'https://datascience.ipen.br/~mario/CNESdados/200508_/Dados/ST/CSVs/STBA_2020.csv', 'https://datascience.ipen.br/~mario/CNESdados/200508_/Dados/ST/CSVs/STCE_2020.csv']\n",
            "['https://datascience.ipen.br/~mario/CNESdados/200508_/Dados/ST/CSVs/STAC_2020.csv', 'https://datascience.ipen.br/~mario/CNESdados/200508_/Dados/ST/CSVs/STAL_2020.csv', 'https://datascience.ipen.br/~mario/CNESdados/200508_/Dados/ST/CSVs/STAM_2020.csv', 'https://datascience.ipen.br/~mario/CNESdados/200508_/Dados/ST/CSVs/STAP_2020.csv', 'https://datascience.ipen.br/~mario/CNESdados/200508_/Dados/ST/CSVs/STBA_2020.csv', 'https://datascience.ipen.br/~mario/CNESdados/200508_/Dados/ST/CSVs/STCE_2020.csv', 'https://datascience.ipen.br/~mario/CNESdados/200508_/Dados/ST/CSVs/STDF_2020.csv']\n",
            "['https://datascience.ipen.br/~mario/CNESdados/200508_/Dados/ST/CSVs/STAC_2020.csv', 'https://datascience.ipen.br/~mario/CNESdados/200508_/Dados/ST/CSVs/STAL_2020.csv', 'https://datascience.ipen.br/~mario/CNESdados/200508_/Dados/ST/CSVs/STAM_2020.csv', 'https://datascience.ipen.br/~mario/CNESdados/200508_/Dados/ST/CSVs/STAP_2020.csv', 'https://datascience.ipen.br/~mario/CNESdados/200508_/Dados/ST/CSVs/STBA_2020.csv', 'https://datascience.ipen.br/~mario/CNESdados/200508_/Dados/ST/CSVs/STCE_2020.csv', 'https://datascience.ipen.br/~mario/CNESdados/200508_/Dados/ST/CSVs/STDF_2020.csv', 'https://datascience.ipen.br/~mario/CNESdados/200508_/Dados/ST/CSVs/STES_2020.csv']\n",
            "['https://datascience.ipen.br/~mario/CNESdados/200508_/Dados/ST/CSVs/STAC_2020.csv', 'https://datascience.ipen.br/~mario/CNESdados/200508_/Dados/ST/CSVs/STAL_2020.csv', 'https://datascience.ipen.br/~mario/CNESdados/200508_/Dados/ST/CSVs/STAM_2020.csv', 'https://datascience.ipen.br/~mario/CNESdados/200508_/Dados/ST/CSVs/STAP_2020.csv', 'https://datascience.ipen.br/~mario/CNESdados/200508_/Dados/ST/CSVs/STBA_2020.csv', 'https://datascience.ipen.br/~mario/CNESdados/200508_/Dados/ST/CSVs/STCE_2020.csv', 'https://datascience.ipen.br/~mario/CNESdados/200508_/Dados/ST/CSVs/STDF_2020.csv', 'https://datascience.ipen.br/~mario/CNESdados/200508_/Dados/ST/CSVs/STES_2020.csv', 'https://datascience.ipen.br/~mario/CNESdados/200508_/Dados/ST/CSVs/STGO_2020.csv']\n",
            "['https://datascience.ipen.br/~mario/CNESdados/200508_/Dados/ST/CSVs/STAC_2020.csv', 'https://datascience.ipen.br/~mario/CNESdados/200508_/Dados/ST/CSVs/STAL_2020.csv', 'https://datascience.ipen.br/~mario/CNESdados/200508_/Dados/ST/CSVs/STAM_2020.csv', 'https://datascience.ipen.br/~mario/CNESdados/200508_/Dados/ST/CSVs/STAP_2020.csv', 'https://datascience.ipen.br/~mario/CNESdados/200508_/Dados/ST/CSVs/STBA_2020.csv', 'https://datascience.ipen.br/~mario/CNESdados/200508_/Dados/ST/CSVs/STCE_2020.csv', 'https://datascience.ipen.br/~mario/CNESdados/200508_/Dados/ST/CSVs/STDF_2020.csv', 'https://datascience.ipen.br/~mario/CNESdados/200508_/Dados/ST/CSVs/STES_2020.csv', 'https://datascience.ipen.br/~mario/CNESdados/200508_/Dados/ST/CSVs/STGO_2020.csv', 'https://datascience.ipen.br/~mario/CNESdados/200508_/Dados/ST/CSVs/STMA_2020.csv']\n",
            "['https://datascience.ipen.br/~mario/CNESdados/200508_/Dados/ST/CSVs/STAC_2020.csv', 'https://datascience.ipen.br/~mario/CNESdados/200508_/Dados/ST/CSVs/STAL_2020.csv', 'https://datascience.ipen.br/~mario/CNESdados/200508_/Dados/ST/CSVs/STAM_2020.csv', 'https://datascience.ipen.br/~mario/CNESdados/200508_/Dados/ST/CSVs/STAP_2020.csv', 'https://datascience.ipen.br/~mario/CNESdados/200508_/Dados/ST/CSVs/STBA_2020.csv', 'https://datascience.ipen.br/~mario/CNESdados/200508_/Dados/ST/CSVs/STCE_2020.csv', 'https://datascience.ipen.br/~mario/CNESdados/200508_/Dados/ST/CSVs/STDF_2020.csv', 'https://datascience.ipen.br/~mario/CNESdados/200508_/Dados/ST/CSVs/STES_2020.csv', 'https://datascience.ipen.br/~mario/CNESdados/200508_/Dados/ST/CSVs/STGO_2020.csv', 'https://datascience.ipen.br/~mario/CNESdados/200508_/Dados/ST/CSVs/STMA_2020.csv', 'https://datascience.ipen.br/~mario/CNESdados/200508_/Dados/ST/CSVs/STMT_2020.csv']\n",
            "['https://datascience.ipen.br/~mario/CNESdados/200508_/Dados/ST/CSVs/STAC_2020.csv', 'https://datascience.ipen.br/~mario/CNESdados/200508_/Dados/ST/CSVs/STAL_2020.csv', 'https://datascience.ipen.br/~mario/CNESdados/200508_/Dados/ST/CSVs/STAM_2020.csv', 'https://datascience.ipen.br/~mario/CNESdados/200508_/Dados/ST/CSVs/STAP_2020.csv', 'https://datascience.ipen.br/~mario/CNESdados/200508_/Dados/ST/CSVs/STBA_2020.csv', 'https://datascience.ipen.br/~mario/CNESdados/200508_/Dados/ST/CSVs/STCE_2020.csv', 'https://datascience.ipen.br/~mario/CNESdados/200508_/Dados/ST/CSVs/STDF_2020.csv', 'https://datascience.ipen.br/~mario/CNESdados/200508_/Dados/ST/CSVs/STES_2020.csv', 'https://datascience.ipen.br/~mario/CNESdados/200508_/Dados/ST/CSVs/STGO_2020.csv', 'https://datascience.ipen.br/~mario/CNESdados/200508_/Dados/ST/CSVs/STMA_2020.csv', 'https://datascience.ipen.br/~mario/CNESdados/200508_/Dados/ST/CSVs/STMT_2020.csv', 'https://datascience.ipen.br/~mario/CNESdados/200508_/Dados/ST/CSVs/STMS_2020.csv']\n",
            "['https://datascience.ipen.br/~mario/CNESdados/200508_/Dados/ST/CSVs/STAC_2020.csv', 'https://datascience.ipen.br/~mario/CNESdados/200508_/Dados/ST/CSVs/STAL_2020.csv', 'https://datascience.ipen.br/~mario/CNESdados/200508_/Dados/ST/CSVs/STAM_2020.csv', 'https://datascience.ipen.br/~mario/CNESdados/200508_/Dados/ST/CSVs/STAP_2020.csv', 'https://datascience.ipen.br/~mario/CNESdados/200508_/Dados/ST/CSVs/STBA_2020.csv', 'https://datascience.ipen.br/~mario/CNESdados/200508_/Dados/ST/CSVs/STCE_2020.csv', 'https://datascience.ipen.br/~mario/CNESdados/200508_/Dados/ST/CSVs/STDF_2020.csv', 'https://datascience.ipen.br/~mario/CNESdados/200508_/Dados/ST/CSVs/STES_2020.csv', 'https://datascience.ipen.br/~mario/CNESdados/200508_/Dados/ST/CSVs/STGO_2020.csv', 'https://datascience.ipen.br/~mario/CNESdados/200508_/Dados/ST/CSVs/STMA_2020.csv', 'https://datascience.ipen.br/~mario/CNESdados/200508_/Dados/ST/CSVs/STMT_2020.csv', 'https://datascience.ipen.br/~mario/CNESdados/200508_/Dados/ST/CSVs/STMS_2020.csv', 'https://datascience.ipen.br/~mario/CNESdados/200508_/Dados/ST/CSVs/STMG_2020.csv']\n",
            "['https://datascience.ipen.br/~mario/CNESdados/200508_/Dados/ST/CSVs/STAC_2020.csv', 'https://datascience.ipen.br/~mario/CNESdados/200508_/Dados/ST/CSVs/STAL_2020.csv', 'https://datascience.ipen.br/~mario/CNESdados/200508_/Dados/ST/CSVs/STAM_2020.csv', 'https://datascience.ipen.br/~mario/CNESdados/200508_/Dados/ST/CSVs/STAP_2020.csv', 'https://datascience.ipen.br/~mario/CNESdados/200508_/Dados/ST/CSVs/STBA_2020.csv', 'https://datascience.ipen.br/~mario/CNESdados/200508_/Dados/ST/CSVs/STCE_2020.csv', 'https://datascience.ipen.br/~mario/CNESdados/200508_/Dados/ST/CSVs/STDF_2020.csv', 'https://datascience.ipen.br/~mario/CNESdados/200508_/Dados/ST/CSVs/STES_2020.csv', 'https://datascience.ipen.br/~mario/CNESdados/200508_/Dados/ST/CSVs/STGO_2020.csv', 'https://datascience.ipen.br/~mario/CNESdados/200508_/Dados/ST/CSVs/STMA_2020.csv', 'https://datascience.ipen.br/~mario/CNESdados/200508_/Dados/ST/CSVs/STMT_2020.csv', 'https://datascience.ipen.br/~mario/CNESdados/200508_/Dados/ST/CSVs/STMS_2020.csv', 'https://datascience.ipen.br/~mario/CNESdados/200508_/Dados/ST/CSVs/STMG_2020.csv', 'https://datascience.ipen.br/~mario/CNESdados/200508_/Dados/ST/CSVs/STPA_2020.csv']\n",
            "['https://datascience.ipen.br/~mario/CNESdados/200508_/Dados/ST/CSVs/STAC_2020.csv', 'https://datascience.ipen.br/~mario/CNESdados/200508_/Dados/ST/CSVs/STAL_2020.csv', 'https://datascience.ipen.br/~mario/CNESdados/200508_/Dados/ST/CSVs/STAM_2020.csv', 'https://datascience.ipen.br/~mario/CNESdados/200508_/Dados/ST/CSVs/STAP_2020.csv', 'https://datascience.ipen.br/~mario/CNESdados/200508_/Dados/ST/CSVs/STBA_2020.csv', 'https://datascience.ipen.br/~mario/CNESdados/200508_/Dados/ST/CSVs/STCE_2020.csv', 'https://datascience.ipen.br/~mario/CNESdados/200508_/Dados/ST/CSVs/STDF_2020.csv', 'https://datascience.ipen.br/~mario/CNESdados/200508_/Dados/ST/CSVs/STES_2020.csv', 'https://datascience.ipen.br/~mario/CNESdados/200508_/Dados/ST/CSVs/STGO_2020.csv', 'https://datascience.ipen.br/~mario/CNESdados/200508_/Dados/ST/CSVs/STMA_2020.csv', 'https://datascience.ipen.br/~mario/CNESdados/200508_/Dados/ST/CSVs/STMT_2020.csv', 'https://datascience.ipen.br/~mario/CNESdados/200508_/Dados/ST/CSVs/STMS_2020.csv', 'https://datascience.ipen.br/~mario/CNESdados/200508_/Dados/ST/CSVs/STMG_2020.csv', 'https://datascience.ipen.br/~mario/CNESdados/200508_/Dados/ST/CSVs/STPA_2020.csv', 'https://datascience.ipen.br/~mario/CNESdados/200508_/Dados/ST/CSVs/STPB_2020.csv']\n",
            "['https://datascience.ipen.br/~mario/CNESdados/200508_/Dados/ST/CSVs/STAC_2020.csv', 'https://datascience.ipen.br/~mario/CNESdados/200508_/Dados/ST/CSVs/STAL_2020.csv', 'https://datascience.ipen.br/~mario/CNESdados/200508_/Dados/ST/CSVs/STAM_2020.csv', 'https://datascience.ipen.br/~mario/CNESdados/200508_/Dados/ST/CSVs/STAP_2020.csv', 'https://datascience.ipen.br/~mario/CNESdados/200508_/Dados/ST/CSVs/STBA_2020.csv', 'https://datascience.ipen.br/~mario/CNESdados/200508_/Dados/ST/CSVs/STCE_2020.csv', 'https://datascience.ipen.br/~mario/CNESdados/200508_/Dados/ST/CSVs/STDF_2020.csv', 'https://datascience.ipen.br/~mario/CNESdados/200508_/Dados/ST/CSVs/STES_2020.csv', 'https://datascience.ipen.br/~mario/CNESdados/200508_/Dados/ST/CSVs/STGO_2020.csv', 'https://datascience.ipen.br/~mario/CNESdados/200508_/Dados/ST/CSVs/STMA_2020.csv', 'https://datascience.ipen.br/~mario/CNESdados/200508_/Dados/ST/CSVs/STMT_2020.csv', 'https://datascience.ipen.br/~mario/CNESdados/200508_/Dados/ST/CSVs/STMS_2020.csv', 'https://datascience.ipen.br/~mario/CNESdados/200508_/Dados/ST/CSVs/STMG_2020.csv', 'https://datascience.ipen.br/~mario/CNESdados/200508_/Dados/ST/CSVs/STPA_2020.csv', 'https://datascience.ipen.br/~mario/CNESdados/200508_/Dados/ST/CSVs/STPB_2020.csv', 'https://datascience.ipen.br/~mario/CNESdados/200508_/Dados/ST/CSVs/STPR_2020.csv']\n",
            "['https://datascience.ipen.br/~mario/CNESdados/200508_/Dados/ST/CSVs/STAC_2020.csv', 'https://datascience.ipen.br/~mario/CNESdados/200508_/Dados/ST/CSVs/STAL_2020.csv', 'https://datascience.ipen.br/~mario/CNESdados/200508_/Dados/ST/CSVs/STAM_2020.csv', 'https://datascience.ipen.br/~mario/CNESdados/200508_/Dados/ST/CSVs/STAP_2020.csv', 'https://datascience.ipen.br/~mario/CNESdados/200508_/Dados/ST/CSVs/STBA_2020.csv', 'https://datascience.ipen.br/~mario/CNESdados/200508_/Dados/ST/CSVs/STCE_2020.csv', 'https://datascience.ipen.br/~mario/CNESdados/200508_/Dados/ST/CSVs/STDF_2020.csv', 'https://datascience.ipen.br/~mario/CNESdados/200508_/Dados/ST/CSVs/STES_2020.csv', 'https://datascience.ipen.br/~mario/CNESdados/200508_/Dados/ST/CSVs/STGO_2020.csv', 'https://datascience.ipen.br/~mario/CNESdados/200508_/Dados/ST/CSVs/STMA_2020.csv', 'https://datascience.ipen.br/~mario/CNESdados/200508_/Dados/ST/CSVs/STMT_2020.csv', 'https://datascience.ipen.br/~mario/CNESdados/200508_/Dados/ST/CSVs/STMS_2020.csv', 'https://datascience.ipen.br/~mario/CNESdados/200508_/Dados/ST/CSVs/STMG_2020.csv', 'https://datascience.ipen.br/~mario/CNESdados/200508_/Dados/ST/CSVs/STPA_2020.csv', 'https://datascience.ipen.br/~mario/CNESdados/200508_/Dados/ST/CSVs/STPB_2020.csv', 'https://datascience.ipen.br/~mario/CNESdados/200508_/Dados/ST/CSVs/STPR_2020.csv', 'https://datascience.ipen.br/~mario/CNESdados/200508_/Dados/ST/CSVs/STPE_2020.csv']\n",
            "['https://datascience.ipen.br/~mario/CNESdados/200508_/Dados/ST/CSVs/STAC_2020.csv', 'https://datascience.ipen.br/~mario/CNESdados/200508_/Dados/ST/CSVs/STAL_2020.csv', 'https://datascience.ipen.br/~mario/CNESdados/200508_/Dados/ST/CSVs/STAM_2020.csv', 'https://datascience.ipen.br/~mario/CNESdados/200508_/Dados/ST/CSVs/STAP_2020.csv', 'https://datascience.ipen.br/~mario/CNESdados/200508_/Dados/ST/CSVs/STBA_2020.csv', 'https://datascience.ipen.br/~mario/CNESdados/200508_/Dados/ST/CSVs/STCE_2020.csv', 'https://datascience.ipen.br/~mario/CNESdados/200508_/Dados/ST/CSVs/STDF_2020.csv', 'https://datascience.ipen.br/~mario/CNESdados/200508_/Dados/ST/CSVs/STES_2020.csv', 'https://datascience.ipen.br/~mario/CNESdados/200508_/Dados/ST/CSVs/STGO_2020.csv', 'https://datascience.ipen.br/~mario/CNESdados/200508_/Dados/ST/CSVs/STMA_2020.csv', 'https://datascience.ipen.br/~mario/CNESdados/200508_/Dados/ST/CSVs/STMT_2020.csv', 'https://datascience.ipen.br/~mario/CNESdados/200508_/Dados/ST/CSVs/STMS_2020.csv', 'https://datascience.ipen.br/~mario/CNESdados/200508_/Dados/ST/CSVs/STMG_2020.csv', 'https://datascience.ipen.br/~mario/CNESdados/200508_/Dados/ST/CSVs/STPA_2020.csv', 'https://datascience.ipen.br/~mario/CNESdados/200508_/Dados/ST/CSVs/STPB_2020.csv', 'https://datascience.ipen.br/~mario/CNESdados/200508_/Dados/ST/CSVs/STPR_2020.csv', 'https://datascience.ipen.br/~mario/CNESdados/200508_/Dados/ST/CSVs/STPE_2020.csv', 'https://datascience.ipen.br/~mario/CNESdados/200508_/Dados/ST/CSVs/STPI_2020.csv']\n",
            "['https://datascience.ipen.br/~mario/CNESdados/200508_/Dados/ST/CSVs/STAC_2020.csv', 'https://datascience.ipen.br/~mario/CNESdados/200508_/Dados/ST/CSVs/STAL_2020.csv', 'https://datascience.ipen.br/~mario/CNESdados/200508_/Dados/ST/CSVs/STAM_2020.csv', 'https://datascience.ipen.br/~mario/CNESdados/200508_/Dados/ST/CSVs/STAP_2020.csv', 'https://datascience.ipen.br/~mario/CNESdados/200508_/Dados/ST/CSVs/STBA_2020.csv', 'https://datascience.ipen.br/~mario/CNESdados/200508_/Dados/ST/CSVs/STCE_2020.csv', 'https://datascience.ipen.br/~mario/CNESdados/200508_/Dados/ST/CSVs/STDF_2020.csv', 'https://datascience.ipen.br/~mario/CNESdados/200508_/Dados/ST/CSVs/STES_2020.csv', 'https://datascience.ipen.br/~mario/CNESdados/200508_/Dados/ST/CSVs/STGO_2020.csv', 'https://datascience.ipen.br/~mario/CNESdados/200508_/Dados/ST/CSVs/STMA_2020.csv', 'https://datascience.ipen.br/~mario/CNESdados/200508_/Dados/ST/CSVs/STMT_2020.csv', 'https://datascience.ipen.br/~mario/CNESdados/200508_/Dados/ST/CSVs/STMS_2020.csv', 'https://datascience.ipen.br/~mario/CNESdados/200508_/Dados/ST/CSVs/STMG_2020.csv', 'https://datascience.ipen.br/~mario/CNESdados/200508_/Dados/ST/CSVs/STPA_2020.csv', 'https://datascience.ipen.br/~mario/CNESdados/200508_/Dados/ST/CSVs/STPB_2020.csv', 'https://datascience.ipen.br/~mario/CNESdados/200508_/Dados/ST/CSVs/STPR_2020.csv', 'https://datascience.ipen.br/~mario/CNESdados/200508_/Dados/ST/CSVs/STPE_2020.csv', 'https://datascience.ipen.br/~mario/CNESdados/200508_/Dados/ST/CSVs/STPI_2020.csv', 'https://datascience.ipen.br/~mario/CNESdados/200508_/Dados/ST/CSVs/STRJ_2020.csv']\n",
            "['https://datascience.ipen.br/~mario/CNESdados/200508_/Dados/ST/CSVs/STAC_2020.csv', 'https://datascience.ipen.br/~mario/CNESdados/200508_/Dados/ST/CSVs/STAL_2020.csv', 'https://datascience.ipen.br/~mario/CNESdados/200508_/Dados/ST/CSVs/STAM_2020.csv', 'https://datascience.ipen.br/~mario/CNESdados/200508_/Dados/ST/CSVs/STAP_2020.csv', 'https://datascience.ipen.br/~mario/CNESdados/200508_/Dados/ST/CSVs/STBA_2020.csv', 'https://datascience.ipen.br/~mario/CNESdados/200508_/Dados/ST/CSVs/STCE_2020.csv', 'https://datascience.ipen.br/~mario/CNESdados/200508_/Dados/ST/CSVs/STDF_2020.csv', 'https://datascience.ipen.br/~mario/CNESdados/200508_/Dados/ST/CSVs/STES_2020.csv', 'https://datascience.ipen.br/~mario/CNESdados/200508_/Dados/ST/CSVs/STGO_2020.csv', 'https://datascience.ipen.br/~mario/CNESdados/200508_/Dados/ST/CSVs/STMA_2020.csv', 'https://datascience.ipen.br/~mario/CNESdados/200508_/Dados/ST/CSVs/STMT_2020.csv', 'https://datascience.ipen.br/~mario/CNESdados/200508_/Dados/ST/CSVs/STMS_2020.csv', 'https://datascience.ipen.br/~mario/CNESdados/200508_/Dados/ST/CSVs/STMG_2020.csv', 'https://datascience.ipen.br/~mario/CNESdados/200508_/Dados/ST/CSVs/STPA_2020.csv', 'https://datascience.ipen.br/~mario/CNESdados/200508_/Dados/ST/CSVs/STPB_2020.csv', 'https://datascience.ipen.br/~mario/CNESdados/200508_/Dados/ST/CSVs/STPR_2020.csv', 'https://datascience.ipen.br/~mario/CNESdados/200508_/Dados/ST/CSVs/STPE_2020.csv', 'https://datascience.ipen.br/~mario/CNESdados/200508_/Dados/ST/CSVs/STPI_2020.csv', 'https://datascience.ipen.br/~mario/CNESdados/200508_/Dados/ST/CSVs/STRJ_2020.csv', 'https://datascience.ipen.br/~mario/CNESdados/200508_/Dados/ST/CSVs/STRN_2020.csv']\n",
            "['https://datascience.ipen.br/~mario/CNESdados/200508_/Dados/ST/CSVs/STAC_2020.csv', 'https://datascience.ipen.br/~mario/CNESdados/200508_/Dados/ST/CSVs/STAL_2020.csv', 'https://datascience.ipen.br/~mario/CNESdados/200508_/Dados/ST/CSVs/STAM_2020.csv', 'https://datascience.ipen.br/~mario/CNESdados/200508_/Dados/ST/CSVs/STAP_2020.csv', 'https://datascience.ipen.br/~mario/CNESdados/200508_/Dados/ST/CSVs/STBA_2020.csv', 'https://datascience.ipen.br/~mario/CNESdados/200508_/Dados/ST/CSVs/STCE_2020.csv', 'https://datascience.ipen.br/~mario/CNESdados/200508_/Dados/ST/CSVs/STDF_2020.csv', 'https://datascience.ipen.br/~mario/CNESdados/200508_/Dados/ST/CSVs/STES_2020.csv', 'https://datascience.ipen.br/~mario/CNESdados/200508_/Dados/ST/CSVs/STGO_2020.csv', 'https://datascience.ipen.br/~mario/CNESdados/200508_/Dados/ST/CSVs/STMA_2020.csv', 'https://datascience.ipen.br/~mario/CNESdados/200508_/Dados/ST/CSVs/STMT_2020.csv', 'https://datascience.ipen.br/~mario/CNESdados/200508_/Dados/ST/CSVs/STMS_2020.csv', 'https://datascience.ipen.br/~mario/CNESdados/200508_/Dados/ST/CSVs/STMG_2020.csv', 'https://datascience.ipen.br/~mario/CNESdados/200508_/Dados/ST/CSVs/STPA_2020.csv', 'https://datascience.ipen.br/~mario/CNESdados/200508_/Dados/ST/CSVs/STPB_2020.csv', 'https://datascience.ipen.br/~mario/CNESdados/200508_/Dados/ST/CSVs/STPR_2020.csv', 'https://datascience.ipen.br/~mario/CNESdados/200508_/Dados/ST/CSVs/STPE_2020.csv', 'https://datascience.ipen.br/~mario/CNESdados/200508_/Dados/ST/CSVs/STPI_2020.csv', 'https://datascience.ipen.br/~mario/CNESdados/200508_/Dados/ST/CSVs/STRJ_2020.csv', 'https://datascience.ipen.br/~mario/CNESdados/200508_/Dados/ST/CSVs/STRN_2020.csv', 'https://datascience.ipen.br/~mario/CNESdados/200508_/Dados/ST/CSVs/STRO_2020.csv']\n",
            "['https://datascience.ipen.br/~mario/CNESdados/200508_/Dados/ST/CSVs/STAC_2020.csv', 'https://datascience.ipen.br/~mario/CNESdados/200508_/Dados/ST/CSVs/STAL_2020.csv', 'https://datascience.ipen.br/~mario/CNESdados/200508_/Dados/ST/CSVs/STAM_2020.csv', 'https://datascience.ipen.br/~mario/CNESdados/200508_/Dados/ST/CSVs/STAP_2020.csv', 'https://datascience.ipen.br/~mario/CNESdados/200508_/Dados/ST/CSVs/STBA_2020.csv', 'https://datascience.ipen.br/~mario/CNESdados/200508_/Dados/ST/CSVs/STCE_2020.csv', 'https://datascience.ipen.br/~mario/CNESdados/200508_/Dados/ST/CSVs/STDF_2020.csv', 'https://datascience.ipen.br/~mario/CNESdados/200508_/Dados/ST/CSVs/STES_2020.csv', 'https://datascience.ipen.br/~mario/CNESdados/200508_/Dados/ST/CSVs/STGO_2020.csv', 'https://datascience.ipen.br/~mario/CNESdados/200508_/Dados/ST/CSVs/STMA_2020.csv', 'https://datascience.ipen.br/~mario/CNESdados/200508_/Dados/ST/CSVs/STMT_2020.csv', 'https://datascience.ipen.br/~mario/CNESdados/200508_/Dados/ST/CSVs/STMS_2020.csv', 'https://datascience.ipen.br/~mario/CNESdados/200508_/Dados/ST/CSVs/STMG_2020.csv', 'https://datascience.ipen.br/~mario/CNESdados/200508_/Dados/ST/CSVs/STPA_2020.csv', 'https://datascience.ipen.br/~mario/CNESdados/200508_/Dados/ST/CSVs/STPB_2020.csv', 'https://datascience.ipen.br/~mario/CNESdados/200508_/Dados/ST/CSVs/STPR_2020.csv', 'https://datascience.ipen.br/~mario/CNESdados/200508_/Dados/ST/CSVs/STPE_2020.csv', 'https://datascience.ipen.br/~mario/CNESdados/200508_/Dados/ST/CSVs/STPI_2020.csv', 'https://datascience.ipen.br/~mario/CNESdados/200508_/Dados/ST/CSVs/STRJ_2020.csv', 'https://datascience.ipen.br/~mario/CNESdados/200508_/Dados/ST/CSVs/STRN_2020.csv', 'https://datascience.ipen.br/~mario/CNESdados/200508_/Dados/ST/CSVs/STRO_2020.csv', 'https://datascience.ipen.br/~mario/CNESdados/200508_/Dados/ST/CSVs/STRS_2020.csv']\n",
            "['https://datascience.ipen.br/~mario/CNESdados/200508_/Dados/ST/CSVs/STAC_2020.csv', 'https://datascience.ipen.br/~mario/CNESdados/200508_/Dados/ST/CSVs/STAL_2020.csv', 'https://datascience.ipen.br/~mario/CNESdados/200508_/Dados/ST/CSVs/STAM_2020.csv', 'https://datascience.ipen.br/~mario/CNESdados/200508_/Dados/ST/CSVs/STAP_2020.csv', 'https://datascience.ipen.br/~mario/CNESdados/200508_/Dados/ST/CSVs/STBA_2020.csv', 'https://datascience.ipen.br/~mario/CNESdados/200508_/Dados/ST/CSVs/STCE_2020.csv', 'https://datascience.ipen.br/~mario/CNESdados/200508_/Dados/ST/CSVs/STDF_2020.csv', 'https://datascience.ipen.br/~mario/CNESdados/200508_/Dados/ST/CSVs/STES_2020.csv', 'https://datascience.ipen.br/~mario/CNESdados/200508_/Dados/ST/CSVs/STGO_2020.csv', 'https://datascience.ipen.br/~mario/CNESdados/200508_/Dados/ST/CSVs/STMA_2020.csv', 'https://datascience.ipen.br/~mario/CNESdados/200508_/Dados/ST/CSVs/STMT_2020.csv', 'https://datascience.ipen.br/~mario/CNESdados/200508_/Dados/ST/CSVs/STMS_2020.csv', 'https://datascience.ipen.br/~mario/CNESdados/200508_/Dados/ST/CSVs/STMG_2020.csv', 'https://datascience.ipen.br/~mario/CNESdados/200508_/Dados/ST/CSVs/STPA_2020.csv', 'https://datascience.ipen.br/~mario/CNESdados/200508_/Dados/ST/CSVs/STPB_2020.csv', 'https://datascience.ipen.br/~mario/CNESdados/200508_/Dados/ST/CSVs/STPR_2020.csv', 'https://datascience.ipen.br/~mario/CNESdados/200508_/Dados/ST/CSVs/STPE_2020.csv', 'https://datascience.ipen.br/~mario/CNESdados/200508_/Dados/ST/CSVs/STPI_2020.csv', 'https://datascience.ipen.br/~mario/CNESdados/200508_/Dados/ST/CSVs/STRJ_2020.csv', 'https://datascience.ipen.br/~mario/CNESdados/200508_/Dados/ST/CSVs/STRN_2020.csv', 'https://datascience.ipen.br/~mario/CNESdados/200508_/Dados/ST/CSVs/STRO_2020.csv', 'https://datascience.ipen.br/~mario/CNESdados/200508_/Dados/ST/CSVs/STRS_2020.csv', 'https://datascience.ipen.br/~mario/CNESdados/200508_/Dados/ST/CSVs/STRR_2020.csv']\n",
            "['https://datascience.ipen.br/~mario/CNESdados/200508_/Dados/ST/CSVs/STAC_2020.csv', 'https://datascience.ipen.br/~mario/CNESdados/200508_/Dados/ST/CSVs/STAL_2020.csv', 'https://datascience.ipen.br/~mario/CNESdados/200508_/Dados/ST/CSVs/STAM_2020.csv', 'https://datascience.ipen.br/~mario/CNESdados/200508_/Dados/ST/CSVs/STAP_2020.csv', 'https://datascience.ipen.br/~mario/CNESdados/200508_/Dados/ST/CSVs/STBA_2020.csv', 'https://datascience.ipen.br/~mario/CNESdados/200508_/Dados/ST/CSVs/STCE_2020.csv', 'https://datascience.ipen.br/~mario/CNESdados/200508_/Dados/ST/CSVs/STDF_2020.csv', 'https://datascience.ipen.br/~mario/CNESdados/200508_/Dados/ST/CSVs/STES_2020.csv', 'https://datascience.ipen.br/~mario/CNESdados/200508_/Dados/ST/CSVs/STGO_2020.csv', 'https://datascience.ipen.br/~mario/CNESdados/200508_/Dados/ST/CSVs/STMA_2020.csv', 'https://datascience.ipen.br/~mario/CNESdados/200508_/Dados/ST/CSVs/STMT_2020.csv', 'https://datascience.ipen.br/~mario/CNESdados/200508_/Dados/ST/CSVs/STMS_2020.csv', 'https://datascience.ipen.br/~mario/CNESdados/200508_/Dados/ST/CSVs/STMG_2020.csv', 'https://datascience.ipen.br/~mario/CNESdados/200508_/Dados/ST/CSVs/STPA_2020.csv', 'https://datascience.ipen.br/~mario/CNESdados/200508_/Dados/ST/CSVs/STPB_2020.csv', 'https://datascience.ipen.br/~mario/CNESdados/200508_/Dados/ST/CSVs/STPR_2020.csv', 'https://datascience.ipen.br/~mario/CNESdados/200508_/Dados/ST/CSVs/STPE_2020.csv', 'https://datascience.ipen.br/~mario/CNESdados/200508_/Dados/ST/CSVs/STPI_2020.csv', 'https://datascience.ipen.br/~mario/CNESdados/200508_/Dados/ST/CSVs/STRJ_2020.csv', 'https://datascience.ipen.br/~mario/CNESdados/200508_/Dados/ST/CSVs/STRN_2020.csv', 'https://datascience.ipen.br/~mario/CNESdados/200508_/Dados/ST/CSVs/STRO_2020.csv', 'https://datascience.ipen.br/~mario/CNESdados/200508_/Dados/ST/CSVs/STRS_2020.csv', 'https://datascience.ipen.br/~mario/CNESdados/200508_/Dados/ST/CSVs/STRR_2020.csv', 'https://datascience.ipen.br/~mario/CNESdados/200508_/Dados/ST/CSVs/STSC_2020.csv']\n",
            "['https://datascience.ipen.br/~mario/CNESdados/200508_/Dados/ST/CSVs/STAC_2020.csv', 'https://datascience.ipen.br/~mario/CNESdados/200508_/Dados/ST/CSVs/STAL_2020.csv', 'https://datascience.ipen.br/~mario/CNESdados/200508_/Dados/ST/CSVs/STAM_2020.csv', 'https://datascience.ipen.br/~mario/CNESdados/200508_/Dados/ST/CSVs/STAP_2020.csv', 'https://datascience.ipen.br/~mario/CNESdados/200508_/Dados/ST/CSVs/STBA_2020.csv', 'https://datascience.ipen.br/~mario/CNESdados/200508_/Dados/ST/CSVs/STCE_2020.csv', 'https://datascience.ipen.br/~mario/CNESdados/200508_/Dados/ST/CSVs/STDF_2020.csv', 'https://datascience.ipen.br/~mario/CNESdados/200508_/Dados/ST/CSVs/STES_2020.csv', 'https://datascience.ipen.br/~mario/CNESdados/200508_/Dados/ST/CSVs/STGO_2020.csv', 'https://datascience.ipen.br/~mario/CNESdados/200508_/Dados/ST/CSVs/STMA_2020.csv', 'https://datascience.ipen.br/~mario/CNESdados/200508_/Dados/ST/CSVs/STMT_2020.csv', 'https://datascience.ipen.br/~mario/CNESdados/200508_/Dados/ST/CSVs/STMS_2020.csv', 'https://datascience.ipen.br/~mario/CNESdados/200508_/Dados/ST/CSVs/STMG_2020.csv', 'https://datascience.ipen.br/~mario/CNESdados/200508_/Dados/ST/CSVs/STPA_2020.csv', 'https://datascience.ipen.br/~mario/CNESdados/200508_/Dados/ST/CSVs/STPB_2020.csv', 'https://datascience.ipen.br/~mario/CNESdados/200508_/Dados/ST/CSVs/STPR_2020.csv', 'https://datascience.ipen.br/~mario/CNESdados/200508_/Dados/ST/CSVs/STPE_2020.csv', 'https://datascience.ipen.br/~mario/CNESdados/200508_/Dados/ST/CSVs/STPI_2020.csv', 'https://datascience.ipen.br/~mario/CNESdados/200508_/Dados/ST/CSVs/STRJ_2020.csv', 'https://datascience.ipen.br/~mario/CNESdados/200508_/Dados/ST/CSVs/STRN_2020.csv', 'https://datascience.ipen.br/~mario/CNESdados/200508_/Dados/ST/CSVs/STRO_2020.csv', 'https://datascience.ipen.br/~mario/CNESdados/200508_/Dados/ST/CSVs/STRS_2020.csv', 'https://datascience.ipen.br/~mario/CNESdados/200508_/Dados/ST/CSVs/STRR_2020.csv', 'https://datascience.ipen.br/~mario/CNESdados/200508_/Dados/ST/CSVs/STSC_2020.csv', 'https://datascience.ipen.br/~mario/CNESdados/200508_/Dados/ST/CSVs/STSE_2020.csv']\n",
            "['https://datascience.ipen.br/~mario/CNESdados/200508_/Dados/ST/CSVs/STAC_2020.csv', 'https://datascience.ipen.br/~mario/CNESdados/200508_/Dados/ST/CSVs/STAL_2020.csv', 'https://datascience.ipen.br/~mario/CNESdados/200508_/Dados/ST/CSVs/STAM_2020.csv', 'https://datascience.ipen.br/~mario/CNESdados/200508_/Dados/ST/CSVs/STAP_2020.csv', 'https://datascience.ipen.br/~mario/CNESdados/200508_/Dados/ST/CSVs/STBA_2020.csv', 'https://datascience.ipen.br/~mario/CNESdados/200508_/Dados/ST/CSVs/STCE_2020.csv', 'https://datascience.ipen.br/~mario/CNESdados/200508_/Dados/ST/CSVs/STDF_2020.csv', 'https://datascience.ipen.br/~mario/CNESdados/200508_/Dados/ST/CSVs/STES_2020.csv', 'https://datascience.ipen.br/~mario/CNESdados/200508_/Dados/ST/CSVs/STGO_2020.csv', 'https://datascience.ipen.br/~mario/CNESdados/200508_/Dados/ST/CSVs/STMA_2020.csv', 'https://datascience.ipen.br/~mario/CNESdados/200508_/Dados/ST/CSVs/STMT_2020.csv', 'https://datascience.ipen.br/~mario/CNESdados/200508_/Dados/ST/CSVs/STMS_2020.csv', 'https://datascience.ipen.br/~mario/CNESdados/200508_/Dados/ST/CSVs/STMG_2020.csv', 'https://datascience.ipen.br/~mario/CNESdados/200508_/Dados/ST/CSVs/STPA_2020.csv', 'https://datascience.ipen.br/~mario/CNESdados/200508_/Dados/ST/CSVs/STPB_2020.csv', 'https://datascience.ipen.br/~mario/CNESdados/200508_/Dados/ST/CSVs/STPR_2020.csv', 'https://datascience.ipen.br/~mario/CNESdados/200508_/Dados/ST/CSVs/STPE_2020.csv', 'https://datascience.ipen.br/~mario/CNESdados/200508_/Dados/ST/CSVs/STPI_2020.csv', 'https://datascience.ipen.br/~mario/CNESdados/200508_/Dados/ST/CSVs/STRJ_2020.csv', 'https://datascience.ipen.br/~mario/CNESdados/200508_/Dados/ST/CSVs/STRN_2020.csv', 'https://datascience.ipen.br/~mario/CNESdados/200508_/Dados/ST/CSVs/STRO_2020.csv', 'https://datascience.ipen.br/~mario/CNESdados/200508_/Dados/ST/CSVs/STRS_2020.csv', 'https://datascience.ipen.br/~mario/CNESdados/200508_/Dados/ST/CSVs/STRR_2020.csv', 'https://datascience.ipen.br/~mario/CNESdados/200508_/Dados/ST/CSVs/STSC_2020.csv', 'https://datascience.ipen.br/~mario/CNESdados/200508_/Dados/ST/CSVs/STSE_2020.csv', 'https://datascience.ipen.br/~mario/CNESdados/200508_/Dados/ST/CSVs/STSP_2020.csv']\n",
            "['https://datascience.ipen.br/~mario/CNESdados/200508_/Dados/ST/CSVs/STAC_2020.csv', 'https://datascience.ipen.br/~mario/CNESdados/200508_/Dados/ST/CSVs/STAL_2020.csv', 'https://datascience.ipen.br/~mario/CNESdados/200508_/Dados/ST/CSVs/STAM_2020.csv', 'https://datascience.ipen.br/~mario/CNESdados/200508_/Dados/ST/CSVs/STAP_2020.csv', 'https://datascience.ipen.br/~mario/CNESdados/200508_/Dados/ST/CSVs/STBA_2020.csv', 'https://datascience.ipen.br/~mario/CNESdados/200508_/Dados/ST/CSVs/STCE_2020.csv', 'https://datascience.ipen.br/~mario/CNESdados/200508_/Dados/ST/CSVs/STDF_2020.csv', 'https://datascience.ipen.br/~mario/CNESdados/200508_/Dados/ST/CSVs/STES_2020.csv', 'https://datascience.ipen.br/~mario/CNESdados/200508_/Dados/ST/CSVs/STGO_2020.csv', 'https://datascience.ipen.br/~mario/CNESdados/200508_/Dados/ST/CSVs/STMA_2020.csv', 'https://datascience.ipen.br/~mario/CNESdados/200508_/Dados/ST/CSVs/STMT_2020.csv', 'https://datascience.ipen.br/~mario/CNESdados/200508_/Dados/ST/CSVs/STMS_2020.csv', 'https://datascience.ipen.br/~mario/CNESdados/200508_/Dados/ST/CSVs/STMG_2020.csv', 'https://datascience.ipen.br/~mario/CNESdados/200508_/Dados/ST/CSVs/STPA_2020.csv', 'https://datascience.ipen.br/~mario/CNESdados/200508_/Dados/ST/CSVs/STPB_2020.csv', 'https://datascience.ipen.br/~mario/CNESdados/200508_/Dados/ST/CSVs/STPR_2020.csv', 'https://datascience.ipen.br/~mario/CNESdados/200508_/Dados/ST/CSVs/STPE_2020.csv', 'https://datascience.ipen.br/~mario/CNESdados/200508_/Dados/ST/CSVs/STPI_2020.csv', 'https://datascience.ipen.br/~mario/CNESdados/200508_/Dados/ST/CSVs/STRJ_2020.csv', 'https://datascience.ipen.br/~mario/CNESdados/200508_/Dados/ST/CSVs/STRN_2020.csv', 'https://datascience.ipen.br/~mario/CNESdados/200508_/Dados/ST/CSVs/STRO_2020.csv', 'https://datascience.ipen.br/~mario/CNESdados/200508_/Dados/ST/CSVs/STRS_2020.csv', 'https://datascience.ipen.br/~mario/CNESdados/200508_/Dados/ST/CSVs/STRR_2020.csv', 'https://datascience.ipen.br/~mario/CNESdados/200508_/Dados/ST/CSVs/STSC_2020.csv', 'https://datascience.ipen.br/~mario/CNESdados/200508_/Dados/ST/CSVs/STSE_2020.csv', 'https://datascience.ipen.br/~mario/CNESdados/200508_/Dados/ST/CSVs/STSP_2020.csv', 'https://datascience.ipen.br/~mario/CNESdados/200508_/Dados/ST/CSVs/STTO_2020.csv']\n"
          ],
          "name": "stdout"
        }
      ]
    },
    {
      "cell_type": "markdown",
      "metadata": {
        "id": "YJfvUdMB0WNR"
      },
      "source": [
        "# GERA O DATAFRAME DE ESTABELECIMENTOS"
      ]
    },
    {
      "cell_type": "code",
      "metadata": {
        "colab": {
          "base_uri": "https://localhost:8080/"
        },
        "id": "Z2oSx4Y90WNR",
        "outputId": "b2990ae3-c824-4642-f6a5-e6a017a1a80f"
      },
      "source": [
        "timeStartST = time.time()\n",
        "dfs_ST = [pd.read_csv(urlst, sep=',', error_bad_lines=False, index_col=False, dtype='unicode', usecols = campos_st) for urlst in array_urls_st]\n",
        "total_df_ST = pd.concat(dfs_ST, ignore_index=True)\n",
        "tempoDeExecucaoST = (time.time() - timeStartST)\n",
        "print('Tempo de execução em minutos: ' + str(tempoDeExecucaoST/60))"
      ],
      "execution_count": 193,
      "outputs": [
        {
          "output_type": "stream",
          "text": [
            "Tempo de execução em minutos: 1.8879082043965658\n"
          ],
          "name": "stdout"
        }
      ]
    },
    {
      "cell_type": "code",
      "metadata": {
        "scrolled": false,
        "colab": {
          "base_uri": "https://localhost:8080/"
        },
        "id": "iEDANubc0WNS",
        "outputId": "1ddf2093-5bce-4556-8739-3240262624c4"
      },
      "source": [
        "total_df_ST.shape"
      ],
      "execution_count": 194,
      "outputs": [
        {
          "output_type": "execute_result",
          "data": {
            "text/plain": [
              "(3581555, 3)"
            ]
          },
          "metadata": {
            "tags": []
          },
          "execution_count": 194
        }
      ]
    },
    {
      "cell_type": "code",
      "metadata": {
        "colab": {
          "base_uri": "https://localhost:8080/",
          "height": 390
        },
        "id": "HH81gcIqJgZ9",
        "outputId": "9427f424-269c-41e5-cf74-eb63274aaab7"
      },
      "source": [
        "filtro_cnpj = ['07738336000103']\n",
        "result_cnpj = total_df_ST[total_df_ST['CPF_CNPJ'].str.contains('|'.join(filtro_cnpj))]\n",
        "\n",
        "result_cnpj"
      ],
      "execution_count": 195,
      "outputs": [
        {
          "output_type": "execute_result",
          "data": {
            "text/html": [
              "<div>\n",
              "<style scoped>\n",
              "    .dataframe tbody tr th:only-of-type {\n",
              "        vertical-align: middle;\n",
              "    }\n",
              "\n",
              "    .dataframe tbody tr th {\n",
              "        vertical-align: top;\n",
              "    }\n",
              "\n",
              "    .dataframe thead th {\n",
              "        text-align: right;\n",
              "    }\n",
              "</style>\n",
              "<table border=\"1\" class=\"dataframe\">\n",
              "  <thead>\n",
              "    <tr style=\"text-align: right;\">\n",
              "      <th></th>\n",
              "      <th>CNES</th>\n",
              "      <th>CPF_CNPJ</th>\n",
              "      <th>ALVARA</th>\n",
              "    </tr>\n",
              "  </thead>\n",
              "  <tbody>\n",
              "    <tr>\n",
              "      <th>533289</th>\n",
              "      <td>3946207</td>\n",
              "      <td>07738336000103</td>\n",
              "      <td>NaN</td>\n",
              "    </tr>\n",
              "    <tr>\n",
              "      <th>544312</th>\n",
              "      <td>3946207</td>\n",
              "      <td>07738336000103</td>\n",
              "      <td>NaN</td>\n",
              "    </tr>\n",
              "    <tr>\n",
              "      <th>555490</th>\n",
              "      <td>3946207</td>\n",
              "      <td>07738336000103</td>\n",
              "      <td>NaN</td>\n",
              "    </tr>\n",
              "    <tr>\n",
              "      <th>566684</th>\n",
              "      <td>3946207</td>\n",
              "      <td>07738336000103</td>\n",
              "      <td>NaN</td>\n",
              "    </tr>\n",
              "    <tr>\n",
              "      <th>577899</th>\n",
              "      <td>3946207</td>\n",
              "      <td>07738336000103</td>\n",
              "      <td>NaN</td>\n",
              "    </tr>\n",
              "    <tr>\n",
              "      <th>589140</th>\n",
              "      <td>3946207</td>\n",
              "      <td>07738336000103</td>\n",
              "      <td>NaN</td>\n",
              "    </tr>\n",
              "    <tr>\n",
              "      <th>600416</th>\n",
              "      <td>3946207</td>\n",
              "      <td>07738336000103</td>\n",
              "      <td>NaN</td>\n",
              "    </tr>\n",
              "    <tr>\n",
              "      <th>611757</th>\n",
              "      <td>3946207</td>\n",
              "      <td>07738336000103</td>\n",
              "      <td>NaN</td>\n",
              "    </tr>\n",
              "    <tr>\n",
              "      <th>623131</th>\n",
              "      <td>3946207</td>\n",
              "      <td>07738336000103</td>\n",
              "      <td>NaN</td>\n",
              "    </tr>\n",
              "    <tr>\n",
              "      <th>634550</th>\n",
              "      <td>3946207</td>\n",
              "      <td>07738336000103</td>\n",
              "      <td>NaN</td>\n",
              "    </tr>\n",
              "    <tr>\n",
              "      <th>646018</th>\n",
              "      <td>3946207</td>\n",
              "      <td>07738336000103</td>\n",
              "      <td>NaN</td>\n",
              "    </tr>\n",
              "  </tbody>\n",
              "</table>\n",
              "</div>"
            ],
            "text/plain": [
              "           CNES        CPF_CNPJ ALVARA\n",
              "533289  3946207  07738336000103    NaN\n",
              "544312  3946207  07738336000103    NaN\n",
              "555490  3946207  07738336000103    NaN\n",
              "566684  3946207  07738336000103    NaN\n",
              "577899  3946207  07738336000103    NaN\n",
              "589140  3946207  07738336000103    NaN\n",
              "600416  3946207  07738336000103    NaN\n",
              "611757  3946207  07738336000103    NaN\n",
              "623131  3946207  07738336000103    NaN\n",
              "634550  3946207  07738336000103    NaN\n",
              "646018  3946207  07738336000103    NaN"
            ]
          },
          "metadata": {
            "tags": []
          },
          "execution_count": 195
        }
      ]
    },
    {
      "cell_type": "code",
      "metadata": {
        "colab": {
          "base_uri": "https://localhost:8080/",
          "height": 419
        },
        "id": "jFXq0NLO0WNS",
        "outputId": "883ff32d-da00-4ce3-8bae-033968b97815"
      },
      "source": [
        "total_df_ST"
      ],
      "execution_count": 196,
      "outputs": [
        {
          "output_type": "execute_result",
          "data": {
            "text/html": [
              "<div>\n",
              "<style scoped>\n",
              "    .dataframe tbody tr th:only-of-type {\n",
              "        vertical-align: middle;\n",
              "    }\n",
              "\n",
              "    .dataframe tbody tr th {\n",
              "        vertical-align: top;\n",
              "    }\n",
              "\n",
              "    .dataframe thead th {\n",
              "        text-align: right;\n",
              "    }\n",
              "</style>\n",
              "<table border=\"1\" class=\"dataframe\">\n",
              "  <thead>\n",
              "    <tr style=\"text-align: right;\">\n",
              "      <th></th>\n",
              "      <th>CNES</th>\n",
              "      <th>CPF_CNPJ</th>\n",
              "      <th>ALVARA</th>\n",
              "    </tr>\n",
              "  </thead>\n",
              "  <tbody>\n",
              "    <tr>\n",
              "      <th>0</th>\n",
              "      <td>3006166</td>\n",
              "      <td>00000000000000</td>\n",
              "      <td>NaN</td>\n",
              "    </tr>\n",
              "    <tr>\n",
              "      <th>1</th>\n",
              "      <td>3382745</td>\n",
              "      <td>00000000000000</td>\n",
              "      <td>NaN</td>\n",
              "    </tr>\n",
              "    <tr>\n",
              "      <th>2</th>\n",
              "      <td>3393984</td>\n",
              "      <td>00000000000000</td>\n",
              "      <td>NaN</td>\n",
              "    </tr>\n",
              "    <tr>\n",
              "      <th>3</th>\n",
              "      <td>3638685</td>\n",
              "      <td>00000000000000</td>\n",
              "      <td>NaN</td>\n",
              "    </tr>\n",
              "    <tr>\n",
              "      <th>4</th>\n",
              "      <td>5403669</td>\n",
              "      <td>00000000000000</td>\n",
              "      <td>NaN</td>\n",
              "    </tr>\n",
              "    <tr>\n",
              "      <th>...</th>\n",
              "      <td>...</td>\n",
              "      <td>...</td>\n",
              "      <td>...</td>\n",
              "    </tr>\n",
              "    <tr>\n",
              "      <th>3581550</th>\n",
              "      <td>7170149</td>\n",
              "      <td>00000000000000</td>\n",
              "      <td>36/2019</td>\n",
              "    </tr>\n",
              "    <tr>\n",
              "      <th>3581551</th>\n",
              "      <td>7170157</td>\n",
              "      <td>00000000000000</td>\n",
              "      <td>34/2019</td>\n",
              "    </tr>\n",
              "    <tr>\n",
              "      <th>3581552</th>\n",
              "      <td>7200447</td>\n",
              "      <td>00000000000000</td>\n",
              "      <td>35/2019</td>\n",
              "    </tr>\n",
              "    <tr>\n",
              "      <th>3581553</th>\n",
              "      <td>7970269</td>\n",
              "      <td>13038293000148</td>\n",
              "      <td>02/2018</td>\n",
              "    </tr>\n",
              "    <tr>\n",
              "      <th>3581554</th>\n",
              "      <td>9637605</td>\n",
              "      <td>02638340000330</td>\n",
              "      <td>3329</td>\n",
              "    </tr>\n",
              "  </tbody>\n",
              "</table>\n",
              "<p>3581555 rows × 3 columns</p>\n",
              "</div>"
            ],
            "text/plain": [
              "            CNES        CPF_CNPJ   ALVARA\n",
              "0        3006166  00000000000000      NaN\n",
              "1        3382745  00000000000000      NaN\n",
              "2        3393984  00000000000000      NaN\n",
              "3        3638685  00000000000000      NaN\n",
              "4        5403669  00000000000000      NaN\n",
              "...          ...             ...      ...\n",
              "3581550  7170149  00000000000000  36/2019\n",
              "3581551  7170157  00000000000000  34/2019\n",
              "3581552  7200447  00000000000000  35/2019\n",
              "3581553  7970269  13038293000148  02/2018\n",
              "3581554  9637605  02638340000330     3329\n",
              "\n",
              "[3581555 rows x 3 columns]"
            ]
          },
          "metadata": {
            "tags": []
          },
          "execution_count": 196
        }
      ]
    },
    {
      "cell_type": "markdown",
      "metadata": {
        "id": "PH2XFoXSBhAG"
      },
      "source": [
        ""
      ]
    },
    {
      "cell_type": "markdown",
      "metadata": {
        "id": "sJd-ODgjWoD7"
      },
      "source": [
        "# FAZ O MERGE (RIGHT JOIN NO SQL) USANDO COMO CHAVE O VALOR CNES E REMOVENDO OS DUPLICADOS\n",
        "\n",
        "Aqui tenho um resultado de todas as empresas da base CNES que trabalham (ou tenham!?) os equipamentos GAMA CAMARA e PET/CT. Nesta lista podemos conferir se, pelo CNES, temos o Alvará.\n",
        "Com base nesta lista é possível importar a base de Clientes da Cnen e fazer uma comparação utilizando o CNES ou CNPJ cadastrado. "
      ]
    },
    {
      "cell_type": "code",
      "metadata": {
        "id": "3WEzDBh10WNS"
      },
      "source": [
        "df_lista_cnes = pd.merge(total_df_ST, result_df_EQ, on=\"CNES\", how=\"left\").drop_duplicates()\n",
        "df_lista_cnes = (df_lista_cnes.rename(columns={'CPF_CNPJ_x': 'CNPJ'})).drop(columns=['CPF_CNPJ_y'])\n",
        "df_lista_cnes['CNPJ'] = df_lista_cnes['CNPJ'].str.replace(\".\",\"\")\n",
        "df_lista_cnes['CNPJ'] = df_lista_cnes['CNPJ'].str.replace(\"/\",\"\")\n",
        "df_lista_cnes['CNPJ'] = df_lista_cnes['CNPJ'].str.replace(\"-\",\"\")\n",
        "df_lista_cnes['CNPJ'] = df_lista_cnes['CNPJ'].str.replace(\" \",\"\")\n"
      ],
      "execution_count": 197,
      "outputs": []
    },
    {
      "cell_type": "code",
      "metadata": {
        "colab": {
          "base_uri": "https://localhost:8080/",
          "height": 80
        },
        "id": "nPFVHhsGKHwV",
        "outputId": "a511c4a6-d391-4783-8de6-103bd7f478da"
      },
      "source": [
        "filtro_cnpj_lista = ['07738336000103']\n",
        "result_cnpj_lista = df_lista_cnes[df_lista_cnes['CNPJ'].str.contains('|'.join(filtro_cnpj_lista))]\n",
        "\n",
        "result_cnpj_lista"
      ],
      "execution_count": 198,
      "outputs": [
        {
          "output_type": "execute_result",
          "data": {
            "text/html": [
              "<div>\n",
              "<style scoped>\n",
              "    .dataframe tbody tr th:only-of-type {\n",
              "        vertical-align: middle;\n",
              "    }\n",
              "\n",
              "    .dataframe tbody tr th {\n",
              "        vertical-align: top;\n",
              "    }\n",
              "\n",
              "    .dataframe thead th {\n",
              "        text-align: right;\n",
              "    }\n",
              "</style>\n",
              "<table border=\"1\" class=\"dataframe\">\n",
              "  <thead>\n",
              "    <tr style=\"text-align: right;\">\n",
              "      <th></th>\n",
              "      <th>CNES</th>\n",
              "      <th>CNPJ</th>\n",
              "      <th>ALVARA</th>\n",
              "      <th>CODEQUIP_TAB_EQ</th>\n",
              "    </tr>\n",
              "  </thead>\n",
              "  <tbody>\n",
              "    <tr>\n",
              "      <th>546841</th>\n",
              "      <td>3946207</td>\n",
              "      <td>07738336000103</td>\n",
              "      <td>NaN</td>\n",
              "      <td>NaN</td>\n",
              "    </tr>\n",
              "  </tbody>\n",
              "</table>\n",
              "</div>"
            ],
            "text/plain": [
              "           CNES            CNPJ ALVARA  CODEQUIP_TAB_EQ\n",
              "546841  3946207  07738336000103    NaN              NaN"
            ]
          },
          "metadata": {
            "tags": []
          },
          "execution_count": 198
        }
      ]
    },
    {
      "cell_type": "code",
      "metadata": {
        "colab": {
          "base_uri": "https://localhost:8080/",
          "height": 419
        },
        "id": "7le04PUtBUqb",
        "outputId": "0982d4ec-e4c0-4a9f-b16b-0fe089cefeb7"
      },
      "source": [
        "df_lista_cnes"
      ],
      "execution_count": 199,
      "outputs": [
        {
          "output_type": "execute_result",
          "data": {
            "text/html": [
              "<div>\n",
              "<style scoped>\n",
              "    .dataframe tbody tr th:only-of-type {\n",
              "        vertical-align: middle;\n",
              "    }\n",
              "\n",
              "    .dataframe tbody tr th {\n",
              "        vertical-align: top;\n",
              "    }\n",
              "\n",
              "    .dataframe thead th {\n",
              "        text-align: right;\n",
              "    }\n",
              "</style>\n",
              "<table border=\"1\" class=\"dataframe\">\n",
              "  <thead>\n",
              "    <tr style=\"text-align: right;\">\n",
              "      <th></th>\n",
              "      <th>CNES</th>\n",
              "      <th>CNPJ</th>\n",
              "      <th>ALVARA</th>\n",
              "      <th>CODEQUIP_TAB_EQ</th>\n",
              "    </tr>\n",
              "  </thead>\n",
              "  <tbody>\n",
              "    <tr>\n",
              "      <th>0</th>\n",
              "      <td>3006166</td>\n",
              "      <td>00000000000000</td>\n",
              "      <td>NaN</td>\n",
              "      <td>NaN</td>\n",
              "    </tr>\n",
              "    <tr>\n",
              "      <th>1</th>\n",
              "      <td>3382745</td>\n",
              "      <td>00000000000000</td>\n",
              "      <td>NaN</td>\n",
              "      <td>NaN</td>\n",
              "    </tr>\n",
              "    <tr>\n",
              "      <th>2</th>\n",
              "      <td>3393984</td>\n",
              "      <td>00000000000000</td>\n",
              "      <td>NaN</td>\n",
              "      <td>NaN</td>\n",
              "    </tr>\n",
              "    <tr>\n",
              "      <th>3</th>\n",
              "      <td>3638685</td>\n",
              "      <td>00000000000000</td>\n",
              "      <td>NaN</td>\n",
              "      <td>NaN</td>\n",
              "    </tr>\n",
              "    <tr>\n",
              "      <th>4</th>\n",
              "      <td>5403669</td>\n",
              "      <td>00000000000000</td>\n",
              "      <td>NaN</td>\n",
              "      <td>NaN</td>\n",
              "    </tr>\n",
              "    <tr>\n",
              "      <th>...</th>\n",
              "      <td>...</td>\n",
              "      <td>...</td>\n",
              "      <td>...</td>\n",
              "      <td>...</td>\n",
              "    </tr>\n",
              "    <tr>\n",
              "      <th>3652875</th>\n",
              "      <td>0446475</td>\n",
              "      <td>36188358000137</td>\n",
              "      <td>2020011950</td>\n",
              "      <td>NaN</td>\n",
              "    </tr>\n",
              "    <tr>\n",
              "      <th>3652914</th>\n",
              "      <td>2492644</td>\n",
              "      <td>38143442000160</td>\n",
              "      <td>2020016205</td>\n",
              "      <td>NaN</td>\n",
              "    </tr>\n",
              "    <tr>\n",
              "      <th>3653184</th>\n",
              "      <td>6956661</td>\n",
              "      <td>14534761000138</td>\n",
              "      <td>20200009910</td>\n",
              "      <td>NaN</td>\n",
              "    </tr>\n",
              "    <tr>\n",
              "      <th>3653415</th>\n",
              "      <td>9510680</td>\n",
              "      <td>27615935000139</td>\n",
              "      <td>2020015539</td>\n",
              "      <td>NaN</td>\n",
              "    </tr>\n",
              "    <tr>\n",
              "      <th>3653474</th>\n",
              "      <td>9845542</td>\n",
              "      <td>27471554000123</td>\n",
              "      <td>2020015526</td>\n",
              "      <td>NaN</td>\n",
              "    </tr>\n",
              "  </tbody>\n",
              "</table>\n",
              "<p>375854 rows × 4 columns</p>\n",
              "</div>"
            ],
            "text/plain": [
              "            CNES            CNPJ       ALVARA  CODEQUIP_TAB_EQ\n",
              "0        3006166  00000000000000          NaN              NaN\n",
              "1        3382745  00000000000000          NaN              NaN\n",
              "2        3393984  00000000000000          NaN              NaN\n",
              "3        3638685  00000000000000          NaN              NaN\n",
              "4        5403669  00000000000000          NaN              NaN\n",
              "...          ...             ...          ...              ...\n",
              "3652875  0446475  36188358000137   2020011950              NaN\n",
              "3652914  2492644  38143442000160   2020016205              NaN\n",
              "3653184  6956661  14534761000138  20200009910              NaN\n",
              "3653415  9510680  27615935000139   2020015539              NaN\n",
              "3653474  9845542  27471554000123   2020015526              NaN\n",
              "\n",
              "[375854 rows x 4 columns]"
            ]
          },
          "metadata": {
            "tags": []
          },
          "execution_count": 199
        }
      ]
    },
    {
      "cell_type": "code",
      "metadata": {
        "id": "kD0R0DvLOyJY"
      },
      "source": [
        "df_lista_cnes.to_csv('/drive/My Drive/DS_CNES/df_lista_cnes_leftjoin.csv')"
      ],
      "execution_count": 200,
      "outputs": []
    },
    {
      "cell_type": "markdown",
      "metadata": {
        "id": "IFXr7oRlPjLY"
      },
      "source": [
        "# CARREGA DO GOOGLE DRIVE A LISTA DE CLIENTES DISPONIBILIZADA PELA CNEN\n",
        "Ao mesmo tempo que carrega a lista, que esta em excel, é formatado o campo de CNPJ para Join com o resultado da base CNES acima."
      ]
    },
    {
      "cell_type": "code",
      "metadata": {
        "id": "7fg_-VL9blxP",
        "colab": {
          "base_uri": "https://localhost:8080/",
          "height": 1000
        },
        "outputId": "5b7875c2-2b6f-447b-8061-93b7c60c37f8"
      },
      "source": [
        "url_lista_clientes_cnen = 'https://drive.google.com/file/d/1OvY1NsR0Bn8eDq2I28TRvwjQPEdPywAh/view?usp=sharing'\n",
        "path_lista_clientes_cnen = 'https://drive.google.com/uc?export=download&id='+url_lista_clientes_cnen.split('/')[-2]\n",
        "df_lista_clientes_cnen = pd.read_excel(path_lista_clientes_cnen, index_col=0).drop(columns=['seq'])\n",
        "df_lista_clientes_cnen['CNPJ'] = df_lista_clientes_cnen['CNPJ'].str.replace(\".\",\"\")\n",
        "df_lista_clientes_cnen['CNPJ'] = df_lista_clientes_cnen['CNPJ'].str.replace(\"/\",\"\")\n",
        "df_lista_clientes_cnen['CNPJ'] = df_lista_clientes_cnen['CNPJ'].str.replace(\"-\",\"\")\n",
        "df_lista_clientes_cnen['CNPJ'] = df_lista_clientes_cnen['CNPJ'].str.replace(\" \",\"\")\n",
        "df_lista_clientes_cnen['RAZAOSOCIAL'] = df_lista_clientes_cnen['RAZAOSOCIAL'].apply(lambda x:removerAcentosECaracteresEspeciais(x))\n",
        "df_lista_clientes_cnen['UNIDADE'] = df_lista_clientes_cnen['UNIDADE'].apply(lambda x:removerAcentosECaracteresEspeciais(x))\n",
        "df_lista_clientes_cnen['RESPONSAVEL'] = df_lista_clientes_cnen['RESPONSAVEL'].apply(lambda x:removerAcentosECaracteresEspeciais(x))\n",
        "df_lista_clientes_cnen['ENDERECO'] = df_lista_clientes_cnen['ENDERECO'].apply(lambda x:removerAcentosECaracteresEspeciais(x))\n",
        "df_lista_clientes_cnen['MUNICIPIO'] = df_lista_clientes_cnen['MUNICIPIO'].apply(lambda x:removerAcentosECaracteresEspeciais(x))\n",
        "\n",
        "df_lista_clientes_cnen\n"
      ],
      "execution_count": 201,
      "outputs": [
        {
          "output_type": "execute_result",
          "data": {
            "text/html": [
              "<div>\n",
              "<style scoped>\n",
              "    .dataframe tbody tr th:only-of-type {\n",
              "        vertical-align: middle;\n",
              "    }\n",
              "\n",
              "    .dataframe tbody tr th {\n",
              "        vertical-align: top;\n",
              "    }\n",
              "\n",
              "    .dataframe thead th {\n",
              "        text-align: right;\n",
              "    }\n",
              "</style>\n",
              "<table border=\"1\" class=\"dataframe\">\n",
              "  <thead>\n",
              "    <tr style=\"text-align: right;\">\n",
              "      <th></th>\n",
              "      <th>CODIGORESP</th>\n",
              "      <th>CNPJ</th>\n",
              "      <th>RAZAOSOCIAL</th>\n",
              "      <th>UNIDADE</th>\n",
              "      <th>RESPONSAVEL</th>\n",
              "      <th>MATRICULACNEN</th>\n",
              "      <th>ENDERECO</th>\n",
              "      <th>NUMERO</th>\n",
              "      <th>COMPLEMENTO</th>\n",
              "      <th>BAIRRO</th>\n",
              "      <th>MUNICIPIO</th>\n",
              "      <th>UF</th>\n",
              "      <th>CEP</th>\n",
              "    </tr>\n",
              "    <tr>\n",
              "      <th>CODIGOCLIENTE</th>\n",
              "      <th></th>\n",
              "      <th></th>\n",
              "      <th></th>\n",
              "      <th></th>\n",
              "      <th></th>\n",
              "      <th></th>\n",
              "      <th></th>\n",
              "      <th></th>\n",
              "      <th></th>\n",
              "      <th></th>\n",
              "      <th></th>\n",
              "      <th></th>\n",
              "      <th></th>\n",
              "    </tr>\n",
              "  </thead>\n",
              "  <tbody>\n",
              "    <tr>\n",
              "      <th>5002184</th>\n",
              "      <td>1</td>\n",
              "      <td>21554423000123</td>\n",
              "      <td>INSTITUTO ONCOLOGICO LTDA  JUIZ DE FORAMG</td>\n",
              "      <td>MEDICINA NUCLEAR</td>\n",
              "      <td>GUSTAVO SFFEIR C DE MAGALHAES</td>\n",
              "      <td>16404</td>\n",
              "      <td>RUA SANTOS DUMONT</td>\n",
              "      <td>56</td>\n",
              "      <td>NaN</td>\n",
              "      <td>GRANBERY</td>\n",
              "      <td>JUIZ DE FORA</td>\n",
              "      <td>MG</td>\n",
              "      <td>36010510</td>\n",
              "    </tr>\n",
              "    <tr>\n",
              "      <th>5002672</th>\n",
              "      <td>1</td>\n",
              "      <td>33205964000125</td>\n",
              "      <td>CLINICA DE MEDICINA NUCL VILLELA PEDRAS LTDA</td>\n",
              "      <td>MED NUCLEAR</td>\n",
              "      <td>IVAN DE SA VILELA PEDRAS</td>\n",
              "      <td>11595</td>\n",
              "      <td>RUA MEXICO</td>\n",
              "      <td>98</td>\n",
              "      <td>3 E 4 ANDAR</td>\n",
              "      <td>CENTRO</td>\n",
              "      <td>RIO DE JANEIRO</td>\n",
              "      <td>RJ</td>\n",
              "      <td>20031141</td>\n",
              "    </tr>\n",
              "    <tr>\n",
              "      <th>5009782</th>\n",
              "      <td>1</td>\n",
              "      <td>15166416000151</td>\n",
              "      <td>REAL SOCIEDADE PORTUGUESA DE BENEFICIENCIA 16 ...</td>\n",
              "      <td>MEDICINA NUCLEAR</td>\n",
              "      <td>EDMARIO ANTONIO G COSTA</td>\n",
              "      <td>11672</td>\n",
              "      <td>AV PRINCESA ISABEL</td>\n",
              "      <td>914</td>\n",
              "      <td>NaN</td>\n",
              "      <td>BARRA AVENIDA</td>\n",
              "      <td>SALVADOR</td>\n",
              "      <td>BA</td>\n",
              "      <td>40140901</td>\n",
              "    </tr>\n",
              "    <tr>\n",
              "      <th>5016363</th>\n",
              "      <td>1</td>\n",
              "      <td>75033308000132</td>\n",
              "      <td>CENTRO DE MEDICINA NUCLEAR DO PARANA LTDA SC</td>\n",
              "      <td>MEDICINA NUCLEAR</td>\n",
              "      <td>TAIZA PARENTE ZUKOVSKI</td>\n",
              "      <td>15390</td>\n",
              "      <td>RUA PDE ILDEFONSO</td>\n",
              "      <td>158</td>\n",
              "      <td>NaN</td>\n",
              "      <td>BATEL</td>\n",
              "      <td>CURITIBA</td>\n",
              "      <td>PR</td>\n",
              "      <td>80240160</td>\n",
              "    </tr>\n",
              "    <tr>\n",
              "      <th>5017408</th>\n",
              "      <td>1</td>\n",
              "      <td>33804212000180</td>\n",
              "      <td>CLINICA SAO CARLOS SA</td>\n",
              "      <td>SERV MED NUCLEAR</td>\n",
              "      <td>CARLOS AFFONSO FUSER</td>\n",
              "      <td>11663</td>\n",
              "      <td>RUA HUMAITA</td>\n",
              "      <td>296</td>\n",
              "      <td>NaN</td>\n",
              "      <td>BOTAFOGO</td>\n",
              "      <td>RIO DE JANEIRO</td>\n",
              "      <td>RJ</td>\n",
              "      <td>22261001</td>\n",
              "    </tr>\n",
              "    <tr>\n",
              "      <th>...</th>\n",
              "      <td>...</td>\n",
              "      <td>...</td>\n",
              "      <td>...</td>\n",
              "      <td>...</td>\n",
              "      <td>...</td>\n",
              "      <td>...</td>\n",
              "      <td>...</td>\n",
              "      <td>...</td>\n",
              "      <td>...</td>\n",
              "      <td>...</td>\n",
              "      <td>...</td>\n",
              "      <td>...</td>\n",
              "      <td>...</td>\n",
              "    </tr>\n",
              "    <tr>\n",
              "      <th>6251323</th>\n",
              "      <td>1</td>\n",
              "      <td>15126437001549</td>\n",
              "      <td>EMPRESA BRASILEIRA DE SERVICOS HOSPITALARES  E...</td>\n",
              "      <td>MEDICINA NUCLEAR</td>\n",
              "      <td>Viviane S Parisotto Marino</td>\n",
              "      <td>14304</td>\n",
              "      <td>AVENIDA ALFREDO BALENA</td>\n",
              "      <td>110</td>\n",
              "      <td>NaN</td>\n",
              "      <td>SANTA  EFIGENIA</td>\n",
              "      <td>BELO HORIZONTE</td>\n",
              "      <td>MG</td>\n",
              "      <td>30130100</td>\n",
              "    </tr>\n",
              "    <tr>\n",
              "      <th>6251374</th>\n",
              "      <td>1</td>\n",
              "      <td>09609235000230</td>\n",
              "      <td>HOSPITAL CENTRAL DO EXERCITO</td>\n",
              "      <td>MEDICINA NUCLEAR</td>\n",
              "      <td>AFONSO EDUARDO M MUZITANO</td>\n",
              "      <td>16239</td>\n",
              "      <td>RUA FRANCISCO MANUEL</td>\n",
              "      <td>126</td>\n",
              "      <td>NaN</td>\n",
              "      <td>BEFICA</td>\n",
              "      <td>RIO DE JANEIRO</td>\n",
              "      <td>RJ</td>\n",
              "      <td>20911270</td>\n",
              "    </tr>\n",
              "    <tr>\n",
              "      <th>6251412</th>\n",
              "      <td>1</td>\n",
              "      <td>15126437002006</td>\n",
              "      <td>EBSERH HUPAAUFAL</td>\n",
              "      <td>MEDICINA NUCLEAR</td>\n",
              "      <td>ANDRE GUSTAVO SILVA PINO</td>\n",
              "      <td>17420</td>\n",
              "      <td>AV LOURIVAL MELO MOTA</td>\n",
              "      <td>S/N</td>\n",
              "      <td>NaN</td>\n",
              "      <td>TABULEIRO DOS MARTINS</td>\n",
              "      <td>MACEIO</td>\n",
              "      <td>AL</td>\n",
              "      <td>57072900</td>\n",
              "    </tr>\n",
              "    <tr>\n",
              "      <th>6251420</th>\n",
              "      <td>1</td>\n",
              "      <td>15126437003673</td>\n",
              "      <td>EBSERH  HOSPITAL UNIVERSITARIO ANTONIO PEDRO</td>\n",
              "      <td>MEDICINA NUCLEAR</td>\n",
              "      <td>RAQUEL DE PAULA MENDES OLIVEIR</td>\n",
              "      <td>17296</td>\n",
              "      <td>RUA MARQUES DO PARANA</td>\n",
              "      <td>303</td>\n",
              "      <td>2º andar</td>\n",
              "      <td>NITERÓI</td>\n",
              "      <td>RIO DE JANEIRO</td>\n",
              "      <td>RJ</td>\n",
              "      <td>24030215</td>\n",
              "    </tr>\n",
              "    <tr>\n",
              "      <th>6284325</th>\n",
              "      <td>1</td>\n",
              "      <td>15180714000520</td>\n",
              "      <td>COMPLEXO HOSPITALAR DE SAUDE  UFBA</td>\n",
              "      <td>MEDICINA NUCLEAR</td>\n",
              "      <td>CARLOS FREDERICO VIEIRA PEPE</td>\n",
              "      <td>15954</td>\n",
              "      <td>RUA SALDANHA MARINHO</td>\n",
              "      <td>S/N</td>\n",
              "      <td>NaN</td>\n",
              "      <td>CAIXA D'ÁGUA</td>\n",
              "      <td>SALVADOR</td>\n",
              "      <td>BA</td>\n",
              "      <td>40323010</td>\n",
              "    </tr>\n",
              "  </tbody>\n",
              "</table>\n",
              "<p>443 rows × 13 columns</p>\n",
              "</div>"
            ],
            "text/plain": [
              "               CODIGORESP            CNPJ  \\\n",
              "CODIGOCLIENTE                               \n",
              "5002184                 1  21554423000123   \n",
              "5002672                 1  33205964000125   \n",
              "5009782                 1  15166416000151   \n",
              "5016363                 1  75033308000132   \n",
              "5017408                 1  33804212000180   \n",
              "...                   ...             ...   \n",
              "6251323                 1  15126437001549   \n",
              "6251374                 1  09609235000230   \n",
              "6251412                 1  15126437002006   \n",
              "6251420                 1  15126437003673   \n",
              "6284325                 1  15180714000520   \n",
              "\n",
              "                                                     RAZAOSOCIAL  \\\n",
              "CODIGOCLIENTE                                                      \n",
              "5002184                INSTITUTO ONCOLOGICO LTDA  JUIZ DE FORAMG   \n",
              "5002672             CLINICA DE MEDICINA NUCL VILLELA PEDRAS LTDA   \n",
              "5009782        REAL SOCIEDADE PORTUGUESA DE BENEFICIENCIA 16 ...   \n",
              "5016363             CENTRO DE MEDICINA NUCLEAR DO PARANA LTDA SC   \n",
              "5017408                                    CLINICA SAO CARLOS SA   \n",
              "...                                                          ...   \n",
              "6251323        EMPRESA BRASILEIRA DE SERVICOS HOSPITALARES  E...   \n",
              "6251374                             HOSPITAL CENTRAL DO EXERCITO   \n",
              "6251412                                         EBSERH HUPAAUFAL   \n",
              "6251420             EBSERH  HOSPITAL UNIVERSITARIO ANTONIO PEDRO   \n",
              "6284325                       COMPLEXO HOSPITALAR DE SAUDE  UFBA   \n",
              "\n",
              "                        UNIDADE                     RESPONSAVEL  \\\n",
              "CODIGOCLIENTE                                                     \n",
              "5002184        MEDICINA NUCLEAR   GUSTAVO SFFEIR C DE MAGALHAES   \n",
              "5002672             MED NUCLEAR        IVAN DE SA VILELA PEDRAS   \n",
              "5009782        MEDICINA NUCLEAR         EDMARIO ANTONIO G COSTA   \n",
              "5016363        MEDICINA NUCLEAR          TAIZA PARENTE ZUKOVSKI   \n",
              "5017408        SERV MED NUCLEAR            CARLOS AFFONSO FUSER   \n",
              "...                         ...                             ...   \n",
              "6251323        MEDICINA NUCLEAR      Viviane S Parisotto Marino   \n",
              "6251374        MEDICINA NUCLEAR       AFONSO EDUARDO M MUZITANO   \n",
              "6251412        MEDICINA NUCLEAR        ANDRE GUSTAVO SILVA PINO   \n",
              "6251420        MEDICINA NUCLEAR  RAQUEL DE PAULA MENDES OLIVEIR   \n",
              "6284325        MEDICINA NUCLEAR    CARLOS FREDERICO VIEIRA PEPE   \n",
              "\n",
              "               MATRICULACNEN                ENDERECO NUMERO  COMPLEMENTO  \\\n",
              "CODIGOCLIENTE                                                              \n",
              "5002184                16404       RUA SANTOS DUMONT     56          NaN   \n",
              "5002672                11595              RUA MEXICO     98  3 E 4 ANDAR   \n",
              "5009782                11672      AV PRINCESA ISABEL    914          NaN   \n",
              "5016363                15390       RUA PDE ILDEFONSO    158          NaN   \n",
              "5017408                11663             RUA HUMAITA    296          NaN   \n",
              "...                      ...                     ...    ...          ...   \n",
              "6251323                14304  AVENIDA ALFREDO BALENA    110          NaN   \n",
              "6251374                16239    RUA FRANCISCO MANUEL    126          NaN   \n",
              "6251412                17420   AV LOURIVAL MELO MOTA    S/N          NaN   \n",
              "6251420                17296   RUA MARQUES DO PARANA    303     2º andar   \n",
              "6284325                15954    RUA SALDANHA MARINHO    S/N          NaN   \n",
              "\n",
              "                              BAIRRO       MUNICIPIO  UF       CEP  \n",
              "CODIGOCLIENTE                                                       \n",
              "5002184                     GRANBERY    JUIZ DE FORA  MG  36010510  \n",
              "5002672                       CENTRO  RIO DE JANEIRO  RJ  20031141  \n",
              "5009782                BARRA AVENIDA        SALVADOR  BA  40140901  \n",
              "5016363                        BATEL        CURITIBA  PR  80240160  \n",
              "5017408                     BOTAFOGO  RIO DE JANEIRO  RJ  22261001  \n",
              "...                              ...             ...  ..       ...  \n",
              "6251323              SANTA  EFIGENIA  BELO HORIZONTE  MG  30130100  \n",
              "6251374                       BEFICA  RIO DE JANEIRO  RJ  20911270  \n",
              "6251412        TABULEIRO DOS MARTINS          MACEIO  AL  57072900  \n",
              "6251420                      NITERÓI  RIO DE JANEIRO  RJ  24030215  \n",
              "6284325                 CAIXA D'ÁGUA        SALVADOR  BA  40323010  \n",
              "\n",
              "[443 rows x 13 columns]"
            ]
          },
          "metadata": {
            "tags": []
          },
          "execution_count": 201
        }
      ]
    },
    {
      "cell_type": "code",
      "metadata": {
        "id": "7tZFsOI4fDyn"
      },
      "source": [
        "df_lista_clientes_cnen.to_csv('/drive/My Drive/DS_CNES/df_lista_clientes_cnen.csv')"
      ],
      "execution_count": 202,
      "outputs": []
    },
    {
      "cell_type": "markdown",
      "metadata": {
        "id": "ff-5rRtLBjMZ"
      },
      "source": [
        "# FAZ O MERGE DA LISTA DE CLIENTES COM A LISTA DA BASE CNES\n",
        "Utiliza como chave o campo CNPJ"
      ]
    },
    {
      "cell_type": "code",
      "metadata": {
        "id": "vdLEV1dz9P3M"
      },
      "source": [
        "df_resultado_final = pd.merge(df_lista_clientes_cnen, df_lista_cnes, left_on=\"CNPJ\", right_on=\"CNPJ\", how=\"inner\")\n",
        "df_resultado_final['ALVARA'] = df_resultado_final['ALVARA'].str.replace(\",\",\"\")\n",
        "df_resultado_final['COMPLEMENTO'] = df_resultado_final['COMPLEMENTO'].str.replace(\",\",\"\")"
      ],
      "execution_count": 203,
      "outputs": []
    },
    {
      "cell_type": "code",
      "metadata": {
        "id": "YLIIwNglGKHm"
      },
      "source": [
        "df_resultado_final.to_csv('/drive/My Drive/DS_CNES/df_resultado_final_left.csv')\n"
      ],
      "execution_count": 204,
      "outputs": []
    },
    {
      "cell_type": "code",
      "metadata": {
        "colab": {
          "base_uri": "https://localhost:8080/"
        },
        "id": "o_eI-ZSgJNkg",
        "outputId": "5824b601-930b-4418-fe26-d0a279653231"
      },
      "source": [
        "df1 = dataframe_final\n",
        "print(df1.shape)\n",
        "df2 = df_lista_clientes_cnen\n",
        "print(df2.shape)\n",
        "df3 = df_resultado_final\n",
        "print(df3.shape)\n"
      ],
      "execution_count": 206,
      "outputs": [
        {
          "output_type": "stream",
          "text": [
            "(433, 16)\n",
            "(443, 13)\n",
            "(508, 16)\n"
          ],
          "name": "stdout"
        }
      ]
    },
    {
      "cell_type": "code",
      "metadata": {
        "colab": {
          "base_uri": "https://localhost:8080/",
          "height": 949
        },
        "id": "XRxsBvCZU52D",
        "outputId": "b160f04f-72b3-4ca3-8ce1-ab8f42752b6f"
      },
      "source": [
        "df1 = df_lista_clientes_cnen\n",
        "df2 = pd.merge(dataframe_final, df_lista_clientes_cnen, left_on=\"CNPJ\", right_on=\"CNPJ\", how=\"inner\")\n",
        "df_all = df1.merge(df2.drop_duplicates(), on=['CNPJ'], \n",
        "                   how='left', indicator=True)\n",
        "df_all"
      ],
      "execution_count": 119,
      "outputs": [
        {
          "output_type": "execute_result",
          "data": {
            "text/html": [
              "<div>\n",
              "<style scoped>\n",
              "    .dataframe tbody tr th:only-of-type {\n",
              "        vertical-align: middle;\n",
              "    }\n",
              "\n",
              "    .dataframe tbody tr th {\n",
              "        vertical-align: top;\n",
              "    }\n",
              "\n",
              "    .dataframe thead th {\n",
              "        text-align: right;\n",
              "    }\n",
              "</style>\n",
              "<table border=\"1\" class=\"dataframe\">\n",
              "  <thead>\n",
              "    <tr style=\"text-align: right;\">\n",
              "      <th></th>\n",
              "      <th>seq</th>\n",
              "      <th>CODIGORESP</th>\n",
              "      <th>CNPJ</th>\n",
              "      <th>RAZAOSOCIAL</th>\n",
              "      <th>UNIDADE</th>\n",
              "      <th>RESPONSAVEL</th>\n",
              "      <th>MATRICULACNEN</th>\n",
              "      <th>ENDERECO</th>\n",
              "      <th>NUMERO</th>\n",
              "      <th>COMPLEMENTO</th>\n",
              "      <th>BAIRRO</th>\n",
              "      <th>MUNICIPIO</th>\n",
              "      <th>UF</th>\n",
              "      <th>CEP</th>\n",
              "      <th>seq_x</th>\n",
              "      <th>CODIGORESP_x</th>\n",
              "      <th>RAZAOSOCIAL_x</th>\n",
              "      <th>UNIDADE_x</th>\n",
              "      <th>RESPONSAVEL_x</th>\n",
              "      <th>MATRICULACNEN_x</th>\n",
              "      <th>ENDERECO_x</th>\n",
              "      <th>NUMERO_x</th>\n",
              "      <th>COMPLEMENTO_x</th>\n",
              "      <th>BAIRRO_x</th>\n",
              "      <th>MUNICIPIO_x</th>\n",
              "      <th>UF_x</th>\n",
              "      <th>CEP_x</th>\n",
              "      <th>CNES</th>\n",
              "      <th>ALVARA</th>\n",
              "      <th>CODEQUIP</th>\n",
              "      <th>seq_y</th>\n",
              "      <th>CODIGORESP_y</th>\n",
              "      <th>RAZAOSOCIAL_y</th>\n",
              "      <th>UNIDADE_y</th>\n",
              "      <th>RESPONSAVEL_y</th>\n",
              "      <th>MATRICULACNEN_y</th>\n",
              "      <th>ENDERECO_y</th>\n",
              "      <th>NUMERO_y</th>\n",
              "      <th>COMPLEMENTO_y</th>\n",
              "      <th>BAIRRO_y</th>\n",
              "      <th>MUNICIPIO_y</th>\n",
              "      <th>UF_y</th>\n",
              "      <th>CEP_y</th>\n",
              "      <th>_merge</th>\n",
              "    </tr>\n",
              "  </thead>\n",
              "  <tbody>\n",
              "    <tr>\n",
              "      <th>0</th>\n",
              "      <td>0</td>\n",
              "      <td>1</td>\n",
              "      <td>21554423000123</td>\n",
              "      <td>INSTITUTO ONCOLOGICO LTDA  JUIZ DE FORAMG</td>\n",
              "      <td>MEDICINA NUCLEAR</td>\n",
              "      <td>GUSTAVO SFFEIR C DE MAGALHAES</td>\n",
              "      <td>16404</td>\n",
              "      <td>RUA SANTOS DUMONT</td>\n",
              "      <td>56</td>\n",
              "      <td>NaN</td>\n",
              "      <td>GRANBERY</td>\n",
              "      <td>JUIZ DE FORA</td>\n",
              "      <td>MG</td>\n",
              "      <td>36010510</td>\n",
              "      <td>0.0</td>\n",
              "      <td>1.0</td>\n",
              "      <td>INSTITUTO ONCOLOGICO LTDA  JUIZ DE FORAMG</td>\n",
              "      <td>MEDICINA NUCLEAR</td>\n",
              "      <td>GUSTAVO SFFEIR C DE MAGALHAES</td>\n",
              "      <td>16404.0</td>\n",
              "      <td>RUA SANTOS DUMONT</td>\n",
              "      <td>56</td>\n",
              "      <td>NaN</td>\n",
              "      <td>GRANBERY</td>\n",
              "      <td>JUIZ DE FORA</td>\n",
              "      <td>MG</td>\n",
              "      <td>36010510</td>\n",
              "      <td>2153106</td>\n",
              "      <td>398/2005</td>\n",
              "      <td>1.0</td>\n",
              "      <td>0.0</td>\n",
              "      <td>1.0</td>\n",
              "      <td>INSTITUTO ONCOLOGICO LTDA  JUIZ DE FORAMG</td>\n",
              "      <td>MEDICINA NUCLEAR</td>\n",
              "      <td>GUSTAVO SFFEIR C DE MAGALHAES</td>\n",
              "      <td>16404.0</td>\n",
              "      <td>RUA SANTOS DUMONT</td>\n",
              "      <td>56</td>\n",
              "      <td>NaN</td>\n",
              "      <td>GRANBERY</td>\n",
              "      <td>JUIZ DE FORA</td>\n",
              "      <td>MG</td>\n",
              "      <td>36010510</td>\n",
              "      <td>both</td>\n",
              "    </tr>\n",
              "    <tr>\n",
              "      <th>1</th>\n",
              "      <td>0</td>\n",
              "      <td>1</td>\n",
              "      <td>33205964000125</td>\n",
              "      <td>CLINICA DE MEDICINA NUCL VILLELA PEDRAS LTDA</td>\n",
              "      <td>MED NUCLEAR</td>\n",
              "      <td>IVAN DE SA VILELA PEDRAS</td>\n",
              "      <td>11595</td>\n",
              "      <td>RUA MEXICO</td>\n",
              "      <td>98</td>\n",
              "      <td>3 E 4 ANDAR</td>\n",
              "      <td>CENTRO</td>\n",
              "      <td>RIO DE JANEIRO</td>\n",
              "      <td>RJ</td>\n",
              "      <td>20031141</td>\n",
              "      <td>0.0</td>\n",
              "      <td>1.0</td>\n",
              "      <td>CLINICA DE MEDICINA NUCL VILLELA PEDRAS LTDA</td>\n",
              "      <td>MED NUCLEAR</td>\n",
              "      <td>IVAN DE SA VILELA PEDRAS</td>\n",
              "      <td>11595.0</td>\n",
              "      <td>RUA MEXICO</td>\n",
              "      <td>98</td>\n",
              "      <td>3 E 4 ANDAR</td>\n",
              "      <td>CENTRO</td>\n",
              "      <td>RIO DE JANEIRO</td>\n",
              "      <td>RJ</td>\n",
              "      <td>20031141</td>\n",
              "      <td>3178447</td>\n",
              "      <td>09/97/027417/2019</td>\n",
              "      <td>18.0</td>\n",
              "      <td>0.0</td>\n",
              "      <td>1.0</td>\n",
              "      <td>CLINICA DE MEDICINA NUCL VILLELA PEDRAS LTDA</td>\n",
              "      <td>MED NUCLEAR</td>\n",
              "      <td>IVAN DE SA VILELA PEDRAS</td>\n",
              "      <td>11595.0</td>\n",
              "      <td>RUA MEXICO</td>\n",
              "      <td>98</td>\n",
              "      <td>3 E 4 ANDAR</td>\n",
              "      <td>CENTRO</td>\n",
              "      <td>RIO DE JANEIRO</td>\n",
              "      <td>RJ</td>\n",
              "      <td>20031141</td>\n",
              "      <td>both</td>\n",
              "    </tr>\n",
              "    <tr>\n",
              "      <th>2</th>\n",
              "      <td>0</td>\n",
              "      <td>1</td>\n",
              "      <td>33205964000125</td>\n",
              "      <td>CLINICA DE MEDICINA NUCL VILLELA PEDRAS LTDA</td>\n",
              "      <td>MED NUCLEAR</td>\n",
              "      <td>IVAN DE SA VILELA PEDRAS</td>\n",
              "      <td>11595</td>\n",
              "      <td>RUA MEXICO</td>\n",
              "      <td>98</td>\n",
              "      <td>3 E 4 ANDAR</td>\n",
              "      <td>CENTRO</td>\n",
              "      <td>RIO DE JANEIRO</td>\n",
              "      <td>RJ</td>\n",
              "      <td>20031141</td>\n",
              "      <td>0.0</td>\n",
              "      <td>1.0</td>\n",
              "      <td>CLINICA DE MEDICINA NUCL VILLELA PEDRAS LTDA</td>\n",
              "      <td>MED NUCLEAR</td>\n",
              "      <td>IVAN DE SA VILELA PEDRAS</td>\n",
              "      <td>11595.0</td>\n",
              "      <td>RUA MEXICO</td>\n",
              "      <td>98</td>\n",
              "      <td>3 E 4 ANDAR</td>\n",
              "      <td>CENTRO</td>\n",
              "      <td>RIO DE JANEIRO</td>\n",
              "      <td>RJ</td>\n",
              "      <td>20031141</td>\n",
              "      <td>3178447</td>\n",
              "      <td>050.444/2020</td>\n",
              "      <td>18.0</td>\n",
              "      <td>0.0</td>\n",
              "      <td>1.0</td>\n",
              "      <td>CLINICA DE MEDICINA NUCL VILLELA PEDRAS LTDA</td>\n",
              "      <td>MED NUCLEAR</td>\n",
              "      <td>IVAN DE SA VILELA PEDRAS</td>\n",
              "      <td>11595.0</td>\n",
              "      <td>RUA MEXICO</td>\n",
              "      <td>98</td>\n",
              "      <td>3 E 4 ANDAR</td>\n",
              "      <td>CENTRO</td>\n",
              "      <td>RIO DE JANEIRO</td>\n",
              "      <td>RJ</td>\n",
              "      <td>20031141</td>\n",
              "      <td>both</td>\n",
              "    </tr>\n",
              "    <tr>\n",
              "      <th>3</th>\n",
              "      <td>0</td>\n",
              "      <td>1</td>\n",
              "      <td>33205964000125</td>\n",
              "      <td>CLINICA DE MEDICINA NUCL VILLELA PEDRAS LTDA</td>\n",
              "      <td>MED NUCLEAR</td>\n",
              "      <td>IVAN DE SA VILELA PEDRAS</td>\n",
              "      <td>11595</td>\n",
              "      <td>RUA MEXICO</td>\n",
              "      <td>98</td>\n",
              "      <td>3 E 4 ANDAR</td>\n",
              "      <td>CENTRO</td>\n",
              "      <td>RIO DE JANEIRO</td>\n",
              "      <td>RJ</td>\n",
              "      <td>20031141</td>\n",
              "      <td>0.0</td>\n",
              "      <td>1.0</td>\n",
              "      <td>CLINICA DE MEDICINA NUCL VILLELA PEDRAS LTDA</td>\n",
              "      <td>MED NUCLEAR</td>\n",
              "      <td>IVAN DE SA VILELA PEDRAS</td>\n",
              "      <td>11595.0</td>\n",
              "      <td>RUA MEXICO</td>\n",
              "      <td>98</td>\n",
              "      <td>3 E 4 ANDAR</td>\n",
              "      <td>CENTRO</td>\n",
              "      <td>RIO DE JANEIRO</td>\n",
              "      <td>RJ</td>\n",
              "      <td>20031141</td>\n",
              "      <td>3178447</td>\n",
              "      <td>09/97/027417/2019</td>\n",
              "      <td>1.0</td>\n",
              "      <td>0.0</td>\n",
              "      <td>1.0</td>\n",
              "      <td>CLINICA DE MEDICINA NUCL VILLELA PEDRAS LTDA</td>\n",
              "      <td>MED NUCLEAR</td>\n",
              "      <td>IVAN DE SA VILELA PEDRAS</td>\n",
              "      <td>11595.0</td>\n",
              "      <td>RUA MEXICO</td>\n",
              "      <td>98</td>\n",
              "      <td>3 E 4 ANDAR</td>\n",
              "      <td>CENTRO</td>\n",
              "      <td>RIO DE JANEIRO</td>\n",
              "      <td>RJ</td>\n",
              "      <td>20031141</td>\n",
              "      <td>both</td>\n",
              "    </tr>\n",
              "    <tr>\n",
              "      <th>4</th>\n",
              "      <td>0</td>\n",
              "      <td>1</td>\n",
              "      <td>33205964000125</td>\n",
              "      <td>CLINICA DE MEDICINA NUCL VILLELA PEDRAS LTDA</td>\n",
              "      <td>MED NUCLEAR</td>\n",
              "      <td>IVAN DE SA VILELA PEDRAS</td>\n",
              "      <td>11595</td>\n",
              "      <td>RUA MEXICO</td>\n",
              "      <td>98</td>\n",
              "      <td>3 E 4 ANDAR</td>\n",
              "      <td>CENTRO</td>\n",
              "      <td>RIO DE JANEIRO</td>\n",
              "      <td>RJ</td>\n",
              "      <td>20031141</td>\n",
              "      <td>0.0</td>\n",
              "      <td>1.0</td>\n",
              "      <td>CLINICA DE MEDICINA NUCL VILLELA PEDRAS LTDA</td>\n",
              "      <td>MED NUCLEAR</td>\n",
              "      <td>IVAN DE SA VILELA PEDRAS</td>\n",
              "      <td>11595.0</td>\n",
              "      <td>RUA MEXICO</td>\n",
              "      <td>98</td>\n",
              "      <td>3 E 4 ANDAR</td>\n",
              "      <td>CENTRO</td>\n",
              "      <td>RIO DE JANEIRO</td>\n",
              "      <td>RJ</td>\n",
              "      <td>20031141</td>\n",
              "      <td>3178447</td>\n",
              "      <td>050.444/2020</td>\n",
              "      <td>1.0</td>\n",
              "      <td>0.0</td>\n",
              "      <td>1.0</td>\n",
              "      <td>CLINICA DE MEDICINA NUCL VILLELA PEDRAS LTDA</td>\n",
              "      <td>MED NUCLEAR</td>\n",
              "      <td>IVAN DE SA VILELA PEDRAS</td>\n",
              "      <td>11595.0</td>\n",
              "      <td>RUA MEXICO</td>\n",
              "      <td>98</td>\n",
              "      <td>3 E 4 ANDAR</td>\n",
              "      <td>CENTRO</td>\n",
              "      <td>RIO DE JANEIRO</td>\n",
              "      <td>RJ</td>\n",
              "      <td>20031141</td>\n",
              "      <td>both</td>\n",
              "    </tr>\n",
              "    <tr>\n",
              "      <th>...</th>\n",
              "      <td>...</td>\n",
              "      <td>...</td>\n",
              "      <td>...</td>\n",
              "      <td>...</td>\n",
              "      <td>...</td>\n",
              "      <td>...</td>\n",
              "      <td>...</td>\n",
              "      <td>...</td>\n",
              "      <td>...</td>\n",
              "      <td>...</td>\n",
              "      <td>...</td>\n",
              "      <td>...</td>\n",
              "      <td>...</td>\n",
              "      <td>...</td>\n",
              "      <td>...</td>\n",
              "      <td>...</td>\n",
              "      <td>...</td>\n",
              "      <td>...</td>\n",
              "      <td>...</td>\n",
              "      <td>...</td>\n",
              "      <td>...</td>\n",
              "      <td>...</td>\n",
              "      <td>...</td>\n",
              "      <td>...</td>\n",
              "      <td>...</td>\n",
              "      <td>...</td>\n",
              "      <td>...</td>\n",
              "      <td>...</td>\n",
              "      <td>...</td>\n",
              "      <td>...</td>\n",
              "      <td>...</td>\n",
              "      <td>...</td>\n",
              "      <td>...</td>\n",
              "      <td>...</td>\n",
              "      <td>...</td>\n",
              "      <td>...</td>\n",
              "      <td>...</td>\n",
              "      <td>...</td>\n",
              "      <td>...</td>\n",
              "      <td>...</td>\n",
              "      <td>...</td>\n",
              "      <td>...</td>\n",
              "      <td>...</td>\n",
              "      <td>...</td>\n",
              "    </tr>\n",
              "    <tr>\n",
              "      <th>562</th>\n",
              "      <td>0</td>\n",
              "      <td>1</td>\n",
              "      <td>15126437001549</td>\n",
              "      <td>EMPRESA BRASILEIRA DE SERVICOS HOSPITALARES  E...</td>\n",
              "      <td>MEDICINA NUCLEAR</td>\n",
              "      <td>Viviane S Parisotto Marino</td>\n",
              "      <td>14304</td>\n",
              "      <td>AVENIDA ALFREDO BALENA</td>\n",
              "      <td>110</td>\n",
              "      <td>NaN</td>\n",
              "      <td>SANTA  EFIGENIA</td>\n",
              "      <td>BELO HORIZONTE</td>\n",
              "      <td>MG</td>\n",
              "      <td>30130100</td>\n",
              "      <td>0.0</td>\n",
              "      <td>1.0</td>\n",
              "      <td>EMPRESA BRASILEIRA DE SERVICOS HOSPITALARES  E...</td>\n",
              "      <td>MEDICINA NUCLEAR</td>\n",
              "      <td>Viviane S Parisotto Marino</td>\n",
              "      <td>14304.0</td>\n",
              "      <td>AVENIDA ALFREDO BALENA</td>\n",
              "      <td>110</td>\n",
              "      <td>NaN</td>\n",
              "      <td>SANTA  EFIGENIA</td>\n",
              "      <td>BELO HORIZONTE</td>\n",
              "      <td>MG</td>\n",
              "      <td>30130100</td>\n",
              "      <td>0027049</td>\n",
              "      <td>0108706 9930</td>\n",
              "      <td>1.0</td>\n",
              "      <td>0.0</td>\n",
              "      <td>1.0</td>\n",
              "      <td>EMPRESA BRASILEIRA DE SERVICOS HOSPITALARES  E...</td>\n",
              "      <td>MEDICINA NUCLEAR</td>\n",
              "      <td>Viviane S Parisotto Marino</td>\n",
              "      <td>14304.0</td>\n",
              "      <td>AVENIDA ALFREDO BALENA</td>\n",
              "      <td>110</td>\n",
              "      <td>NaN</td>\n",
              "      <td>SANTA  EFIGENIA</td>\n",
              "      <td>BELO HORIZONTE</td>\n",
              "      <td>MG</td>\n",
              "      <td>30130100</td>\n",
              "      <td>both</td>\n",
              "    </tr>\n",
              "    <tr>\n",
              "      <th>563</th>\n",
              "      <td>0</td>\n",
              "      <td>1</td>\n",
              "      <td>09609235000230</td>\n",
              "      <td>HOSPITAL CENTRAL DO EXERCITO</td>\n",
              "      <td>MEDICINA NUCLEAR</td>\n",
              "      <td>AFONSO EDUARDO M MUZITANO</td>\n",
              "      <td>16239</td>\n",
              "      <td>RUA FRANCISCO MANUEL</td>\n",
              "      <td>126</td>\n",
              "      <td>NaN</td>\n",
              "      <td>BEFICA</td>\n",
              "      <td>RIO DE JANEIRO</td>\n",
              "      <td>RJ</td>\n",
              "      <td>20911270</td>\n",
              "      <td>NaN</td>\n",
              "      <td>NaN</td>\n",
              "      <td>NaN</td>\n",
              "      <td>NaN</td>\n",
              "      <td>NaN</td>\n",
              "      <td>NaN</td>\n",
              "      <td>NaN</td>\n",
              "      <td>NaN</td>\n",
              "      <td>NaN</td>\n",
              "      <td>NaN</td>\n",
              "      <td>NaN</td>\n",
              "      <td>NaN</td>\n",
              "      <td>NaN</td>\n",
              "      <td>NaN</td>\n",
              "      <td>NaN</td>\n",
              "      <td>NaN</td>\n",
              "      <td>NaN</td>\n",
              "      <td>NaN</td>\n",
              "      <td>NaN</td>\n",
              "      <td>NaN</td>\n",
              "      <td>NaN</td>\n",
              "      <td>NaN</td>\n",
              "      <td>NaN</td>\n",
              "      <td>NaN</td>\n",
              "      <td>NaN</td>\n",
              "      <td>NaN</td>\n",
              "      <td>NaN</td>\n",
              "      <td>NaN</td>\n",
              "      <td>NaN</td>\n",
              "      <td>left_only</td>\n",
              "    </tr>\n",
              "    <tr>\n",
              "      <th>564</th>\n",
              "      <td>0</td>\n",
              "      <td>1</td>\n",
              "      <td>15126437002006</td>\n",
              "      <td>EBSERH HUPAAUFAL</td>\n",
              "      <td>MEDICINA NUCLEAR</td>\n",
              "      <td>ANDRE GUSTAVO SILVA PINO</td>\n",
              "      <td>17420</td>\n",
              "      <td>AV LOURIVAL MELO MOTA</td>\n",
              "      <td>S/N</td>\n",
              "      <td>NaN</td>\n",
              "      <td>TABULEIRO DOS MARTINS</td>\n",
              "      <td>MACEIO</td>\n",
              "      <td>AL</td>\n",
              "      <td>57072900</td>\n",
              "      <td>NaN</td>\n",
              "      <td>NaN</td>\n",
              "      <td>NaN</td>\n",
              "      <td>NaN</td>\n",
              "      <td>NaN</td>\n",
              "      <td>NaN</td>\n",
              "      <td>NaN</td>\n",
              "      <td>NaN</td>\n",
              "      <td>NaN</td>\n",
              "      <td>NaN</td>\n",
              "      <td>NaN</td>\n",
              "      <td>NaN</td>\n",
              "      <td>NaN</td>\n",
              "      <td>NaN</td>\n",
              "      <td>NaN</td>\n",
              "      <td>NaN</td>\n",
              "      <td>NaN</td>\n",
              "      <td>NaN</td>\n",
              "      <td>NaN</td>\n",
              "      <td>NaN</td>\n",
              "      <td>NaN</td>\n",
              "      <td>NaN</td>\n",
              "      <td>NaN</td>\n",
              "      <td>NaN</td>\n",
              "      <td>NaN</td>\n",
              "      <td>NaN</td>\n",
              "      <td>NaN</td>\n",
              "      <td>NaN</td>\n",
              "      <td>NaN</td>\n",
              "      <td>left_only</td>\n",
              "    </tr>\n",
              "    <tr>\n",
              "      <th>565</th>\n",
              "      <td>0</td>\n",
              "      <td>1</td>\n",
              "      <td>15126437003673</td>\n",
              "      <td>EBSERH  HOSPITAL UNIVERSITARIO ANTONIO PEDRO</td>\n",
              "      <td>MEDICINA NUCLEAR</td>\n",
              "      <td>RAQUEL DE PAULA MENDES OLIVEIR</td>\n",
              "      <td>17296</td>\n",
              "      <td>RUA MARQUES DO PARANA</td>\n",
              "      <td>303</td>\n",
              "      <td>2º andar</td>\n",
              "      <td>NITERÓI</td>\n",
              "      <td>RIO DE JANEIRO</td>\n",
              "      <td>RJ</td>\n",
              "      <td>24030215</td>\n",
              "      <td>NaN</td>\n",
              "      <td>NaN</td>\n",
              "      <td>NaN</td>\n",
              "      <td>NaN</td>\n",
              "      <td>NaN</td>\n",
              "      <td>NaN</td>\n",
              "      <td>NaN</td>\n",
              "      <td>NaN</td>\n",
              "      <td>NaN</td>\n",
              "      <td>NaN</td>\n",
              "      <td>NaN</td>\n",
              "      <td>NaN</td>\n",
              "      <td>NaN</td>\n",
              "      <td>NaN</td>\n",
              "      <td>NaN</td>\n",
              "      <td>NaN</td>\n",
              "      <td>NaN</td>\n",
              "      <td>NaN</td>\n",
              "      <td>NaN</td>\n",
              "      <td>NaN</td>\n",
              "      <td>NaN</td>\n",
              "      <td>NaN</td>\n",
              "      <td>NaN</td>\n",
              "      <td>NaN</td>\n",
              "      <td>NaN</td>\n",
              "      <td>NaN</td>\n",
              "      <td>NaN</td>\n",
              "      <td>NaN</td>\n",
              "      <td>NaN</td>\n",
              "      <td>left_only</td>\n",
              "    </tr>\n",
              "    <tr>\n",
              "      <th>566</th>\n",
              "      <td>0</td>\n",
              "      <td>1</td>\n",
              "      <td>15180714000520</td>\n",
              "      <td>COMPLEXO HOSPITALAR DE SAUDE  UFBA</td>\n",
              "      <td>MEDICINA NUCLEAR</td>\n",
              "      <td>CARLOS FREDERICO VIEIRA PEPE</td>\n",
              "      <td>15954</td>\n",
              "      <td>RUA SALDANHA MARINHO</td>\n",
              "      <td>S/N</td>\n",
              "      <td>NaN</td>\n",
              "      <td>CAIXA D'ÁGUA</td>\n",
              "      <td>SALVADOR</td>\n",
              "      <td>BA</td>\n",
              "      <td>40323010</td>\n",
              "      <td>NaN</td>\n",
              "      <td>NaN</td>\n",
              "      <td>NaN</td>\n",
              "      <td>NaN</td>\n",
              "      <td>NaN</td>\n",
              "      <td>NaN</td>\n",
              "      <td>NaN</td>\n",
              "      <td>NaN</td>\n",
              "      <td>NaN</td>\n",
              "      <td>NaN</td>\n",
              "      <td>NaN</td>\n",
              "      <td>NaN</td>\n",
              "      <td>NaN</td>\n",
              "      <td>NaN</td>\n",
              "      <td>NaN</td>\n",
              "      <td>NaN</td>\n",
              "      <td>NaN</td>\n",
              "      <td>NaN</td>\n",
              "      <td>NaN</td>\n",
              "      <td>NaN</td>\n",
              "      <td>NaN</td>\n",
              "      <td>NaN</td>\n",
              "      <td>NaN</td>\n",
              "      <td>NaN</td>\n",
              "      <td>NaN</td>\n",
              "      <td>NaN</td>\n",
              "      <td>NaN</td>\n",
              "      <td>NaN</td>\n",
              "      <td>NaN</td>\n",
              "      <td>left_only</td>\n",
              "    </tr>\n",
              "  </tbody>\n",
              "</table>\n",
              "<p>567 rows × 44 columns</p>\n",
              "</div>"
            ],
            "text/plain": [
              "     seq  CODIGORESP            CNPJ  \\\n",
              "0      0           1  21554423000123   \n",
              "1      0           1  33205964000125   \n",
              "2      0           1  33205964000125   \n",
              "3      0           1  33205964000125   \n",
              "4      0           1  33205964000125   \n",
              "..   ...         ...             ...   \n",
              "562    0           1  15126437001549   \n",
              "563    0           1  09609235000230   \n",
              "564    0           1  15126437002006   \n",
              "565    0           1  15126437003673   \n",
              "566    0           1  15180714000520   \n",
              "\n",
              "                                           RAZAOSOCIAL           UNIDADE  \\\n",
              "0            INSTITUTO ONCOLOGICO LTDA  JUIZ DE FORAMG  MEDICINA NUCLEAR   \n",
              "1         CLINICA DE MEDICINA NUCL VILLELA PEDRAS LTDA       MED NUCLEAR   \n",
              "2         CLINICA DE MEDICINA NUCL VILLELA PEDRAS LTDA       MED NUCLEAR   \n",
              "3         CLINICA DE MEDICINA NUCL VILLELA PEDRAS LTDA       MED NUCLEAR   \n",
              "4         CLINICA DE MEDICINA NUCL VILLELA PEDRAS LTDA       MED NUCLEAR   \n",
              "..                                                 ...               ...   \n",
              "562  EMPRESA BRASILEIRA DE SERVICOS HOSPITALARES  E...  MEDICINA NUCLEAR   \n",
              "563                       HOSPITAL CENTRAL DO EXERCITO  MEDICINA NUCLEAR   \n",
              "564                                   EBSERH HUPAAUFAL  MEDICINA NUCLEAR   \n",
              "565       EBSERH  HOSPITAL UNIVERSITARIO ANTONIO PEDRO  MEDICINA NUCLEAR   \n",
              "566                 COMPLEXO HOSPITALAR DE SAUDE  UFBA  MEDICINA NUCLEAR   \n",
              "\n",
              "                        RESPONSAVEL  MATRICULACNEN                ENDERECO  \\\n",
              "0     GUSTAVO SFFEIR C DE MAGALHAES          16404       RUA SANTOS DUMONT   \n",
              "1          IVAN DE SA VILELA PEDRAS          11595              RUA MEXICO   \n",
              "2          IVAN DE SA VILELA PEDRAS          11595              RUA MEXICO   \n",
              "3          IVAN DE SA VILELA PEDRAS          11595              RUA MEXICO   \n",
              "4          IVAN DE SA VILELA PEDRAS          11595              RUA MEXICO   \n",
              "..                              ...            ...                     ...   \n",
              "562      Viviane S Parisotto Marino          14304  AVENIDA ALFREDO BALENA   \n",
              "563       AFONSO EDUARDO M MUZITANO          16239    RUA FRANCISCO MANUEL   \n",
              "564        ANDRE GUSTAVO SILVA PINO          17420   AV LOURIVAL MELO MOTA   \n",
              "565  RAQUEL DE PAULA MENDES OLIVEIR          17296   RUA MARQUES DO PARANA   \n",
              "566    CARLOS FREDERICO VIEIRA PEPE          15954    RUA SALDANHA MARINHO   \n",
              "\n",
              "    NUMERO  COMPLEMENTO                 BAIRRO       MUNICIPIO  UF       CEP  \\\n",
              "0       56          NaN               GRANBERY    JUIZ DE FORA  MG  36010510   \n",
              "1       98  3 E 4 ANDAR                 CENTRO  RIO DE JANEIRO  RJ  20031141   \n",
              "2       98  3 E 4 ANDAR                 CENTRO  RIO DE JANEIRO  RJ  20031141   \n",
              "3       98  3 E 4 ANDAR                 CENTRO  RIO DE JANEIRO  RJ  20031141   \n",
              "4       98  3 E 4 ANDAR                 CENTRO  RIO DE JANEIRO  RJ  20031141   \n",
              "..     ...          ...                    ...             ...  ..       ...   \n",
              "562    110          NaN        SANTA  EFIGENIA  BELO HORIZONTE  MG  30130100   \n",
              "563    126          NaN                 BEFICA  RIO DE JANEIRO  RJ  20911270   \n",
              "564    S/N          NaN  TABULEIRO DOS MARTINS          MACEIO  AL  57072900   \n",
              "565    303     2º andar                NITERÓI  RIO DE JANEIRO  RJ  24030215   \n",
              "566    S/N          NaN           CAIXA D'ÁGUA        SALVADOR  BA  40323010   \n",
              "\n",
              "     seq_x  CODIGORESP_x                                      RAZAOSOCIAL_x  \\\n",
              "0      0.0           1.0          INSTITUTO ONCOLOGICO LTDA  JUIZ DE FORAMG   \n",
              "1      0.0           1.0       CLINICA DE MEDICINA NUCL VILLELA PEDRAS LTDA   \n",
              "2      0.0           1.0       CLINICA DE MEDICINA NUCL VILLELA PEDRAS LTDA   \n",
              "3      0.0           1.0       CLINICA DE MEDICINA NUCL VILLELA PEDRAS LTDA   \n",
              "4      0.0           1.0       CLINICA DE MEDICINA NUCL VILLELA PEDRAS LTDA   \n",
              "..     ...           ...                                                ...   \n",
              "562    0.0           1.0  EMPRESA BRASILEIRA DE SERVICOS HOSPITALARES  E...   \n",
              "563    NaN           NaN                                                NaN   \n",
              "564    NaN           NaN                                                NaN   \n",
              "565    NaN           NaN                                                NaN   \n",
              "566    NaN           NaN                                                NaN   \n",
              "\n",
              "            UNIDADE_x                  RESPONSAVEL_x  MATRICULACNEN_x  \\\n",
              "0    MEDICINA NUCLEAR  GUSTAVO SFFEIR C DE MAGALHAES          16404.0   \n",
              "1         MED NUCLEAR       IVAN DE SA VILELA PEDRAS          11595.0   \n",
              "2         MED NUCLEAR       IVAN DE SA VILELA PEDRAS          11595.0   \n",
              "3         MED NUCLEAR       IVAN DE SA VILELA PEDRAS          11595.0   \n",
              "4         MED NUCLEAR       IVAN DE SA VILELA PEDRAS          11595.0   \n",
              "..                ...                            ...              ...   \n",
              "562  MEDICINA NUCLEAR     Viviane S Parisotto Marino          14304.0   \n",
              "563               NaN                            NaN              NaN   \n",
              "564               NaN                            NaN              NaN   \n",
              "565               NaN                            NaN              NaN   \n",
              "566               NaN                            NaN              NaN   \n",
              "\n",
              "                 ENDERECO_x NUMERO_x COMPLEMENTO_x         BAIRRO_x  \\\n",
              "0         RUA SANTOS DUMONT       56           NaN         GRANBERY   \n",
              "1                RUA MEXICO       98   3 E 4 ANDAR           CENTRO   \n",
              "2                RUA MEXICO       98   3 E 4 ANDAR           CENTRO   \n",
              "3                RUA MEXICO       98   3 E 4 ANDAR           CENTRO   \n",
              "4                RUA MEXICO       98   3 E 4 ANDAR           CENTRO   \n",
              "..                      ...      ...           ...              ...   \n",
              "562  AVENIDA ALFREDO BALENA      110           NaN  SANTA  EFIGENIA   \n",
              "563                     NaN      NaN           NaN              NaN   \n",
              "564                     NaN      NaN           NaN              NaN   \n",
              "565                     NaN      NaN           NaN              NaN   \n",
              "566                     NaN      NaN           NaN              NaN   \n",
              "\n",
              "        MUNICIPIO_x UF_x     CEP_x     CNES             ALVARA  CODEQUIP  \\\n",
              "0      JUIZ DE FORA   MG  36010510  2153106           398/2005       1.0   \n",
              "1    RIO DE JANEIRO   RJ  20031141  3178447  09/97/027417/2019      18.0   \n",
              "2    RIO DE JANEIRO   RJ  20031141  3178447       050.444/2020      18.0   \n",
              "3    RIO DE JANEIRO   RJ  20031141  3178447  09/97/027417/2019       1.0   \n",
              "4    RIO DE JANEIRO   RJ  20031141  3178447       050.444/2020       1.0   \n",
              "..              ...  ...       ...      ...                ...       ...   \n",
              "562  BELO HORIZONTE   MG  30130100  0027049       0108706 9930       1.0   \n",
              "563             NaN  NaN       NaN      NaN                NaN       NaN   \n",
              "564             NaN  NaN       NaN      NaN                NaN       NaN   \n",
              "565             NaN  NaN       NaN      NaN                NaN       NaN   \n",
              "566             NaN  NaN       NaN      NaN                NaN       NaN   \n",
              "\n",
              "     seq_y  CODIGORESP_y                                      RAZAOSOCIAL_y  \\\n",
              "0      0.0           1.0          INSTITUTO ONCOLOGICO LTDA  JUIZ DE FORAMG   \n",
              "1      0.0           1.0       CLINICA DE MEDICINA NUCL VILLELA PEDRAS LTDA   \n",
              "2      0.0           1.0       CLINICA DE MEDICINA NUCL VILLELA PEDRAS LTDA   \n",
              "3      0.0           1.0       CLINICA DE MEDICINA NUCL VILLELA PEDRAS LTDA   \n",
              "4      0.0           1.0       CLINICA DE MEDICINA NUCL VILLELA PEDRAS LTDA   \n",
              "..     ...           ...                                                ...   \n",
              "562    0.0           1.0  EMPRESA BRASILEIRA DE SERVICOS HOSPITALARES  E...   \n",
              "563    NaN           NaN                                                NaN   \n",
              "564    NaN           NaN                                                NaN   \n",
              "565    NaN           NaN                                                NaN   \n",
              "566    NaN           NaN                                                NaN   \n",
              "\n",
              "            UNIDADE_y                  RESPONSAVEL_y  MATRICULACNEN_y  \\\n",
              "0    MEDICINA NUCLEAR  GUSTAVO SFFEIR C DE MAGALHAES          16404.0   \n",
              "1         MED NUCLEAR       IVAN DE SA VILELA PEDRAS          11595.0   \n",
              "2         MED NUCLEAR       IVAN DE SA VILELA PEDRAS          11595.0   \n",
              "3         MED NUCLEAR       IVAN DE SA VILELA PEDRAS          11595.0   \n",
              "4         MED NUCLEAR       IVAN DE SA VILELA PEDRAS          11595.0   \n",
              "..                ...                            ...              ...   \n",
              "562  MEDICINA NUCLEAR     Viviane S Parisotto Marino          14304.0   \n",
              "563               NaN                            NaN              NaN   \n",
              "564               NaN                            NaN              NaN   \n",
              "565               NaN                            NaN              NaN   \n",
              "566               NaN                            NaN              NaN   \n",
              "\n",
              "                 ENDERECO_y NUMERO_y COMPLEMENTO_y         BAIRRO_y  \\\n",
              "0         RUA SANTOS DUMONT       56           NaN         GRANBERY   \n",
              "1                RUA MEXICO       98   3 E 4 ANDAR           CENTRO   \n",
              "2                RUA MEXICO       98   3 E 4 ANDAR           CENTRO   \n",
              "3                RUA MEXICO       98   3 E 4 ANDAR           CENTRO   \n",
              "4                RUA MEXICO       98   3 E 4 ANDAR           CENTRO   \n",
              "..                      ...      ...           ...              ...   \n",
              "562  AVENIDA ALFREDO BALENA      110           NaN  SANTA  EFIGENIA   \n",
              "563                     NaN      NaN           NaN              NaN   \n",
              "564                     NaN      NaN           NaN              NaN   \n",
              "565                     NaN      NaN           NaN              NaN   \n",
              "566                     NaN      NaN           NaN              NaN   \n",
              "\n",
              "        MUNICIPIO_y UF_y     CEP_y     _merge  \n",
              "0      JUIZ DE FORA   MG  36010510       both  \n",
              "1    RIO DE JANEIRO   RJ  20031141       both  \n",
              "2    RIO DE JANEIRO   RJ  20031141       both  \n",
              "3    RIO DE JANEIRO   RJ  20031141       both  \n",
              "4    RIO DE JANEIRO   RJ  20031141       both  \n",
              "..              ...  ...       ...        ...  \n",
              "562  BELO HORIZONTE   MG  30130100       both  \n",
              "563             NaN  NaN       NaN  left_only  \n",
              "564             NaN  NaN       NaN  left_only  \n",
              "565             NaN  NaN       NaN  left_only  \n",
              "566             NaN  NaN       NaN  left_only  \n",
              "\n",
              "[567 rows x 44 columns]"
            ]
          },
          "metadata": {
            "tags": []
          },
          "execution_count": 119
        }
      ]
    }
  ]
}