{
  "nbformat": 4,
  "nbformat_minor": 0,
  "metadata": {
    "kernelspec": {
      "display_name": "Python 3",
      "language": "python",
      "name": "python3"
    },
    "language_info": {
      "codemirror_mode": {
        "name": "ipython",
        "version": 3
      },
      "file_extension": ".py",
      "mimetype": "text/x-python",
      "name": "python",
      "nbconvert_exporter": "python",
      "pygments_lexer": "ipython3",
      "version": "3.8.5"
    },
    "colab": {
      "name": "CNES.ipynb",
      "provenance": [],
      "collapsed_sections": [],
      "toc_visible": true,
      "include_colab_link": true
    }
  },
  "cells": [
    {
      "cell_type": "markdown",
      "metadata": {
        "id": "view-in-github",
        "colab_type": "text"
      },
      "source": [
        "<a href=\"https://colab.research.google.com/github/hamiltonvalerio/DS_CNES_DATASUS/blob/main/CNES.ipynb\" target=\"_parent\"><img src=\"https://colab.research.google.com/assets/colab-badge.svg\" alt=\"Open In Colab\"/></a>"
      ]
    },
    {
      "cell_type": "code",
      "metadata": {
        "id": "v-JByq-50WNH",
        "colab": {
          "base_uri": "https://localhost:8080/"
        },
        "outputId": "420f4df6-dc8c-4b25-bbe5-a37304625c05"
      },
      "source": [
        "import pandas as pd\n",
        "import numpy as np\n",
        "import glob\n",
        "import time\n",
        "import requests\n",
        "from io import StringIO\n",
        "import unicodedata\n",
        "import re\n",
        "from google.colab import drive\n",
        "drive.mount('/drive')"
      ],
      "execution_count": null,
      "outputs": [
        {
          "output_type": "stream",
          "text": [
            "Mounted at /drive\n"
          ],
          "name": "stdout"
        }
      ]
    },
    {
      "cell_type": "markdown",
      "metadata": {
        "id": "8P-51WkK0WNM"
      },
      "source": [
        "# SELECIONANDO NO GOOGLE DRIVE A TABELA DO MÊS 12/2020 DE NOMES DE EQUIPAMENTOS (tbEquipamento202012.csv) PARA FAZER UM JOIN COM O DATAFRAME de EQUIPAMENTOS TRAZENDO A NOMENCLATURA (Gama Camara, PET/CT)"
      ]
    },
    {
      "cell_type": "code",
      "metadata": {
        "scrolled": false,
        "colab": {
          "base_uri": "https://localhost:8080/",
          "height": 111
        },
        "id": "PLH0oQe90WNN",
        "outputId": "531dc46b-8978-4d5d-d5c5-483f560d57b2"
      },
      "source": [
        "url_eq_auxiliar = 'https://drive.google.com/file/d/19Qikm47nw3cy7FL6QwZj_4XmVHzz4Xp6/view?usp=sharing'\n",
        "path_eq_auxiliar = 'https://drive.google.com/uc?export=download&id='+url_eq_auxiliar.split('/')[-2]\n",
        "df_eq = pd.read_csv(path_eq_auxiliar,sep=';')\n",
        "\n",
        "filtro_eq = ['Gama Camara', 'PET/CT']\n",
        "\n",
        "result_eq = df_eq[df_eq['DS_EQUIPAMENTO'].str.contains('|'.join(filtro_eq))]\n",
        "\n",
        "result_eq"
      ],
      "execution_count": null,
      "outputs": [
        {
          "output_type": "execute_result",
          "data": {
            "text/html": [
              "<div>\n",
              "<style scoped>\n",
              "    .dataframe tbody tr th:only-of-type {\n",
              "        vertical-align: middle;\n",
              "    }\n",
              "\n",
              "    .dataframe tbody tr th {\n",
              "        vertical-align: top;\n",
              "    }\n",
              "\n",
              "    .dataframe thead th {\n",
              "        text-align: right;\n",
              "    }\n",
              "</style>\n",
              "<table border=\"1\" class=\"dataframe\">\n",
              "  <thead>\n",
              "    <tr style=\"text-align: right;\">\n",
              "      <th></th>\n",
              "      <th>CO_EQUIPAMENTO</th>\n",
              "      <th>CO_TIPO_EQUIPAMENTO</th>\n",
              "      <th>DS_EQUIPAMENTO</th>\n",
              "    </tr>\n",
              "  </thead>\n",
              "  <tbody>\n",
              "    <tr>\n",
              "      <th>7</th>\n",
              "      <td>1</td>\n",
              "      <td>1</td>\n",
              "      <td>Gama Camara</td>\n",
              "    </tr>\n",
              "    <tr>\n",
              "      <th>66</th>\n",
              "      <td>18</td>\n",
              "      <td>1</td>\n",
              "      <td>PET/CT</td>\n",
              "    </tr>\n",
              "  </tbody>\n",
              "</table>\n",
              "</div>"
            ],
            "text/plain": [
              "    CO_EQUIPAMENTO  CO_TIPO_EQUIPAMENTO DS_EQUIPAMENTO\n",
              "7                1                    1    Gama Camara\n",
              "66              18                    1         PET/CT"
            ]
          },
          "metadata": {
            "tags": []
          },
          "execution_count": 2
        }
      ]
    },
    {
      "cell_type": "markdown",
      "metadata": {
        "id": "FwkzryXo0WNO"
      },
      "source": [
        "# ARRAY DE ESTADOS PARA PESQUISA"
      ]
    },
    {
      "cell_type": "code",
      "metadata": {
        "id": "TH79GCPU0WNO"
      },
      "source": [
        "array_estados = np.array([\"AC\", \"AL\", \"AM\", \"AP\", \"BA\", \"CE\", \"DF\", \"ES\", \"GO\", \"MA\", \"MT\", \"MS\", \"MG\", \"PA\", \"PB\", \"PR\", \"PE\", \"PI\", \"RJ\", \"RN\", \"RO\", \"RS\", \"RR\", \"SC\", \"SE\", \"SP\", \"TO\"])\n",
        "pd.options.display.max_columns = None"
      ],
      "execution_count": null,
      "outputs": []
    },
    {
      "cell_type": "markdown",
      "metadata": {
        "id": "jxKzMqdedzsL"
      },
      "source": [
        "# FUNÇÃO PARA RETIRAR ACENTOS"
      ]
    },
    {
      "cell_type": "code",
      "metadata": {
        "id": "G7pWCm4WdyPX"
      },
      "source": [
        "def removerAcentosECaracteresEspeciais(palavra):\n",
        "\n",
        "    # Unicode normalize transforma um caracter em seu equivalente em latin.\n",
        "    nfkd = unicodedata.normalize('NFKD', palavra)\n",
        "    palavraSemAcento = u\"\".join([c for c in nfkd if not unicodedata.combining(c)])\n",
        "\n",
        "    # Usa expressão regular para retornar a palavra apenas com números, letras e espaço\n",
        "    return re.sub('[^a-zA-Z0-9 \\\\\\]', '', palavraSemAcento)\n",
        "\n",
        "    #crédito: https://gist.github.com/boniattirodrigo/67429ada53b7337d2e79"
      ],
      "execution_count": null,
      "outputs": []
    },
    {
      "cell_type": "markdown",
      "metadata": {
        "id": "kNg7yUhB0WNO"
      },
      "source": [
        "# MONTA O ARRAY DE LINKS DE EQUIPAMENTOS\n",
        "Todos os arquivos do ano de 2020, mês 12, todos os Estados Brasileiros."
      ]
    },
    {
      "cell_type": "code",
      "metadata": {
        "colab": {
          "base_uri": "https://localhost:8080/"
        },
        "id": "wPWtM9E80WNP",
        "outputId": "bbc87cab-c2de-4c04-d07b-f40c13851d6c"
      },
      "source": [
        "path_eq = 'https://datascience.ipen.br/~mario/CNESdados/200508_/Dados/EQ/CSVs/EQ'\n",
        "array_urls_eq = []\n",
        "campos_eq = ['CNES','CPF_CNPJ','CODEQUIP']\n",
        "\n",
        "for est in array_estados:\n",
        "    array_urls_eq.append(path_eq+\"\"+est+\"_2020.csv\")\n",
        "    \n",
        "print(array_urls_eq)"
      ],
      "execution_count": null,
      "outputs": [
        {
          "output_type": "stream",
          "text": [
            "['https://datascience.ipen.br/~mario/CNESdados/200508_/Dados/EQ/CSVs/EQAC_2020.csv', 'https://datascience.ipen.br/~mario/CNESdados/200508_/Dados/EQ/CSVs/EQAL_2020.csv', 'https://datascience.ipen.br/~mario/CNESdados/200508_/Dados/EQ/CSVs/EQAM_2020.csv', 'https://datascience.ipen.br/~mario/CNESdados/200508_/Dados/EQ/CSVs/EQAP_2020.csv', 'https://datascience.ipen.br/~mario/CNESdados/200508_/Dados/EQ/CSVs/EQBA_2020.csv', 'https://datascience.ipen.br/~mario/CNESdados/200508_/Dados/EQ/CSVs/EQCE_2020.csv', 'https://datascience.ipen.br/~mario/CNESdados/200508_/Dados/EQ/CSVs/EQDF_2020.csv', 'https://datascience.ipen.br/~mario/CNESdados/200508_/Dados/EQ/CSVs/EQES_2020.csv', 'https://datascience.ipen.br/~mario/CNESdados/200508_/Dados/EQ/CSVs/EQGO_2020.csv', 'https://datascience.ipen.br/~mario/CNESdados/200508_/Dados/EQ/CSVs/EQMA_2020.csv', 'https://datascience.ipen.br/~mario/CNESdados/200508_/Dados/EQ/CSVs/EQMT_2020.csv', 'https://datascience.ipen.br/~mario/CNESdados/200508_/Dados/EQ/CSVs/EQMS_2020.csv', 'https://datascience.ipen.br/~mario/CNESdados/200508_/Dados/EQ/CSVs/EQMG_2020.csv', 'https://datascience.ipen.br/~mario/CNESdados/200508_/Dados/EQ/CSVs/EQPA_2020.csv', 'https://datascience.ipen.br/~mario/CNESdados/200508_/Dados/EQ/CSVs/EQPB_2020.csv', 'https://datascience.ipen.br/~mario/CNESdados/200508_/Dados/EQ/CSVs/EQPR_2020.csv', 'https://datascience.ipen.br/~mario/CNESdados/200508_/Dados/EQ/CSVs/EQPE_2020.csv', 'https://datascience.ipen.br/~mario/CNESdados/200508_/Dados/EQ/CSVs/EQPI_2020.csv', 'https://datascience.ipen.br/~mario/CNESdados/200508_/Dados/EQ/CSVs/EQRJ_2020.csv', 'https://datascience.ipen.br/~mario/CNESdados/200508_/Dados/EQ/CSVs/EQRN_2020.csv', 'https://datascience.ipen.br/~mario/CNESdados/200508_/Dados/EQ/CSVs/EQRO_2020.csv', 'https://datascience.ipen.br/~mario/CNESdados/200508_/Dados/EQ/CSVs/EQRS_2020.csv', 'https://datascience.ipen.br/~mario/CNESdados/200508_/Dados/EQ/CSVs/EQRR_2020.csv', 'https://datascience.ipen.br/~mario/CNESdados/200508_/Dados/EQ/CSVs/EQSC_2020.csv', 'https://datascience.ipen.br/~mario/CNESdados/200508_/Dados/EQ/CSVs/EQSE_2020.csv', 'https://datascience.ipen.br/~mario/CNESdados/200508_/Dados/EQ/CSVs/EQSP_2020.csv', 'https://datascience.ipen.br/~mario/CNESdados/200508_/Dados/EQ/CSVs/EQTO_2020.csv']\n"
          ],
          "name": "stdout"
        }
      ]
    },
    {
      "cell_type": "markdown",
      "metadata": {
        "id": "cw8qD6O90WNP"
      },
      "source": [
        "# GERA O DATAFRAME DE EQUIPAMENTOS"
      ]
    },
    {
      "cell_type": "code",
      "metadata": {
        "colab": {
          "base_uri": "https://localhost:8080/"
        },
        "id": "qEY2_zoU1zn5",
        "outputId": "b9067a8e-716d-4104-e525-51e2919780f6"
      },
      "source": [
        "timeStartEQ = time.time()\n",
        "dfs_EQ = [pd.read_csv(url,sep=',', error_bad_lines=False, index_col=False, dtype='unicode', usecols = campos_eq) for url in array_urls_eq]\n",
        "total_df_EQ = pd.concat(dfs_EQ, ignore_index=True)\n",
        "tempoDeExecucaoEQ = (time.time() - timeStartEQ)\n",
        "print('Tempo de execução em minutos: ' + str(tempoDeExecucaoEQ/60))"
      ],
      "execution_count": null,
      "outputs": [
        {
          "output_type": "stream",
          "text": [
            "Tempo de execução em minutos: 1.3363829255104065\n"
          ],
          "name": "stdout"
        }
      ]
    },
    {
      "cell_type": "code",
      "metadata": {
        "id": "z16xOdQ8GTJ8"
      },
      "source": [
        "total_df_EQ['CODEQUIP'] = total_df_EQ['CODEQUIP'].astype(int)"
      ],
      "execution_count": null,
      "outputs": []
    },
    {
      "cell_type": "code",
      "metadata": {
        "colab": {
          "base_uri": "https://localhost:8080/",
          "height": 359
        },
        "id": "3EbJd6QZ09vE",
        "outputId": "ea569818-7140-4ec2-b2cc-6d0e90f4c1b2"
      },
      "source": [
        "total_df_EQ.head(10)"
      ],
      "execution_count": null,
      "outputs": [
        {
          "output_type": "execute_result",
          "data": {
            "text/html": [
              "<div>\n",
              "<style scoped>\n",
              "    .dataframe tbody tr th:only-of-type {\n",
              "        vertical-align: middle;\n",
              "    }\n",
              "\n",
              "    .dataframe tbody tr th {\n",
              "        vertical-align: top;\n",
              "    }\n",
              "\n",
              "    .dataframe thead th {\n",
              "        text-align: right;\n",
              "    }\n",
              "</style>\n",
              "<table border=\"1\" class=\"dataframe\">\n",
              "  <thead>\n",
              "    <tr style=\"text-align: right;\">\n",
              "      <th></th>\n",
              "      <th>CNES</th>\n",
              "      <th>CPF_CNPJ</th>\n",
              "      <th>CODEQUIP</th>\n",
              "    </tr>\n",
              "  </thead>\n",
              "  <tbody>\n",
              "    <tr>\n",
              "      <th>0</th>\n",
              "      <td>3006166</td>\n",
              "      <td>00000000000000</td>\n",
              "      <td>81</td>\n",
              "    </tr>\n",
              "    <tr>\n",
              "      <th>1</th>\n",
              "      <td>3006166</td>\n",
              "      <td>00000000000000</td>\n",
              "      <td>84</td>\n",
              "    </tr>\n",
              "    <tr>\n",
              "      <th>2</th>\n",
              "      <td>3006166</td>\n",
              "      <td>00000000000000</td>\n",
              "      <td>83</td>\n",
              "    </tr>\n",
              "    <tr>\n",
              "      <th>3</th>\n",
              "      <td>3006166</td>\n",
              "      <td>00000000000000</td>\n",
              "      <td>80</td>\n",
              "    </tr>\n",
              "    <tr>\n",
              "      <th>4</th>\n",
              "      <td>3382745</td>\n",
              "      <td>00000000000000</td>\n",
              "      <td>81</td>\n",
              "    </tr>\n",
              "    <tr>\n",
              "      <th>5</th>\n",
              "      <td>3382745</td>\n",
              "      <td>00000000000000</td>\n",
              "      <td>84</td>\n",
              "    </tr>\n",
              "    <tr>\n",
              "      <th>6</th>\n",
              "      <td>3382745</td>\n",
              "      <td>00000000000000</td>\n",
              "      <td>80</td>\n",
              "    </tr>\n",
              "    <tr>\n",
              "      <th>7</th>\n",
              "      <td>3382745</td>\n",
              "      <td>00000000000000</td>\n",
              "      <td>83</td>\n",
              "    </tr>\n",
              "    <tr>\n",
              "      <th>8</th>\n",
              "      <td>3393984</td>\n",
              "      <td>00000000000000</td>\n",
              "      <td>81</td>\n",
              "    </tr>\n",
              "    <tr>\n",
              "      <th>9</th>\n",
              "      <td>3393984</td>\n",
              "      <td>00000000000000</td>\n",
              "      <td>80</td>\n",
              "    </tr>\n",
              "  </tbody>\n",
              "</table>\n",
              "</div>"
            ],
            "text/plain": [
              "      CNES        CPF_CNPJ  CODEQUIP\n",
              "0  3006166  00000000000000        81\n",
              "1  3006166  00000000000000        84\n",
              "2  3006166  00000000000000        83\n",
              "3  3006166  00000000000000        80\n",
              "4  3382745  00000000000000        81\n",
              "5  3382745  00000000000000        84\n",
              "6  3382745  00000000000000        80\n",
              "7  3382745  00000000000000        83\n",
              "8  3393984  00000000000000        81\n",
              "9  3393984  00000000000000        80"
            ]
          },
          "metadata": {
            "tags": []
          },
          "execution_count": 11
        }
      ]
    },
    {
      "cell_type": "code",
      "metadata": {
        "colab": {
          "base_uri": "https://localhost:8080/"
        },
        "id": "tBXbE7tW3udx",
        "outputId": "b6a4ab01-fcf5-4a89-a24f-05b895584cac"
      },
      "source": [
        "total_df_EQ.shape"
      ],
      "execution_count": null,
      "outputs": [
        {
          "output_type": "execute_result",
          "data": {
            "text/plain": [
              "(8596372, 3)"
            ]
          },
          "metadata": {
            "tags": []
          },
          "execution_count": 12
        }
      ]
    },
    {
      "cell_type": "code",
      "metadata": {
        "colab": {
          "base_uri": "https://localhost:8080/"
        },
        "id": "jyRc07kqFhr2",
        "outputId": "0d0b44ed-d905-429d-f789-98dde5a0f6ab"
      },
      "source": [
        "total_df_EQ.dtypes"
      ],
      "execution_count": null,
      "outputs": [
        {
          "output_type": "execute_result",
          "data": {
            "text/plain": [
              "CNES        object\n",
              "CPF_CNPJ    object\n",
              "CODEQUIP     int64\n",
              "dtype: object"
            ]
          },
          "metadata": {
            "tags": []
          },
          "execution_count": 13
        }
      ]
    },
    {
      "cell_type": "markdown",
      "metadata": {
        "id": "ae4ZMEVA0WNQ"
      },
      "source": [
        "# FILTRA O DATAFRAME DE EQUIPAMENTOS COM OS FILTROS: coluna_codequip.values (1,18) - QUE CORRESPONDEM AOS CODIGOS DOS EQUIPAMENTOS: Gama Camara e PET/CT "
      ]
    },
    {
      "cell_type": "code",
      "metadata": {
        "colab": {
          "base_uri": "https://localhost:8080/"
        },
        "id": "VKfVKBtc82ZC",
        "outputId": "276ad98e-a5c0-491e-bdfe-09552ceac389"
      },
      "source": [
        "coluna_codequip = result_eq.loc[:,'CO_EQUIPAMENTO'].astype(int)\n",
        "coluna_codequip.values"
      ],
      "execution_count": null,
      "outputs": [
        {
          "output_type": "execute_result",
          "data": {
            "text/plain": [
              "array([ 1, 18])"
            ]
          },
          "metadata": {
            "tags": []
          },
          "execution_count": 19
        }
      ]
    },
    {
      "cell_type": "code",
      "metadata": {
        "id": "UUruqI1-D0en"
      },
      "source": [
        "result_df_EQ = total_df_EQ.loc[total_df_EQ['CODEQUIP'].isin(coluna_codequip.values)]"
      ],
      "execution_count": null,
      "outputs": []
    },
    {
      "cell_type": "code",
      "metadata": {
        "colab": {
          "base_uri": "https://localhost:8080/"
        },
        "id": "VEkgLZ073ahO",
        "outputId": "74f4e7ae-6dea-4e5f-c4cd-009402b7ac91"
      },
      "source": [
        "result_df_EQ.shape"
      ],
      "execution_count": null,
      "outputs": [
        {
          "output_type": "execute_result",
          "data": {
            "text/plain": [
              "(7343, 3)"
            ]
          },
          "metadata": {
            "tags": []
          },
          "execution_count": 21
        }
      ]
    },
    {
      "cell_type": "code",
      "metadata": {
        "id": "kxVXtYku33OD"
      },
      "source": [
        "result_df_EQ = result_df_EQ.rename(columns={'CODEQUIP': 'CODEQUIP_TAB_EQ'})"
      ],
      "execution_count": null,
      "outputs": []
    },
    {
      "cell_type": "code",
      "metadata": {
        "colab": {
          "base_uri": "https://localhost:8080/",
          "height": 359
        },
        "id": "HyPgN8eiPGZY",
        "outputId": "e4ec315f-d6d8-4d13-9bc4-b6f055a7f2a8"
      },
      "source": [
        "result_df_EQ.head(10)"
      ],
      "execution_count": null,
      "outputs": [
        {
          "output_type": "execute_result",
          "data": {
            "text/html": [
              "<div>\n",
              "<style scoped>\n",
              "    .dataframe tbody tr th:only-of-type {\n",
              "        vertical-align: middle;\n",
              "    }\n",
              "\n",
              "    .dataframe tbody tr th {\n",
              "        vertical-align: top;\n",
              "    }\n",
              "\n",
              "    .dataframe thead th {\n",
              "        text-align: right;\n",
              "    }\n",
              "</style>\n",
              "<table border=\"1\" class=\"dataframe\">\n",
              "  <thead>\n",
              "    <tr style=\"text-align: right;\">\n",
              "      <th></th>\n",
              "      <th>CNES</th>\n",
              "      <th>CPF_CNPJ</th>\n",
              "      <th>CODEQUIP_TAB_EQ</th>\n",
              "    </tr>\n",
              "  </thead>\n",
              "  <tbody>\n",
              "    <tr>\n",
              "      <th>921</th>\n",
              "      <td>2001977</td>\n",
              "      <td>00624104000177</td>\n",
              "      <td>1</td>\n",
              "    </tr>\n",
              "    <tr>\n",
              "      <th>1396</th>\n",
              "      <td>6225012</td>\n",
              "      <td>07616992000125</td>\n",
              "      <td>1</td>\n",
              "    </tr>\n",
              "    <tr>\n",
              "      <th>1538</th>\n",
              "      <td>6655653</td>\n",
              "      <td>11467937000198</td>\n",
              "      <td>1</td>\n",
              "    </tr>\n",
              "    <tr>\n",
              "      <th>2138</th>\n",
              "      <td>9467610</td>\n",
              "      <td>28685425000109</td>\n",
              "      <td>1</td>\n",
              "    </tr>\n",
              "    <tr>\n",
              "      <th>3609</th>\n",
              "      <td>2001977</td>\n",
              "      <td>00624104000177</td>\n",
              "      <td>1</td>\n",
              "    </tr>\n",
              "    <tr>\n",
              "      <th>4068</th>\n",
              "      <td>6225012</td>\n",
              "      <td>07616992000125</td>\n",
              "      <td>1</td>\n",
              "    </tr>\n",
              "    <tr>\n",
              "      <th>4210</th>\n",
              "      <td>6655653</td>\n",
              "      <td>11467937000198</td>\n",
              "      <td>1</td>\n",
              "    </tr>\n",
              "    <tr>\n",
              "      <th>4819</th>\n",
              "      <td>9467610</td>\n",
              "      <td>28685425000109</td>\n",
              "      <td>1</td>\n",
              "    </tr>\n",
              "    <tr>\n",
              "      <th>6299</th>\n",
              "      <td>2001977</td>\n",
              "      <td>00624104000177</td>\n",
              "      <td>1</td>\n",
              "    </tr>\n",
              "    <tr>\n",
              "      <th>6770</th>\n",
              "      <td>6225012</td>\n",
              "      <td>07616992000125</td>\n",
              "      <td>1</td>\n",
              "    </tr>\n",
              "  </tbody>\n",
              "</table>\n",
              "</div>"
            ],
            "text/plain": [
              "         CNES        CPF_CNPJ  CODEQUIP_TAB_EQ\n",
              "921   2001977  00624104000177                1\n",
              "1396  6225012  07616992000125                1\n",
              "1538  6655653  11467937000198                1\n",
              "2138  9467610  28685425000109                1\n",
              "3609  2001977  00624104000177                1\n",
              "4068  6225012  07616992000125                1\n",
              "4210  6655653  11467937000198                1\n",
              "4819  9467610  28685425000109                1\n",
              "6299  2001977  00624104000177                1\n",
              "6770  6225012  07616992000125                1"
            ]
          },
          "metadata": {
            "tags": []
          },
          "execution_count": 24
        }
      ]
    },
    {
      "cell_type": "code",
      "metadata": {
        "id": "177pFM5nyTBa"
      },
      "source": [
        "result_df_EQ.to_csv('/drive/My Drive/DS_CNES/result_df_EQ.csv')"
      ],
      "execution_count": null,
      "outputs": []
    },
    {
      "cell_type": "markdown",
      "metadata": {
        "id": "zUXNFJvy0WNR"
      },
      "source": [
        "# MONTA O ARRAY DE LINKS ESTABELECIMENTOS"
      ]
    },
    {
      "cell_type": "code",
      "metadata": {
        "colab": {
          "base_uri": "https://localhost:8080/"
        },
        "id": "D5tCoqOM0WNR",
        "outputId": "2a2c3e6f-e346-4acb-de84-c7c017e64e8f"
      },
      "source": [
        "path_st = 'https://datascience.ipen.br/~mario/CNESdados/200508_/Dados/ST/CSVs/ST'\n",
        "array_urls_st = []\n",
        "campos_st = ['CNES','CPF_CNPJ','ALVARA']\n",
        "\n",
        "for est in array_estados:\n",
        "    array_urls_st.append(path_st+\"\"+est+\"_2020.csv\")\n",
        "    \n",
        "print(array_urls_st)"
      ],
      "execution_count": null,
      "outputs": [
        {
          "output_type": "stream",
          "text": [
            "['https://datascience.ipen.br/~mario/CNESdados/200508_/Dados/ST/CSVs/STAC_2020.csv', 'https://datascience.ipen.br/~mario/CNESdados/200508_/Dados/ST/CSVs/STAL_2020.csv', 'https://datascience.ipen.br/~mario/CNESdados/200508_/Dados/ST/CSVs/STAM_2020.csv', 'https://datascience.ipen.br/~mario/CNESdados/200508_/Dados/ST/CSVs/STAP_2020.csv', 'https://datascience.ipen.br/~mario/CNESdados/200508_/Dados/ST/CSVs/STBA_2020.csv', 'https://datascience.ipen.br/~mario/CNESdados/200508_/Dados/ST/CSVs/STCE_2020.csv', 'https://datascience.ipen.br/~mario/CNESdados/200508_/Dados/ST/CSVs/STDF_2020.csv', 'https://datascience.ipen.br/~mario/CNESdados/200508_/Dados/ST/CSVs/STES_2020.csv', 'https://datascience.ipen.br/~mario/CNESdados/200508_/Dados/ST/CSVs/STGO_2020.csv', 'https://datascience.ipen.br/~mario/CNESdados/200508_/Dados/ST/CSVs/STMA_2020.csv', 'https://datascience.ipen.br/~mario/CNESdados/200508_/Dados/ST/CSVs/STMT_2020.csv', 'https://datascience.ipen.br/~mario/CNESdados/200508_/Dados/ST/CSVs/STMS_2020.csv', 'https://datascience.ipen.br/~mario/CNESdados/200508_/Dados/ST/CSVs/STMG_2020.csv', 'https://datascience.ipen.br/~mario/CNESdados/200508_/Dados/ST/CSVs/STPA_2020.csv', 'https://datascience.ipen.br/~mario/CNESdados/200508_/Dados/ST/CSVs/STPB_2020.csv', 'https://datascience.ipen.br/~mario/CNESdados/200508_/Dados/ST/CSVs/STPR_2020.csv', 'https://datascience.ipen.br/~mario/CNESdados/200508_/Dados/ST/CSVs/STPE_2020.csv', 'https://datascience.ipen.br/~mario/CNESdados/200508_/Dados/ST/CSVs/STPI_2020.csv', 'https://datascience.ipen.br/~mario/CNESdados/200508_/Dados/ST/CSVs/STRJ_2020.csv', 'https://datascience.ipen.br/~mario/CNESdados/200508_/Dados/ST/CSVs/STRN_2020.csv', 'https://datascience.ipen.br/~mario/CNESdados/200508_/Dados/ST/CSVs/STRO_2020.csv', 'https://datascience.ipen.br/~mario/CNESdados/200508_/Dados/ST/CSVs/STRS_2020.csv', 'https://datascience.ipen.br/~mario/CNESdados/200508_/Dados/ST/CSVs/STRR_2020.csv', 'https://datascience.ipen.br/~mario/CNESdados/200508_/Dados/ST/CSVs/STSC_2020.csv', 'https://datascience.ipen.br/~mario/CNESdados/200508_/Dados/ST/CSVs/STSE_2020.csv', 'https://datascience.ipen.br/~mario/CNESdados/200508_/Dados/ST/CSVs/STSP_2020.csv', 'https://datascience.ipen.br/~mario/CNESdados/200508_/Dados/ST/CSVs/STTO_2020.csv']\n"
          ],
          "name": "stdout"
        }
      ]
    },
    {
      "cell_type": "markdown",
      "metadata": {
        "id": "YJfvUdMB0WNR"
      },
      "source": [
        "# GERA O DATAFRAME DE ESTABELECIMENTOS"
      ]
    },
    {
      "cell_type": "code",
      "metadata": {
        "colab": {
          "base_uri": "https://localhost:8080/"
        },
        "id": "Z2oSx4Y90WNR",
        "outputId": "a1a1b883-0938-49f7-cd96-5f094fb39e1a"
      },
      "source": [
        "timeStartST = time.time()\n",
        "dfs_ST = [pd.read_csv(urlst, sep=',', error_bad_lines=False, index_col=False, dtype='unicode', usecols = campos_st) for urlst in array_urls_st]\n",
        "total_df_ST = pd.concat(dfs_ST, ignore_index=True)\n",
        "tempoDeExecucaoST = (time.time() - timeStartST)\n",
        "print('Tempo de execução em minutos: ' + str(tempoDeExecucaoST/60))"
      ],
      "execution_count": null,
      "outputs": [
        {
          "output_type": "stream",
          "text": [
            "Tempo de execução em minutos: 1.9133854707082112\n"
          ],
          "name": "stdout"
        }
      ]
    },
    {
      "cell_type": "code",
      "metadata": {
        "scrolled": false,
        "colab": {
          "base_uri": "https://localhost:8080/"
        },
        "id": "iEDANubc0WNS",
        "outputId": "13d736b5-4a8a-4043-d9d4-5817de679344"
      },
      "source": [
        "total_df_ST.shape"
      ],
      "execution_count": null,
      "outputs": [
        {
          "output_type": "execute_result",
          "data": {
            "text/plain": [
              "(3581555, 3)"
            ]
          },
          "metadata": {
            "tags": []
          },
          "execution_count": 28
        }
      ]
    },
    {
      "cell_type": "code",
      "metadata": {
        "colab": {
          "base_uri": "https://localhost:8080/",
          "height": 359
        },
        "id": "jFXq0NLO0WNS",
        "outputId": "5ea41903-c12c-4a12-9dfd-4c76574e0c9a"
      },
      "source": [
        "total_df_ST.head(10)"
      ],
      "execution_count": null,
      "outputs": [
        {
          "output_type": "execute_result",
          "data": {
            "text/html": [
              "<div>\n",
              "<style scoped>\n",
              "    .dataframe tbody tr th:only-of-type {\n",
              "        vertical-align: middle;\n",
              "    }\n",
              "\n",
              "    .dataframe tbody tr th {\n",
              "        vertical-align: top;\n",
              "    }\n",
              "\n",
              "    .dataframe thead th {\n",
              "        text-align: right;\n",
              "    }\n",
              "</style>\n",
              "<table border=\"1\" class=\"dataframe\">\n",
              "  <thead>\n",
              "    <tr style=\"text-align: right;\">\n",
              "      <th></th>\n",
              "      <th>CNES</th>\n",
              "      <th>CPF_CNPJ</th>\n",
              "      <th>ALVARA</th>\n",
              "    </tr>\n",
              "  </thead>\n",
              "  <tbody>\n",
              "    <tr>\n",
              "      <th>0</th>\n",
              "      <td>3006166</td>\n",
              "      <td>00000000000000</td>\n",
              "      <td>NaN</td>\n",
              "    </tr>\n",
              "    <tr>\n",
              "      <th>1</th>\n",
              "      <td>3382745</td>\n",
              "      <td>00000000000000</td>\n",
              "      <td>NaN</td>\n",
              "    </tr>\n",
              "    <tr>\n",
              "      <th>2</th>\n",
              "      <td>3393984</td>\n",
              "      <td>00000000000000</td>\n",
              "      <td>NaN</td>\n",
              "    </tr>\n",
              "    <tr>\n",
              "      <th>3</th>\n",
              "      <td>3638685</td>\n",
              "      <td>00000000000000</td>\n",
              "      <td>NaN</td>\n",
              "    </tr>\n",
              "    <tr>\n",
              "      <th>4</th>\n",
              "      <td>5403669</td>\n",
              "      <td>00000000000000</td>\n",
              "      <td>NaN</td>\n",
              "    </tr>\n",
              "    <tr>\n",
              "      <th>5</th>\n",
              "      <td>5701929</td>\n",
              "      <td>00000000000000</td>\n",
              "      <td>NaN</td>\n",
              "    </tr>\n",
              "    <tr>\n",
              "      <th>6</th>\n",
              "      <td>6514669</td>\n",
              "      <td>00000000000000</td>\n",
              "      <td>NaN</td>\n",
              "    </tr>\n",
              "    <tr>\n",
              "      <th>7</th>\n",
              "      <td>7026641</td>\n",
              "      <td>00000000000000</td>\n",
              "      <td>NaN</td>\n",
              "    </tr>\n",
              "    <tr>\n",
              "      <th>8</th>\n",
              "      <td>7245890</td>\n",
              "      <td>10923709000201</td>\n",
              "      <td>239/2013</td>\n",
              "    </tr>\n",
              "    <tr>\n",
              "      <th>9</th>\n",
              "      <td>7669135</td>\n",
              "      <td>17390533000120</td>\n",
              "      <td>NaN</td>\n",
              "    </tr>\n",
              "  </tbody>\n",
              "</table>\n",
              "</div>"
            ],
            "text/plain": [
              "      CNES        CPF_CNPJ    ALVARA\n",
              "0  3006166  00000000000000       NaN\n",
              "1  3382745  00000000000000       NaN\n",
              "2  3393984  00000000000000       NaN\n",
              "3  3638685  00000000000000       NaN\n",
              "4  5403669  00000000000000       NaN\n",
              "5  5701929  00000000000000       NaN\n",
              "6  6514669  00000000000000       NaN\n",
              "7  7026641  00000000000000       NaN\n",
              "8  7245890  10923709000201  239/2013\n",
              "9  7669135  17390533000120       NaN"
            ]
          },
          "metadata": {
            "tags": []
          },
          "execution_count": 31
        }
      ]
    },
    {
      "cell_type": "markdown",
      "metadata": {
        "id": "sJd-ODgjWoD7"
      },
      "source": [
        "# FAZ O MERGE (RIGHT JOIN NO SQL) USANDO COMO CHAVE O VALOR CNES E REMOVENDO OS DUPLICADOS\n",
        "\n",
        "Aqui tenho um resultado de todas as empresas da base CNES que trabalham (ou tenham!?) os equipamentos GAMA CAMARA e PET/CT. Nesta lista podemos conferir se, pelo CNES, temos o Alvará.\n",
        "Com base nesta lista é possível importar a base de Clientes da Cnen e fazer uma comparação utilizando o CNES ou CNPJ cadastrado. "
      ]
    },
    {
      "cell_type": "code",
      "metadata": {
        "id": "3WEzDBh10WNS"
      },
      "source": [
        "df_lista_cnes = pd.merge(total_df_ST, result_df_EQ, on=\"CNES\", how=\"left\").drop_duplicates()\n",
        "df_lista_cnes = (df_lista_cnes.rename(columns={'CPF_CNPJ_x': 'CNPJ'})).drop(columns=['CPF_CNPJ_y'])\n",
        "df_lista_cnes['CNPJ'] = df_lista_cnes['CNPJ'].str.replace(\".\",\"\")\n",
        "df_lista_cnes['CNPJ'] = df_lista_cnes['CNPJ'].str.replace(\"/\",\"\")\n",
        "df_lista_cnes['CNPJ'] = df_lista_cnes['CNPJ'].str.replace(\"-\",\"\")\n",
        "df_lista_cnes['CNPJ'] = df_lista_cnes['CNPJ'].str.replace(\" \",\"\")\n"
      ],
      "execution_count": null,
      "outputs": []
    },
    {
      "cell_type": "code",
      "metadata": {
        "colab": {
          "base_uri": "https://localhost:8080/",
          "height": 80
        },
        "id": "nPFVHhsGKHwV",
        "outputId": "b05f3059-c700-4706-b1af-7b28a73573cb"
      },
      "source": [
        "filtro_cnpj_lista = ['07738336000103']\n",
        "result_cnpj_lista = df_lista_cnes[df_lista_cnes['CNPJ'].str.contains('|'.join(filtro_cnpj_lista))]\n",
        "\n",
        "result_cnpj_lista"
      ],
      "execution_count": null,
      "outputs": [
        {
          "output_type": "execute_result",
          "data": {
            "text/html": [
              "<div>\n",
              "<style scoped>\n",
              "    .dataframe tbody tr th:only-of-type {\n",
              "        vertical-align: middle;\n",
              "    }\n",
              "\n",
              "    .dataframe tbody tr th {\n",
              "        vertical-align: top;\n",
              "    }\n",
              "\n",
              "    .dataframe thead th {\n",
              "        text-align: right;\n",
              "    }\n",
              "</style>\n",
              "<table border=\"1\" class=\"dataframe\">\n",
              "  <thead>\n",
              "    <tr style=\"text-align: right;\">\n",
              "      <th></th>\n",
              "      <th>CNES</th>\n",
              "      <th>CNPJ</th>\n",
              "      <th>ALVARA</th>\n",
              "      <th>CODEQUIP_TAB_EQ</th>\n",
              "    </tr>\n",
              "  </thead>\n",
              "  <tbody>\n",
              "    <tr>\n",
              "      <th>546841</th>\n",
              "      <td>3946207</td>\n",
              "      <td>07738336000103</td>\n",
              "      <td>NaN</td>\n",
              "      <td>NaN</td>\n",
              "    </tr>\n",
              "  </tbody>\n",
              "</table>\n",
              "</div>"
            ],
            "text/plain": [
              "           CNES            CNPJ ALVARA  CODEQUIP_TAB_EQ\n",
              "546841  3946207  07738336000103    NaN              NaN"
            ]
          },
          "metadata": {
            "tags": []
          },
          "execution_count": 33
        }
      ]
    },
    {
      "cell_type": "code",
      "metadata": {
        "colab": {
          "base_uri": "https://localhost:8080/"
        },
        "id": "Ibb-FTxOt2Sv",
        "outputId": "5ab263ce-1c21-45b3-e79c-4eceaa7430bb"
      },
      "source": [
        "df_lista_cnes.shape"
      ],
      "execution_count": null,
      "outputs": [
        {
          "output_type": "execute_result",
          "data": {
            "text/plain": [
              "(375854, 4)"
            ]
          },
          "metadata": {
            "tags": []
          },
          "execution_count": 37
        }
      ]
    },
    {
      "cell_type": "code",
      "metadata": {
        "colab": {
          "base_uri": "https://localhost:8080/",
          "height": 359
        },
        "id": "7le04PUtBUqb",
        "outputId": "a5e717fc-171d-4030-9860-1486a4317d74"
      },
      "source": [
        "\n",
        "df_lista_cnes.head(10)"
      ],
      "execution_count": null,
      "outputs": [
        {
          "output_type": "execute_result",
          "data": {
            "text/html": [
              "<div>\n",
              "<style scoped>\n",
              "    .dataframe tbody tr th:only-of-type {\n",
              "        vertical-align: middle;\n",
              "    }\n",
              "\n",
              "    .dataframe tbody tr th {\n",
              "        vertical-align: top;\n",
              "    }\n",
              "\n",
              "    .dataframe thead th {\n",
              "        text-align: right;\n",
              "    }\n",
              "</style>\n",
              "<table border=\"1\" class=\"dataframe\">\n",
              "  <thead>\n",
              "    <tr style=\"text-align: right;\">\n",
              "      <th></th>\n",
              "      <th>CNES</th>\n",
              "      <th>CNPJ</th>\n",
              "      <th>ALVARA</th>\n",
              "      <th>CODEQUIP_TAB_EQ</th>\n",
              "    </tr>\n",
              "  </thead>\n",
              "  <tbody>\n",
              "    <tr>\n",
              "      <th>0</th>\n",
              "      <td>3006166</td>\n",
              "      <td>00000000000000</td>\n",
              "      <td>NaN</td>\n",
              "      <td>NaN</td>\n",
              "    </tr>\n",
              "    <tr>\n",
              "      <th>1</th>\n",
              "      <td>3382745</td>\n",
              "      <td>00000000000000</td>\n",
              "      <td>NaN</td>\n",
              "      <td>NaN</td>\n",
              "    </tr>\n",
              "    <tr>\n",
              "      <th>2</th>\n",
              "      <td>3393984</td>\n",
              "      <td>00000000000000</td>\n",
              "      <td>NaN</td>\n",
              "      <td>NaN</td>\n",
              "    </tr>\n",
              "    <tr>\n",
              "      <th>3</th>\n",
              "      <td>3638685</td>\n",
              "      <td>00000000000000</td>\n",
              "      <td>NaN</td>\n",
              "      <td>NaN</td>\n",
              "    </tr>\n",
              "    <tr>\n",
              "      <th>4</th>\n",
              "      <td>5403669</td>\n",
              "      <td>00000000000000</td>\n",
              "      <td>NaN</td>\n",
              "      <td>NaN</td>\n",
              "    </tr>\n",
              "    <tr>\n",
              "      <th>5</th>\n",
              "      <td>5701929</td>\n",
              "      <td>00000000000000</td>\n",
              "      <td>NaN</td>\n",
              "      <td>NaN</td>\n",
              "    </tr>\n",
              "    <tr>\n",
              "      <th>6</th>\n",
              "      <td>6514669</td>\n",
              "      <td>00000000000000</td>\n",
              "      <td>NaN</td>\n",
              "      <td>NaN</td>\n",
              "    </tr>\n",
              "    <tr>\n",
              "      <th>7</th>\n",
              "      <td>7026641</td>\n",
              "      <td>00000000000000</td>\n",
              "      <td>NaN</td>\n",
              "      <td>NaN</td>\n",
              "    </tr>\n",
              "    <tr>\n",
              "      <th>8</th>\n",
              "      <td>7245890</td>\n",
              "      <td>10923709000201</td>\n",
              "      <td>239/2013</td>\n",
              "      <td>NaN</td>\n",
              "    </tr>\n",
              "    <tr>\n",
              "      <th>9</th>\n",
              "      <td>7669135</td>\n",
              "      <td>17390533000120</td>\n",
              "      <td>NaN</td>\n",
              "      <td>NaN</td>\n",
              "    </tr>\n",
              "  </tbody>\n",
              "</table>\n",
              "</div>"
            ],
            "text/plain": [
              "      CNES            CNPJ    ALVARA  CODEQUIP_TAB_EQ\n",
              "0  3006166  00000000000000       NaN              NaN\n",
              "1  3382745  00000000000000       NaN              NaN\n",
              "2  3393984  00000000000000       NaN              NaN\n",
              "3  3638685  00000000000000       NaN              NaN\n",
              "4  5403669  00000000000000       NaN              NaN\n",
              "5  5701929  00000000000000       NaN              NaN\n",
              "6  6514669  00000000000000       NaN              NaN\n",
              "7  7026641  00000000000000       NaN              NaN\n",
              "8  7245890  10923709000201  239/2013              NaN\n",
              "9  7669135  17390533000120       NaN              NaN"
            ]
          },
          "metadata": {
            "tags": []
          },
          "execution_count": 39
        }
      ]
    },
    {
      "cell_type": "code",
      "metadata": {
        "id": "kD0R0DvLOyJY"
      },
      "source": [
        "df_lista_cnes.to_csv('/drive/My Drive/DS_CNES/df_lista_cnes_leftjoin.csv')"
      ],
      "execution_count": null,
      "outputs": []
    },
    {
      "cell_type": "markdown",
      "metadata": {
        "id": "IFXr7oRlPjLY"
      },
      "source": [
        "# CARREGA DO GOOGLE DRIVE A LISTA DE CLIENTES DISPONIBILIZADA PELA CNEN\n",
        "Ao mesmo tempo que carrega a lista, que esta em excel, é formatado o campo de CNPJ para Join com o resultado da base CNES acima."
      ]
    },
    {
      "cell_type": "code",
      "metadata": {
        "id": "7fg_-VL9blxP"
      },
      "source": [
        "url_lista_clientes_cnen = 'https://drive.google.com/file/d/1OvY1NsR0Bn8eDq2I28TRvwjQPEdPywAh/view?usp=sharing'\n",
        "path_lista_clientes_cnen = 'https://drive.google.com/uc?export=download&id='+url_lista_clientes_cnen.split('/')[-2]\n",
        "df_lista_clientes_cnen = pd.read_excel(path_lista_clientes_cnen, index_col=0).drop(columns=['seq'])\n",
        "df_lista_clientes_cnen['CNPJ'] = df_lista_clientes_cnen['CNPJ'].str.replace(\".\",\"\")\n",
        "df_lista_clientes_cnen['CNPJ'] = df_lista_clientes_cnen['CNPJ'].str.replace(\"/\",\"\")\n",
        "df_lista_clientes_cnen['CNPJ'] = df_lista_clientes_cnen['CNPJ'].str.replace(\"-\",\"\")\n",
        "df_lista_clientes_cnen['CNPJ'] = df_lista_clientes_cnen['CNPJ'].str.replace(\" \",\"\")\n",
        "df_lista_clientes_cnen['RAZAOSOCIAL'] = df_lista_clientes_cnen['RAZAOSOCIAL'].apply(lambda x:removerAcentosECaracteresEspeciais(x))\n",
        "df_lista_clientes_cnen['UNIDADE'] = df_lista_clientes_cnen['UNIDADE'].apply(lambda x:removerAcentosECaracteresEspeciais(x))\n",
        "df_lista_clientes_cnen['RESPONSAVEL'] = df_lista_clientes_cnen['RESPONSAVEL'].apply(lambda x:removerAcentosECaracteresEspeciais(x))\n",
        "df_lista_clientes_cnen['ENDERECO'] = df_lista_clientes_cnen['ENDERECO'].apply(lambda x:removerAcentosECaracteresEspeciais(x))\n",
        "df_lista_clientes_cnen['MUNICIPIO'] = df_lista_clientes_cnen['MUNICIPIO'].apply(lambda x:removerAcentosECaracteresEspeciais(x))\n",
        "\n",
        "\n"
      ],
      "execution_count": null,
      "outputs": []
    },
    {
      "cell_type": "code",
      "metadata": {
        "colab": {
          "base_uri": "https://localhost:8080/",
          "height": 544
        },
        "id": "gN8hD45CuamJ",
        "outputId": "53a5671e-524c-4165-9993-a622cf0236cd"
      },
      "source": [
        "df_lista_clientes_cnen.head(5)"
      ],
      "execution_count": null,
      "outputs": [
        {
          "output_type": "execute_result",
          "data": {
            "text/html": [
              "<div>\n",
              "<style scoped>\n",
              "    .dataframe tbody tr th:only-of-type {\n",
              "        vertical-align: middle;\n",
              "    }\n",
              "\n",
              "    .dataframe tbody tr th {\n",
              "        vertical-align: top;\n",
              "    }\n",
              "\n",
              "    .dataframe thead th {\n",
              "        text-align: right;\n",
              "    }\n",
              "</style>\n",
              "<table border=\"1\" class=\"dataframe\">\n",
              "  <thead>\n",
              "    <tr style=\"text-align: right;\">\n",
              "      <th></th>\n",
              "      <th>CODIGORESP</th>\n",
              "      <th>CNPJ</th>\n",
              "      <th>RAZAOSOCIAL</th>\n",
              "      <th>UNIDADE</th>\n",
              "      <th>RESPONSAVEL</th>\n",
              "      <th>MATRICULACNEN</th>\n",
              "      <th>ENDERECO</th>\n",
              "      <th>NUMERO</th>\n",
              "      <th>COMPLEMENTO</th>\n",
              "      <th>BAIRRO</th>\n",
              "      <th>MUNICIPIO</th>\n",
              "      <th>UF</th>\n",
              "      <th>CEP</th>\n",
              "    </tr>\n",
              "    <tr>\n",
              "      <th>CODIGOCLIENTE</th>\n",
              "      <th></th>\n",
              "      <th></th>\n",
              "      <th></th>\n",
              "      <th></th>\n",
              "      <th></th>\n",
              "      <th></th>\n",
              "      <th></th>\n",
              "      <th></th>\n",
              "      <th></th>\n",
              "      <th></th>\n",
              "      <th></th>\n",
              "      <th></th>\n",
              "      <th></th>\n",
              "    </tr>\n",
              "  </thead>\n",
              "  <tbody>\n",
              "    <tr>\n",
              "      <th>5002184</th>\n",
              "      <td>1</td>\n",
              "      <td>21554423000123</td>\n",
              "      <td>INSTITUTO ONCOLOGICO LTDA  JUIZ DE FORAMG</td>\n",
              "      <td>MEDICINA NUCLEAR</td>\n",
              "      <td>GUSTAVO SFFEIR C DE MAGALHAES</td>\n",
              "      <td>16404</td>\n",
              "      <td>RUA SANTOS DUMONT</td>\n",
              "      <td>56</td>\n",
              "      <td>NaN</td>\n",
              "      <td>GRANBERY</td>\n",
              "      <td>JUIZ DE FORA</td>\n",
              "      <td>MG</td>\n",
              "      <td>36010510</td>\n",
              "    </tr>\n",
              "    <tr>\n",
              "      <th>5002672</th>\n",
              "      <td>1</td>\n",
              "      <td>33205964000125</td>\n",
              "      <td>CLINICA DE MEDICINA NUCL VILLELA PEDRAS LTDA</td>\n",
              "      <td>MED NUCLEAR</td>\n",
              "      <td>IVAN DE SA VILELA PEDRAS</td>\n",
              "      <td>11595</td>\n",
              "      <td>RUA MEXICO</td>\n",
              "      <td>98</td>\n",
              "      <td>3 E 4 ANDAR</td>\n",
              "      <td>CENTRO</td>\n",
              "      <td>RIO DE JANEIRO</td>\n",
              "      <td>RJ</td>\n",
              "      <td>20031141</td>\n",
              "    </tr>\n",
              "    <tr>\n",
              "      <th>5009782</th>\n",
              "      <td>1</td>\n",
              "      <td>15166416000151</td>\n",
              "      <td>REAL SOCIEDADE PORTUGUESA DE BENEFICIENCIA 16 ...</td>\n",
              "      <td>MEDICINA NUCLEAR</td>\n",
              "      <td>EDMARIO ANTONIO G COSTA</td>\n",
              "      <td>11672</td>\n",
              "      <td>AV PRINCESA ISABEL</td>\n",
              "      <td>914</td>\n",
              "      <td>NaN</td>\n",
              "      <td>BARRA AVENIDA</td>\n",
              "      <td>SALVADOR</td>\n",
              "      <td>BA</td>\n",
              "      <td>40140901</td>\n",
              "    </tr>\n",
              "    <tr>\n",
              "      <th>5016363</th>\n",
              "      <td>1</td>\n",
              "      <td>75033308000132</td>\n",
              "      <td>CENTRO DE MEDICINA NUCLEAR DO PARANA LTDA SC</td>\n",
              "      <td>MEDICINA NUCLEAR</td>\n",
              "      <td>TAIZA PARENTE ZUKOVSKI</td>\n",
              "      <td>15390</td>\n",
              "      <td>RUA PDE ILDEFONSO</td>\n",
              "      <td>158</td>\n",
              "      <td>NaN</td>\n",
              "      <td>BATEL</td>\n",
              "      <td>CURITIBA</td>\n",
              "      <td>PR</td>\n",
              "      <td>80240160</td>\n",
              "    </tr>\n",
              "    <tr>\n",
              "      <th>5017408</th>\n",
              "      <td>1</td>\n",
              "      <td>33804212000180</td>\n",
              "      <td>CLINICA SAO CARLOS SA</td>\n",
              "      <td>SERV MED NUCLEAR</td>\n",
              "      <td>CARLOS AFFONSO FUSER</td>\n",
              "      <td>11663</td>\n",
              "      <td>RUA HUMAITA</td>\n",
              "      <td>296</td>\n",
              "      <td>NaN</td>\n",
              "      <td>BOTAFOGO</td>\n",
              "      <td>RIO DE JANEIRO</td>\n",
              "      <td>RJ</td>\n",
              "      <td>22261001</td>\n",
              "    </tr>\n",
              "  </tbody>\n",
              "</table>\n",
              "</div>"
            ],
            "text/plain": [
              "               CODIGORESP            CNPJ  \\\n",
              "CODIGOCLIENTE                               \n",
              "5002184                 1  21554423000123   \n",
              "5002672                 1  33205964000125   \n",
              "5009782                 1  15166416000151   \n",
              "5016363                 1  75033308000132   \n",
              "5017408                 1  33804212000180   \n",
              "\n",
              "                                                     RAZAOSOCIAL  \\\n",
              "CODIGOCLIENTE                                                      \n",
              "5002184                INSTITUTO ONCOLOGICO LTDA  JUIZ DE FORAMG   \n",
              "5002672             CLINICA DE MEDICINA NUCL VILLELA PEDRAS LTDA   \n",
              "5009782        REAL SOCIEDADE PORTUGUESA DE BENEFICIENCIA 16 ...   \n",
              "5016363             CENTRO DE MEDICINA NUCLEAR DO PARANA LTDA SC   \n",
              "5017408                                    CLINICA SAO CARLOS SA   \n",
              "\n",
              "                        UNIDADE                    RESPONSAVEL  MATRICULACNEN  \\\n",
              "CODIGOCLIENTE                                                                   \n",
              "5002184        MEDICINA NUCLEAR  GUSTAVO SFFEIR C DE MAGALHAES          16404   \n",
              "5002672             MED NUCLEAR       IVAN DE SA VILELA PEDRAS          11595   \n",
              "5009782        MEDICINA NUCLEAR        EDMARIO ANTONIO G COSTA          11672   \n",
              "5016363        MEDICINA NUCLEAR         TAIZA PARENTE ZUKOVSKI          15390   \n",
              "5017408        SERV MED NUCLEAR           CARLOS AFFONSO FUSER          11663   \n",
              "\n",
              "                         ENDERECO NUMERO  COMPLEMENTO         BAIRRO  \\\n",
              "CODIGOCLIENTE                                                          \n",
              "5002184         RUA SANTOS DUMONT     56          NaN       GRANBERY   \n",
              "5002672                RUA MEXICO     98  3 E 4 ANDAR         CENTRO   \n",
              "5009782        AV PRINCESA ISABEL    914          NaN  BARRA AVENIDA   \n",
              "5016363         RUA PDE ILDEFONSO    158          NaN          BATEL   \n",
              "5017408               RUA HUMAITA    296          NaN       BOTAFOGO   \n",
              "\n",
              "                    MUNICIPIO  UF       CEP  \n",
              "CODIGOCLIENTE                                \n",
              "5002184          JUIZ DE FORA  MG  36010510  \n",
              "5002672        RIO DE JANEIRO  RJ  20031141  \n",
              "5009782              SALVADOR  BA  40140901  \n",
              "5016363              CURITIBA  PR  80240160  \n",
              "5017408        RIO DE JANEIRO  RJ  22261001  "
            ]
          },
          "metadata": {
            "tags": []
          },
          "execution_count": 45
        }
      ]
    },
    {
      "cell_type": "code",
      "metadata": {
        "id": "7tZFsOI4fDyn"
      },
      "source": [
        "df_lista_clientes_cnen.to_csv('/drive/My Drive/DS_CNES/df_lista_clientes_cnen.csv')"
      ],
      "execution_count": null,
      "outputs": []
    },
    {
      "cell_type": "code",
      "metadata": {
        "id": "iU5yrA5MAhCO"
      },
      "source": [
        "df_lista_clientes_cnen.to_excel('/drive/My Drive/DS_CNES/df_lista_clientes_cnen.xlsx')"
      ],
      "execution_count": null,
      "outputs": []
    },
    {
      "cell_type": "markdown",
      "metadata": {
        "id": "ff-5rRtLBjMZ"
      },
      "source": [
        "# FAZ O MERGE DA LISTA DE CLIENTES COM A LISTA DA BASE CNES\n",
        "Utiliza como chave o campo CNPJ"
      ]
    },
    {
      "cell_type": "code",
      "metadata": {
        "id": "vdLEV1dz9P3M"
      },
      "source": [
        "df_resultado_final = pd.merge(df_lista_clientes_cnen, df_lista_cnes, left_on=\"CNPJ\", right_on=\"CNPJ\", how=\"inner\")\n",
        "df_resultado_final['ALVARA'] = df_resultado_final['ALVARA'].str.replace(\",\",\"\")\n",
        "df_resultado_final['COMPLEMENTO'] = df_resultado_final['COMPLEMENTO'].str.replace(\",\",\"\")"
      ],
      "execution_count": null,
      "outputs": []
    },
    {
      "cell_type": "code",
      "metadata": {
        "colab": {
          "base_uri": "https://localhost:8080/",
          "height": 1000
        },
        "id": "b_Zfr9OKup9Y",
        "outputId": "431f5c96-57a4-42b1-8623-8fd1ed64d1f0"
      },
      "source": [
        "df_resultado_final.sort_values(by=['CNES'])"
      ],
      "execution_count": null,
      "outputs": [
        {
          "output_type": "execute_result",
          "data": {
            "text/html": [
              "<div>\n",
              "<style scoped>\n",
              "    .dataframe tbody tr th:only-of-type {\n",
              "        vertical-align: middle;\n",
              "    }\n",
              "\n",
              "    .dataframe tbody tr th {\n",
              "        vertical-align: top;\n",
              "    }\n",
              "\n",
              "    .dataframe thead th {\n",
              "        text-align: right;\n",
              "    }\n",
              "</style>\n",
              "<table border=\"1\" class=\"dataframe\">\n",
              "  <thead>\n",
              "    <tr style=\"text-align: right;\">\n",
              "      <th></th>\n",
              "      <th>CODIGORESP</th>\n",
              "      <th>CNPJ</th>\n",
              "      <th>RAZAOSOCIAL</th>\n",
              "      <th>UNIDADE</th>\n",
              "      <th>RESPONSAVEL</th>\n",
              "      <th>MATRICULACNEN</th>\n",
              "      <th>ENDERECO</th>\n",
              "      <th>NUMERO</th>\n",
              "      <th>COMPLEMENTO</th>\n",
              "      <th>BAIRRO</th>\n",
              "      <th>MUNICIPIO</th>\n",
              "      <th>UF</th>\n",
              "      <th>CEP</th>\n",
              "      <th>CNES</th>\n",
              "      <th>ALVARA</th>\n",
              "      <th>CODEQUIP_TAB_EQ</th>\n",
              "    </tr>\n",
              "  </thead>\n",
              "  <tbody>\n",
              "    <tr>\n",
              "      <th>270</th>\n",
              "      <td>2</td>\n",
              "      <td>10988301000129</td>\n",
              "      <td>INSTITUTO DE MEDICINA INTEGRAL PROFESSOR FERNA...</td>\n",
              "      <td>MEDICINA NUCLEAR</td>\n",
              "      <td>TIEN MAN CABRAL CHANG</td>\n",
              "      <td>15004</td>\n",
              "      <td>RUA DOS COELHOS</td>\n",
              "      <td>300</td>\n",
              "      <td>NaN</td>\n",
              "      <td>BOA VISTA</td>\n",
              "      <td>RECIFE</td>\n",
              "      <td>PE</td>\n",
              "      <td>50070550</td>\n",
              "      <td>0000434</td>\n",
              "      <td>00029118-84</td>\n",
              "      <td>18.0</td>\n",
              "    </tr>\n",
              "    <tr>\n",
              "      <th>269</th>\n",
              "      <td>2</td>\n",
              "      <td>10988301000129</td>\n",
              "      <td>INSTITUTO DE MEDICINA INTEGRAL PROFESSOR FERNA...</td>\n",
              "      <td>MEDICINA NUCLEAR</td>\n",
              "      <td>TIEN MAN CABRAL CHANG</td>\n",
              "      <td>15004</td>\n",
              "      <td>RUA DOS COELHOS</td>\n",
              "      <td>300</td>\n",
              "      <td>NaN</td>\n",
              "      <td>BOA VISTA</td>\n",
              "      <td>RECIFE</td>\n",
              "      <td>PE</td>\n",
              "      <td>50070550</td>\n",
              "      <td>0000434</td>\n",
              "      <td>00029118-84</td>\n",
              "      <td>1.0</td>\n",
              "    </tr>\n",
              "    <tr>\n",
              "      <th>199</th>\n",
              "      <td>2</td>\n",
              "      <td>10892164000124</td>\n",
              "      <td>REAL HOSPITAL PORTUGUES BENEFEM PERNAMBUCO</td>\n",
              "      <td>REAL NUCLEAR II</td>\n",
              "      <td>PAULO JOSE DE ALMEIDA FILHO</td>\n",
              "      <td>16209</td>\n",
              "      <td>AV GOV AGAMENON MAGALHAES</td>\n",
              "      <td>4760</td>\n",
              "      <td>NaN</td>\n",
              "      <td>PAISSANDU</td>\n",
              "      <td>RECIFE</td>\n",
              "      <td>PE</td>\n",
              "      <td>52010902</td>\n",
              "      <td>0001120</td>\n",
              "      <td>00033637-11</td>\n",
              "      <td>18.0</td>\n",
              "    </tr>\n",
              "    <tr>\n",
              "      <th>197</th>\n",
              "      <td>1</td>\n",
              "      <td>10892164000124</td>\n",
              "      <td>REAL HOSPITAL PORTUGUES BENEFEM PERNAMBUCO</td>\n",
              "      <td>MEDICINA NUCLEAR</td>\n",
              "      <td>CRISTIANA ALTINO DE ALMEIDA</td>\n",
              "      <td>14777</td>\n",
              "      <td>AV GOV AGAMENON MAGALHAES</td>\n",
              "      <td>4760</td>\n",
              "      <td>NaN</td>\n",
              "      <td>PAISSANDU</td>\n",
              "      <td>RECIFE</td>\n",
              "      <td>PE</td>\n",
              "      <td>52010902</td>\n",
              "      <td>0001120</td>\n",
              "      <td>00033637-11</td>\n",
              "      <td>18.0</td>\n",
              "    </tr>\n",
              "    <tr>\n",
              "      <th>196</th>\n",
              "      <td>1</td>\n",
              "      <td>10892164000124</td>\n",
              "      <td>REAL HOSPITAL PORTUGUES BENEFEM PERNAMBUCO</td>\n",
              "      <td>MEDICINA NUCLEAR</td>\n",
              "      <td>CRISTIANA ALTINO DE ALMEIDA</td>\n",
              "      <td>14777</td>\n",
              "      <td>AV GOV AGAMENON MAGALHAES</td>\n",
              "      <td>4760</td>\n",
              "      <td>NaN</td>\n",
              "      <td>PAISSANDU</td>\n",
              "      <td>RECIFE</td>\n",
              "      <td>PE</td>\n",
              "      <td>52010902</td>\n",
              "      <td>0001120</td>\n",
              "      <td>00033637-11</td>\n",
              "      <td>1.0</td>\n",
              "    </tr>\n",
              "    <tr>\n",
              "      <th>...</th>\n",
              "      <td>...</td>\n",
              "      <td>...</td>\n",
              "      <td>...</td>\n",
              "      <td>...</td>\n",
              "      <td>...</td>\n",
              "      <td>...</td>\n",
              "      <td>...</td>\n",
              "      <td>...</td>\n",
              "      <td>...</td>\n",
              "      <td>...</td>\n",
              "      <td>...</td>\n",
              "      <td>...</td>\n",
              "      <td>...</td>\n",
              "      <td>...</td>\n",
              "      <td>...</td>\n",
              "      <td>...</td>\n",
              "    </tr>\n",
              "    <tr>\n",
              "      <th>477</th>\n",
              "      <td>1</td>\n",
              "      <td>28290788000137</td>\n",
              "      <td>ONCO STAR SP ONCOLOGIA LTDA</td>\n",
              "      <td>MEDICINA NUCLEAR</td>\n",
              "      <td>CAMILA MOSCI</td>\n",
              "      <td>16953</td>\n",
              "      <td>RUA DR ALCEU DE CAMPOS RODRIGUES</td>\n",
              "      <td>126</td>\n",
              "      <td>7 ANDAR</td>\n",
              "      <td>VILA NOVA CONCEIÇÃO</td>\n",
              "      <td>SAO PAULO</td>\n",
              "      <td>SP</td>\n",
              "      <td>04544000</td>\n",
              "      <td>9735372</td>\n",
              "      <td>355030890-861-143425-1-0</td>\n",
              "      <td>18.0</td>\n",
              "    </tr>\n",
              "    <tr>\n",
              "      <th>458</th>\n",
              "      <td>1</td>\n",
              "      <td>33205964000478</td>\n",
              "      <td>CLINICA DE MEDICINA NUCLEAR VILLELA PEDRAS LTDA</td>\n",
              "      <td>MEDICINA NUCLEAR</td>\n",
              "      <td>MARCOS VILLELA PEDRAS POLONIA</td>\n",
              "      <td>16923</td>\n",
              "      <td>RUA DOM PEDRO I</td>\n",
              "      <td>166</td>\n",
              "      <td>NaN</td>\n",
              "      <td>CENTRO</td>\n",
              "      <td>PETROPOLIS</td>\n",
              "      <td>RJ</td>\n",
              "      <td>25610020</td>\n",
              "      <td>9761675</td>\n",
              "      <td>013/2019</td>\n",
              "      <td>1.0</td>\n",
              "    </tr>\n",
              "    <tr>\n",
              "      <th>471</th>\n",
              "      <td>1</td>\n",
              "      <td>05135788000329</td>\n",
              "      <td>IMEDIC DIAGNOSTICO POR IMAGEM</td>\n",
              "      <td>MEDICINA NUCLEAR</td>\n",
              "      <td>GERSON LUIS KEMPFER</td>\n",
              "      <td>16979</td>\n",
              "      <td>RUA GETULIO VARGAS</td>\n",
              "      <td>594</td>\n",
              "      <td>SALA 02</td>\n",
              "      <td>CENTRO</td>\n",
              "      <td>JOACABA</td>\n",
              "      <td>SC</td>\n",
              "      <td>89600000</td>\n",
              "      <td>9778802</td>\n",
              "      <td>12132019</td>\n",
              "      <td>1.0</td>\n",
              "    </tr>\n",
              "    <tr>\n",
              "      <th>479</th>\n",
              "      <td>1</td>\n",
              "      <td>32088356000115</td>\n",
              "      <td>INSTITUTO DE SAUDE AVANCADA</td>\n",
              "      <td>MEDICINA NUCLEAR</td>\n",
              "      <td>GIOVANY SILVA PEREIRA</td>\n",
              "      <td>17115</td>\n",
              "      <td>AV VASCONCELOS COSTA</td>\n",
              "      <td>962</td>\n",
              "      <td>SALA 5F</td>\n",
              "      <td>MARTINS</td>\n",
              "      <td>UBERLANDIA</td>\n",
              "      <td>MG</td>\n",
              "      <td>38400325</td>\n",
              "      <td>9889167</td>\n",
              "      <td>1900/1983-00</td>\n",
              "      <td>1.0</td>\n",
              "    </tr>\n",
              "    <tr>\n",
              "      <th>472</th>\n",
              "      <td>1</td>\n",
              "      <td>18309558000119</td>\n",
              "      <td>CEMENBA  CENTRO DE MEDICINA NUCLEAR DE BAGE LT...</td>\n",
              "      <td>MEDICINA NUCLEAR</td>\n",
              "      <td>Luisa Alcalde</td>\n",
              "      <td>16827</td>\n",
              "      <td>Rua Gomes Carneiro</td>\n",
              "      <td>1350</td>\n",
              "      <td>Anexo Santa Casa</td>\n",
              "      <td>Centro</td>\n",
              "      <td>Bage</td>\n",
              "      <td>RS</td>\n",
              "      <td>96400130</td>\n",
              "      <td>9905103</td>\n",
              "      <td>19/2000-0079094-6 VIGILAN</td>\n",
              "      <td>1.0</td>\n",
              "    </tr>\n",
              "  </tbody>\n",
              "</table>\n",
              "<p>508 rows × 16 columns</p>\n",
              "</div>"
            ],
            "text/plain": [
              "     CODIGORESP            CNPJ  \\\n",
              "270           2  10988301000129   \n",
              "269           2  10988301000129   \n",
              "199           2  10892164000124   \n",
              "197           1  10892164000124   \n",
              "196           1  10892164000124   \n",
              "..          ...             ...   \n",
              "477           1  28290788000137   \n",
              "458           1  33205964000478   \n",
              "471           1  05135788000329   \n",
              "479           1  32088356000115   \n",
              "472           1  18309558000119   \n",
              "\n",
              "                                           RAZAOSOCIAL           UNIDADE  \\\n",
              "270  INSTITUTO DE MEDICINA INTEGRAL PROFESSOR FERNA...  MEDICINA NUCLEAR   \n",
              "269  INSTITUTO DE MEDICINA INTEGRAL PROFESSOR FERNA...  MEDICINA NUCLEAR   \n",
              "199         REAL HOSPITAL PORTUGUES BENEFEM PERNAMBUCO   REAL NUCLEAR II   \n",
              "197         REAL HOSPITAL PORTUGUES BENEFEM PERNAMBUCO  MEDICINA NUCLEAR   \n",
              "196         REAL HOSPITAL PORTUGUES BENEFEM PERNAMBUCO  MEDICINA NUCLEAR   \n",
              "..                                                 ...               ...   \n",
              "477                        ONCO STAR SP ONCOLOGIA LTDA  MEDICINA NUCLEAR   \n",
              "458    CLINICA DE MEDICINA NUCLEAR VILLELA PEDRAS LTDA  MEDICINA NUCLEAR   \n",
              "471                      IMEDIC DIAGNOSTICO POR IMAGEM  MEDICINA NUCLEAR   \n",
              "479                        INSTITUTO DE SAUDE AVANCADA  MEDICINA NUCLEAR   \n",
              "472  CEMENBA  CENTRO DE MEDICINA NUCLEAR DE BAGE LT...  MEDICINA NUCLEAR   \n",
              "\n",
              "                       RESPONSAVEL  MATRICULACNEN  \\\n",
              "270          TIEN MAN CABRAL CHANG          15004   \n",
              "269          TIEN MAN CABRAL CHANG          15004   \n",
              "199    PAULO JOSE DE ALMEIDA FILHO          16209   \n",
              "197    CRISTIANA ALTINO DE ALMEIDA          14777   \n",
              "196    CRISTIANA ALTINO DE ALMEIDA          14777   \n",
              "..                             ...            ...   \n",
              "477                   CAMILA MOSCI          16953   \n",
              "458  MARCOS VILLELA PEDRAS POLONIA          16923   \n",
              "471            GERSON LUIS KEMPFER          16979   \n",
              "479          GIOVANY SILVA PEREIRA          17115   \n",
              "472                  Luisa Alcalde          16827   \n",
              "\n",
              "                             ENDERECO NUMERO       COMPLEMENTO  \\\n",
              "270                   RUA DOS COELHOS    300               NaN   \n",
              "269                   RUA DOS COELHOS    300               NaN   \n",
              "199         AV GOV AGAMENON MAGALHAES   4760               NaN   \n",
              "197         AV GOV AGAMENON MAGALHAES   4760               NaN   \n",
              "196         AV GOV AGAMENON MAGALHAES   4760               NaN   \n",
              "..                                ...    ...               ...   \n",
              "477  RUA DR ALCEU DE CAMPOS RODRIGUES    126           7 ANDAR   \n",
              "458                   RUA DOM PEDRO I    166               NaN   \n",
              "471                RUA GETULIO VARGAS    594           SALA 02   \n",
              "479              AV VASCONCELOS COSTA    962           SALA 5F   \n",
              "472                Rua Gomes Carneiro   1350  Anexo Santa Casa   \n",
              "\n",
              "                  BAIRRO   MUNICIPIO  UF       CEP     CNES  \\\n",
              "270            BOA VISTA      RECIFE  PE  50070550  0000434   \n",
              "269            BOA VISTA      RECIFE  PE  50070550  0000434   \n",
              "199            PAISSANDU      RECIFE  PE  52010902  0001120   \n",
              "197            PAISSANDU      RECIFE  PE  52010902  0001120   \n",
              "196            PAISSANDU      RECIFE  PE  52010902  0001120   \n",
              "..                   ...         ...  ..       ...      ...   \n",
              "477  VILA NOVA CONCEIÇÃO   SAO PAULO  SP  04544000  9735372   \n",
              "458               CENTRO  PETROPOLIS  RJ  25610020  9761675   \n",
              "471               CENTRO     JOACABA  SC  89600000  9778802   \n",
              "479              MARTINS  UBERLANDIA  MG  38400325  9889167   \n",
              "472               Centro        Bage  RS  96400130  9905103   \n",
              "\n",
              "                        ALVARA  CODEQUIP_TAB_EQ  \n",
              "270                00029118-84             18.0  \n",
              "269                00029118-84              1.0  \n",
              "199                00033637-11             18.0  \n",
              "197                00033637-11             18.0  \n",
              "196                00033637-11              1.0  \n",
              "..                         ...              ...  \n",
              "477   355030890-861-143425-1-0             18.0  \n",
              "458                   013/2019              1.0  \n",
              "471                   12132019              1.0  \n",
              "479               1900/1983-00              1.0  \n",
              "472  19/2000-0079094-6 VIGILAN              1.0  \n",
              "\n",
              "[508 rows x 16 columns]"
            ]
          },
          "metadata": {
            "tags": []
          },
          "execution_count": 50
        }
      ]
    },
    {
      "cell_type": "code",
      "metadata": {
        "id": "YLIIwNglGKHm"
      },
      "source": [
        "df_resultado_final.to_csv('/drive/My Drive/DS_CNES/df_resultado_final_left.csv')\n"
      ],
      "execution_count": null,
      "outputs": []
    },
    {
      "cell_type": "code",
      "metadata": {
        "colab": {
          "base_uri": "https://localhost:8080/",
          "height": 231
        },
        "id": "o_eI-ZSgJNkg",
        "outputId": "b6971af8-39df-4e63-cc21-5c0deb2639ae"
      },
      "source": [
        "df1 = dataframe_final\n",
        "print(df1.shape)\n",
        "df2 = df_lista_clientes_cnen\n",
        "print(df2.shape)\n",
        "df3 = df_resultado_final\n",
        "print(df3.shape)\n"
      ],
      "execution_count": null,
      "outputs": [
        {
          "output_type": "error",
          "ename": "NameError",
          "evalue": "ignored",
          "traceback": [
            "\u001b[0;31m---------------------------------------------------------------------------\u001b[0m",
            "\u001b[0;31mNameError\u001b[0m                                 Traceback (most recent call last)",
            "\u001b[0;32m<ipython-input-52-7e6021082c75>\u001b[0m in \u001b[0;36m<module>\u001b[0;34m()\u001b[0m\n\u001b[0;32m----> 1\u001b[0;31m \u001b[0mdf1\u001b[0m \u001b[0;34m=\u001b[0m \u001b[0mdataframe_final\u001b[0m\u001b[0;34m\u001b[0m\u001b[0;34m\u001b[0m\u001b[0m\n\u001b[0m\u001b[1;32m      2\u001b[0m \u001b[0mprint\u001b[0m\u001b[0;34m(\u001b[0m\u001b[0mdf1\u001b[0m\u001b[0;34m.\u001b[0m\u001b[0mshape\u001b[0m\u001b[0;34m)\u001b[0m\u001b[0;34m\u001b[0m\u001b[0;34m\u001b[0m\u001b[0m\n\u001b[1;32m      3\u001b[0m \u001b[0mdf2\u001b[0m \u001b[0;34m=\u001b[0m \u001b[0mdf_lista_clientes_cnen\u001b[0m\u001b[0;34m\u001b[0m\u001b[0;34m\u001b[0m\u001b[0m\n\u001b[1;32m      4\u001b[0m \u001b[0mprint\u001b[0m\u001b[0;34m(\u001b[0m\u001b[0mdf2\u001b[0m\u001b[0;34m.\u001b[0m\u001b[0mshape\u001b[0m\u001b[0;34m)\u001b[0m\u001b[0;34m\u001b[0m\u001b[0;34m\u001b[0m\u001b[0m\n\u001b[1;32m      5\u001b[0m \u001b[0mdf3\u001b[0m \u001b[0;34m=\u001b[0m \u001b[0mdf_resultado_final\u001b[0m\u001b[0;34m\u001b[0m\u001b[0;34m\u001b[0m\u001b[0m\n",
            "\u001b[0;31mNameError\u001b[0m: name 'dataframe_final' is not defined"
          ]
        }
      ]
    },
    {
      "cell_type": "code",
      "metadata": {
        "colab": {
          "base_uri": "https://localhost:8080/",
          "height": 949
        },
        "id": "XRxsBvCZU52D",
        "outputId": "b160f04f-72b3-4ca3-8ce1-ab8f42752b6f"
      },
      "source": [
        "df1 = df_lista_clientes_cnen\n",
        "df2 = pd.merge(dataframe_final, df_lista_clientes_cnen, left_on=\"CNPJ\", right_on=\"CNPJ\", how=\"inner\")\n",
        "df_all = df1.merge(df2.drop_duplicates(), on=['CNPJ'], \n",
        "                   how='left', indicator=True)\n",
        "df_all"
      ],
      "execution_count": null,
      "outputs": [
        {
          "output_type": "execute_result",
          "data": {
            "text/html": [
              "<div>\n",
              "<style scoped>\n",
              "    .dataframe tbody tr th:only-of-type {\n",
              "        vertical-align: middle;\n",
              "    }\n",
              "\n",
              "    .dataframe tbody tr th {\n",
              "        vertical-align: top;\n",
              "    }\n",
              "\n",
              "    .dataframe thead th {\n",
              "        text-align: right;\n",
              "    }\n",
              "</style>\n",
              "<table border=\"1\" class=\"dataframe\">\n",
              "  <thead>\n",
              "    <tr style=\"text-align: right;\">\n",
              "      <th></th>\n",
              "      <th>seq</th>\n",
              "      <th>CODIGORESP</th>\n",
              "      <th>CNPJ</th>\n",
              "      <th>RAZAOSOCIAL</th>\n",
              "      <th>UNIDADE</th>\n",
              "      <th>RESPONSAVEL</th>\n",
              "      <th>MATRICULACNEN</th>\n",
              "      <th>ENDERECO</th>\n",
              "      <th>NUMERO</th>\n",
              "      <th>COMPLEMENTO</th>\n",
              "      <th>BAIRRO</th>\n",
              "      <th>MUNICIPIO</th>\n",
              "      <th>UF</th>\n",
              "      <th>CEP</th>\n",
              "      <th>seq_x</th>\n",
              "      <th>CODIGORESP_x</th>\n",
              "      <th>RAZAOSOCIAL_x</th>\n",
              "      <th>UNIDADE_x</th>\n",
              "      <th>RESPONSAVEL_x</th>\n",
              "      <th>MATRICULACNEN_x</th>\n",
              "      <th>ENDERECO_x</th>\n",
              "      <th>NUMERO_x</th>\n",
              "      <th>COMPLEMENTO_x</th>\n",
              "      <th>BAIRRO_x</th>\n",
              "      <th>MUNICIPIO_x</th>\n",
              "      <th>UF_x</th>\n",
              "      <th>CEP_x</th>\n",
              "      <th>CNES</th>\n",
              "      <th>ALVARA</th>\n",
              "      <th>CODEQUIP</th>\n",
              "      <th>seq_y</th>\n",
              "      <th>CODIGORESP_y</th>\n",
              "      <th>RAZAOSOCIAL_y</th>\n",
              "      <th>UNIDADE_y</th>\n",
              "      <th>RESPONSAVEL_y</th>\n",
              "      <th>MATRICULACNEN_y</th>\n",
              "      <th>ENDERECO_y</th>\n",
              "      <th>NUMERO_y</th>\n",
              "      <th>COMPLEMENTO_y</th>\n",
              "      <th>BAIRRO_y</th>\n",
              "      <th>MUNICIPIO_y</th>\n",
              "      <th>UF_y</th>\n",
              "      <th>CEP_y</th>\n",
              "      <th>_merge</th>\n",
              "    </tr>\n",
              "  </thead>\n",
              "  <tbody>\n",
              "    <tr>\n",
              "      <th>0</th>\n",
              "      <td>0</td>\n",
              "      <td>1</td>\n",
              "      <td>21554423000123</td>\n",
              "      <td>INSTITUTO ONCOLOGICO LTDA  JUIZ DE FORAMG</td>\n",
              "      <td>MEDICINA NUCLEAR</td>\n",
              "      <td>GUSTAVO SFFEIR C DE MAGALHAES</td>\n",
              "      <td>16404</td>\n",
              "      <td>RUA SANTOS DUMONT</td>\n",
              "      <td>56</td>\n",
              "      <td>NaN</td>\n",
              "      <td>GRANBERY</td>\n",
              "      <td>JUIZ DE FORA</td>\n",
              "      <td>MG</td>\n",
              "      <td>36010510</td>\n",
              "      <td>0.0</td>\n",
              "      <td>1.0</td>\n",
              "      <td>INSTITUTO ONCOLOGICO LTDA  JUIZ DE FORAMG</td>\n",
              "      <td>MEDICINA NUCLEAR</td>\n",
              "      <td>GUSTAVO SFFEIR C DE MAGALHAES</td>\n",
              "      <td>16404.0</td>\n",
              "      <td>RUA SANTOS DUMONT</td>\n",
              "      <td>56</td>\n",
              "      <td>NaN</td>\n",
              "      <td>GRANBERY</td>\n",
              "      <td>JUIZ DE FORA</td>\n",
              "      <td>MG</td>\n",
              "      <td>36010510</td>\n",
              "      <td>2153106</td>\n",
              "      <td>398/2005</td>\n",
              "      <td>1.0</td>\n",
              "      <td>0.0</td>\n",
              "      <td>1.0</td>\n",
              "      <td>INSTITUTO ONCOLOGICO LTDA  JUIZ DE FORAMG</td>\n",
              "      <td>MEDICINA NUCLEAR</td>\n",
              "      <td>GUSTAVO SFFEIR C DE MAGALHAES</td>\n",
              "      <td>16404.0</td>\n",
              "      <td>RUA SANTOS DUMONT</td>\n",
              "      <td>56</td>\n",
              "      <td>NaN</td>\n",
              "      <td>GRANBERY</td>\n",
              "      <td>JUIZ DE FORA</td>\n",
              "      <td>MG</td>\n",
              "      <td>36010510</td>\n",
              "      <td>both</td>\n",
              "    </tr>\n",
              "    <tr>\n",
              "      <th>1</th>\n",
              "      <td>0</td>\n",
              "      <td>1</td>\n",
              "      <td>33205964000125</td>\n",
              "      <td>CLINICA DE MEDICINA NUCL VILLELA PEDRAS LTDA</td>\n",
              "      <td>MED NUCLEAR</td>\n",
              "      <td>IVAN DE SA VILELA PEDRAS</td>\n",
              "      <td>11595</td>\n",
              "      <td>RUA MEXICO</td>\n",
              "      <td>98</td>\n",
              "      <td>3 E 4 ANDAR</td>\n",
              "      <td>CENTRO</td>\n",
              "      <td>RIO DE JANEIRO</td>\n",
              "      <td>RJ</td>\n",
              "      <td>20031141</td>\n",
              "      <td>0.0</td>\n",
              "      <td>1.0</td>\n",
              "      <td>CLINICA DE MEDICINA NUCL VILLELA PEDRAS LTDA</td>\n",
              "      <td>MED NUCLEAR</td>\n",
              "      <td>IVAN DE SA VILELA PEDRAS</td>\n",
              "      <td>11595.0</td>\n",
              "      <td>RUA MEXICO</td>\n",
              "      <td>98</td>\n",
              "      <td>3 E 4 ANDAR</td>\n",
              "      <td>CENTRO</td>\n",
              "      <td>RIO DE JANEIRO</td>\n",
              "      <td>RJ</td>\n",
              "      <td>20031141</td>\n",
              "      <td>3178447</td>\n",
              "      <td>09/97/027417/2019</td>\n",
              "      <td>18.0</td>\n",
              "      <td>0.0</td>\n",
              "      <td>1.0</td>\n",
              "      <td>CLINICA DE MEDICINA NUCL VILLELA PEDRAS LTDA</td>\n",
              "      <td>MED NUCLEAR</td>\n",
              "      <td>IVAN DE SA VILELA PEDRAS</td>\n",
              "      <td>11595.0</td>\n",
              "      <td>RUA MEXICO</td>\n",
              "      <td>98</td>\n",
              "      <td>3 E 4 ANDAR</td>\n",
              "      <td>CENTRO</td>\n",
              "      <td>RIO DE JANEIRO</td>\n",
              "      <td>RJ</td>\n",
              "      <td>20031141</td>\n",
              "      <td>both</td>\n",
              "    </tr>\n",
              "    <tr>\n",
              "      <th>2</th>\n",
              "      <td>0</td>\n",
              "      <td>1</td>\n",
              "      <td>33205964000125</td>\n",
              "      <td>CLINICA DE MEDICINA NUCL VILLELA PEDRAS LTDA</td>\n",
              "      <td>MED NUCLEAR</td>\n",
              "      <td>IVAN DE SA VILELA PEDRAS</td>\n",
              "      <td>11595</td>\n",
              "      <td>RUA MEXICO</td>\n",
              "      <td>98</td>\n",
              "      <td>3 E 4 ANDAR</td>\n",
              "      <td>CENTRO</td>\n",
              "      <td>RIO DE JANEIRO</td>\n",
              "      <td>RJ</td>\n",
              "      <td>20031141</td>\n",
              "      <td>0.0</td>\n",
              "      <td>1.0</td>\n",
              "      <td>CLINICA DE MEDICINA NUCL VILLELA PEDRAS LTDA</td>\n",
              "      <td>MED NUCLEAR</td>\n",
              "      <td>IVAN DE SA VILELA PEDRAS</td>\n",
              "      <td>11595.0</td>\n",
              "      <td>RUA MEXICO</td>\n",
              "      <td>98</td>\n",
              "      <td>3 E 4 ANDAR</td>\n",
              "      <td>CENTRO</td>\n",
              "      <td>RIO DE JANEIRO</td>\n",
              "      <td>RJ</td>\n",
              "      <td>20031141</td>\n",
              "      <td>3178447</td>\n",
              "      <td>050.444/2020</td>\n",
              "      <td>18.0</td>\n",
              "      <td>0.0</td>\n",
              "      <td>1.0</td>\n",
              "      <td>CLINICA DE MEDICINA NUCL VILLELA PEDRAS LTDA</td>\n",
              "      <td>MED NUCLEAR</td>\n",
              "      <td>IVAN DE SA VILELA PEDRAS</td>\n",
              "      <td>11595.0</td>\n",
              "      <td>RUA MEXICO</td>\n",
              "      <td>98</td>\n",
              "      <td>3 E 4 ANDAR</td>\n",
              "      <td>CENTRO</td>\n",
              "      <td>RIO DE JANEIRO</td>\n",
              "      <td>RJ</td>\n",
              "      <td>20031141</td>\n",
              "      <td>both</td>\n",
              "    </tr>\n",
              "    <tr>\n",
              "      <th>3</th>\n",
              "      <td>0</td>\n",
              "      <td>1</td>\n",
              "      <td>33205964000125</td>\n",
              "      <td>CLINICA DE MEDICINA NUCL VILLELA PEDRAS LTDA</td>\n",
              "      <td>MED NUCLEAR</td>\n",
              "      <td>IVAN DE SA VILELA PEDRAS</td>\n",
              "      <td>11595</td>\n",
              "      <td>RUA MEXICO</td>\n",
              "      <td>98</td>\n",
              "      <td>3 E 4 ANDAR</td>\n",
              "      <td>CENTRO</td>\n",
              "      <td>RIO DE JANEIRO</td>\n",
              "      <td>RJ</td>\n",
              "      <td>20031141</td>\n",
              "      <td>0.0</td>\n",
              "      <td>1.0</td>\n",
              "      <td>CLINICA DE MEDICINA NUCL VILLELA PEDRAS LTDA</td>\n",
              "      <td>MED NUCLEAR</td>\n",
              "      <td>IVAN DE SA VILELA PEDRAS</td>\n",
              "      <td>11595.0</td>\n",
              "      <td>RUA MEXICO</td>\n",
              "      <td>98</td>\n",
              "      <td>3 E 4 ANDAR</td>\n",
              "      <td>CENTRO</td>\n",
              "      <td>RIO DE JANEIRO</td>\n",
              "      <td>RJ</td>\n",
              "      <td>20031141</td>\n",
              "      <td>3178447</td>\n",
              "      <td>09/97/027417/2019</td>\n",
              "      <td>1.0</td>\n",
              "      <td>0.0</td>\n",
              "      <td>1.0</td>\n",
              "      <td>CLINICA DE MEDICINA NUCL VILLELA PEDRAS LTDA</td>\n",
              "      <td>MED NUCLEAR</td>\n",
              "      <td>IVAN DE SA VILELA PEDRAS</td>\n",
              "      <td>11595.0</td>\n",
              "      <td>RUA MEXICO</td>\n",
              "      <td>98</td>\n",
              "      <td>3 E 4 ANDAR</td>\n",
              "      <td>CENTRO</td>\n",
              "      <td>RIO DE JANEIRO</td>\n",
              "      <td>RJ</td>\n",
              "      <td>20031141</td>\n",
              "      <td>both</td>\n",
              "    </tr>\n",
              "    <tr>\n",
              "      <th>4</th>\n",
              "      <td>0</td>\n",
              "      <td>1</td>\n",
              "      <td>33205964000125</td>\n",
              "      <td>CLINICA DE MEDICINA NUCL VILLELA PEDRAS LTDA</td>\n",
              "      <td>MED NUCLEAR</td>\n",
              "      <td>IVAN DE SA VILELA PEDRAS</td>\n",
              "      <td>11595</td>\n",
              "      <td>RUA MEXICO</td>\n",
              "      <td>98</td>\n",
              "      <td>3 E 4 ANDAR</td>\n",
              "      <td>CENTRO</td>\n",
              "      <td>RIO DE JANEIRO</td>\n",
              "      <td>RJ</td>\n",
              "      <td>20031141</td>\n",
              "      <td>0.0</td>\n",
              "      <td>1.0</td>\n",
              "      <td>CLINICA DE MEDICINA NUCL VILLELA PEDRAS LTDA</td>\n",
              "      <td>MED NUCLEAR</td>\n",
              "      <td>IVAN DE SA VILELA PEDRAS</td>\n",
              "      <td>11595.0</td>\n",
              "      <td>RUA MEXICO</td>\n",
              "      <td>98</td>\n",
              "      <td>3 E 4 ANDAR</td>\n",
              "      <td>CENTRO</td>\n",
              "      <td>RIO DE JANEIRO</td>\n",
              "      <td>RJ</td>\n",
              "      <td>20031141</td>\n",
              "      <td>3178447</td>\n",
              "      <td>050.444/2020</td>\n",
              "      <td>1.0</td>\n",
              "      <td>0.0</td>\n",
              "      <td>1.0</td>\n",
              "      <td>CLINICA DE MEDICINA NUCL VILLELA PEDRAS LTDA</td>\n",
              "      <td>MED NUCLEAR</td>\n",
              "      <td>IVAN DE SA VILELA PEDRAS</td>\n",
              "      <td>11595.0</td>\n",
              "      <td>RUA MEXICO</td>\n",
              "      <td>98</td>\n",
              "      <td>3 E 4 ANDAR</td>\n",
              "      <td>CENTRO</td>\n",
              "      <td>RIO DE JANEIRO</td>\n",
              "      <td>RJ</td>\n",
              "      <td>20031141</td>\n",
              "      <td>both</td>\n",
              "    </tr>\n",
              "    <tr>\n",
              "      <th>...</th>\n",
              "      <td>...</td>\n",
              "      <td>...</td>\n",
              "      <td>...</td>\n",
              "      <td>...</td>\n",
              "      <td>...</td>\n",
              "      <td>...</td>\n",
              "      <td>...</td>\n",
              "      <td>...</td>\n",
              "      <td>...</td>\n",
              "      <td>...</td>\n",
              "      <td>...</td>\n",
              "      <td>...</td>\n",
              "      <td>...</td>\n",
              "      <td>...</td>\n",
              "      <td>...</td>\n",
              "      <td>...</td>\n",
              "      <td>...</td>\n",
              "      <td>...</td>\n",
              "      <td>...</td>\n",
              "      <td>...</td>\n",
              "      <td>...</td>\n",
              "      <td>...</td>\n",
              "      <td>...</td>\n",
              "      <td>...</td>\n",
              "      <td>...</td>\n",
              "      <td>...</td>\n",
              "      <td>...</td>\n",
              "      <td>...</td>\n",
              "      <td>...</td>\n",
              "      <td>...</td>\n",
              "      <td>...</td>\n",
              "      <td>...</td>\n",
              "      <td>...</td>\n",
              "      <td>...</td>\n",
              "      <td>...</td>\n",
              "      <td>...</td>\n",
              "      <td>...</td>\n",
              "      <td>...</td>\n",
              "      <td>...</td>\n",
              "      <td>...</td>\n",
              "      <td>...</td>\n",
              "      <td>...</td>\n",
              "      <td>...</td>\n",
              "      <td>...</td>\n",
              "    </tr>\n",
              "    <tr>\n",
              "      <th>562</th>\n",
              "      <td>0</td>\n",
              "      <td>1</td>\n",
              "      <td>15126437001549</td>\n",
              "      <td>EMPRESA BRASILEIRA DE SERVICOS HOSPITALARES  E...</td>\n",
              "      <td>MEDICINA NUCLEAR</td>\n",
              "      <td>Viviane S Parisotto Marino</td>\n",
              "      <td>14304</td>\n",
              "      <td>AVENIDA ALFREDO BALENA</td>\n",
              "      <td>110</td>\n",
              "      <td>NaN</td>\n",
              "      <td>SANTA  EFIGENIA</td>\n",
              "      <td>BELO HORIZONTE</td>\n",
              "      <td>MG</td>\n",
              "      <td>30130100</td>\n",
              "      <td>0.0</td>\n",
              "      <td>1.0</td>\n",
              "      <td>EMPRESA BRASILEIRA DE SERVICOS HOSPITALARES  E...</td>\n",
              "      <td>MEDICINA NUCLEAR</td>\n",
              "      <td>Viviane S Parisotto Marino</td>\n",
              "      <td>14304.0</td>\n",
              "      <td>AVENIDA ALFREDO BALENA</td>\n",
              "      <td>110</td>\n",
              "      <td>NaN</td>\n",
              "      <td>SANTA  EFIGENIA</td>\n",
              "      <td>BELO HORIZONTE</td>\n",
              "      <td>MG</td>\n",
              "      <td>30130100</td>\n",
              "      <td>0027049</td>\n",
              "      <td>0108706 9930</td>\n",
              "      <td>1.0</td>\n",
              "      <td>0.0</td>\n",
              "      <td>1.0</td>\n",
              "      <td>EMPRESA BRASILEIRA DE SERVICOS HOSPITALARES  E...</td>\n",
              "      <td>MEDICINA NUCLEAR</td>\n",
              "      <td>Viviane S Parisotto Marino</td>\n",
              "      <td>14304.0</td>\n",
              "      <td>AVENIDA ALFREDO BALENA</td>\n",
              "      <td>110</td>\n",
              "      <td>NaN</td>\n",
              "      <td>SANTA  EFIGENIA</td>\n",
              "      <td>BELO HORIZONTE</td>\n",
              "      <td>MG</td>\n",
              "      <td>30130100</td>\n",
              "      <td>both</td>\n",
              "    </tr>\n",
              "    <tr>\n",
              "      <th>563</th>\n",
              "      <td>0</td>\n",
              "      <td>1</td>\n",
              "      <td>09609235000230</td>\n",
              "      <td>HOSPITAL CENTRAL DO EXERCITO</td>\n",
              "      <td>MEDICINA NUCLEAR</td>\n",
              "      <td>AFONSO EDUARDO M MUZITANO</td>\n",
              "      <td>16239</td>\n",
              "      <td>RUA FRANCISCO MANUEL</td>\n",
              "      <td>126</td>\n",
              "      <td>NaN</td>\n",
              "      <td>BEFICA</td>\n",
              "      <td>RIO DE JANEIRO</td>\n",
              "      <td>RJ</td>\n",
              "      <td>20911270</td>\n",
              "      <td>NaN</td>\n",
              "      <td>NaN</td>\n",
              "      <td>NaN</td>\n",
              "      <td>NaN</td>\n",
              "      <td>NaN</td>\n",
              "      <td>NaN</td>\n",
              "      <td>NaN</td>\n",
              "      <td>NaN</td>\n",
              "      <td>NaN</td>\n",
              "      <td>NaN</td>\n",
              "      <td>NaN</td>\n",
              "      <td>NaN</td>\n",
              "      <td>NaN</td>\n",
              "      <td>NaN</td>\n",
              "      <td>NaN</td>\n",
              "      <td>NaN</td>\n",
              "      <td>NaN</td>\n",
              "      <td>NaN</td>\n",
              "      <td>NaN</td>\n",
              "      <td>NaN</td>\n",
              "      <td>NaN</td>\n",
              "      <td>NaN</td>\n",
              "      <td>NaN</td>\n",
              "      <td>NaN</td>\n",
              "      <td>NaN</td>\n",
              "      <td>NaN</td>\n",
              "      <td>NaN</td>\n",
              "      <td>NaN</td>\n",
              "      <td>NaN</td>\n",
              "      <td>left_only</td>\n",
              "    </tr>\n",
              "    <tr>\n",
              "      <th>564</th>\n",
              "      <td>0</td>\n",
              "      <td>1</td>\n",
              "      <td>15126437002006</td>\n",
              "      <td>EBSERH HUPAAUFAL</td>\n",
              "      <td>MEDICINA NUCLEAR</td>\n",
              "      <td>ANDRE GUSTAVO SILVA PINO</td>\n",
              "      <td>17420</td>\n",
              "      <td>AV LOURIVAL MELO MOTA</td>\n",
              "      <td>S/N</td>\n",
              "      <td>NaN</td>\n",
              "      <td>TABULEIRO DOS MARTINS</td>\n",
              "      <td>MACEIO</td>\n",
              "      <td>AL</td>\n",
              "      <td>57072900</td>\n",
              "      <td>NaN</td>\n",
              "      <td>NaN</td>\n",
              "      <td>NaN</td>\n",
              "      <td>NaN</td>\n",
              "      <td>NaN</td>\n",
              "      <td>NaN</td>\n",
              "      <td>NaN</td>\n",
              "      <td>NaN</td>\n",
              "      <td>NaN</td>\n",
              "      <td>NaN</td>\n",
              "      <td>NaN</td>\n",
              "      <td>NaN</td>\n",
              "      <td>NaN</td>\n",
              "      <td>NaN</td>\n",
              "      <td>NaN</td>\n",
              "      <td>NaN</td>\n",
              "      <td>NaN</td>\n",
              "      <td>NaN</td>\n",
              "      <td>NaN</td>\n",
              "      <td>NaN</td>\n",
              "      <td>NaN</td>\n",
              "      <td>NaN</td>\n",
              "      <td>NaN</td>\n",
              "      <td>NaN</td>\n",
              "      <td>NaN</td>\n",
              "      <td>NaN</td>\n",
              "      <td>NaN</td>\n",
              "      <td>NaN</td>\n",
              "      <td>NaN</td>\n",
              "      <td>left_only</td>\n",
              "    </tr>\n",
              "    <tr>\n",
              "      <th>565</th>\n",
              "      <td>0</td>\n",
              "      <td>1</td>\n",
              "      <td>15126437003673</td>\n",
              "      <td>EBSERH  HOSPITAL UNIVERSITARIO ANTONIO PEDRO</td>\n",
              "      <td>MEDICINA NUCLEAR</td>\n",
              "      <td>RAQUEL DE PAULA MENDES OLIVEIR</td>\n",
              "      <td>17296</td>\n",
              "      <td>RUA MARQUES DO PARANA</td>\n",
              "      <td>303</td>\n",
              "      <td>2º andar</td>\n",
              "      <td>NITERÓI</td>\n",
              "      <td>RIO DE JANEIRO</td>\n",
              "      <td>RJ</td>\n",
              "      <td>24030215</td>\n",
              "      <td>NaN</td>\n",
              "      <td>NaN</td>\n",
              "      <td>NaN</td>\n",
              "      <td>NaN</td>\n",
              "      <td>NaN</td>\n",
              "      <td>NaN</td>\n",
              "      <td>NaN</td>\n",
              "      <td>NaN</td>\n",
              "      <td>NaN</td>\n",
              "      <td>NaN</td>\n",
              "      <td>NaN</td>\n",
              "      <td>NaN</td>\n",
              "      <td>NaN</td>\n",
              "      <td>NaN</td>\n",
              "      <td>NaN</td>\n",
              "      <td>NaN</td>\n",
              "      <td>NaN</td>\n",
              "      <td>NaN</td>\n",
              "      <td>NaN</td>\n",
              "      <td>NaN</td>\n",
              "      <td>NaN</td>\n",
              "      <td>NaN</td>\n",
              "      <td>NaN</td>\n",
              "      <td>NaN</td>\n",
              "      <td>NaN</td>\n",
              "      <td>NaN</td>\n",
              "      <td>NaN</td>\n",
              "      <td>NaN</td>\n",
              "      <td>NaN</td>\n",
              "      <td>left_only</td>\n",
              "    </tr>\n",
              "    <tr>\n",
              "      <th>566</th>\n",
              "      <td>0</td>\n",
              "      <td>1</td>\n",
              "      <td>15180714000520</td>\n",
              "      <td>COMPLEXO HOSPITALAR DE SAUDE  UFBA</td>\n",
              "      <td>MEDICINA NUCLEAR</td>\n",
              "      <td>CARLOS FREDERICO VIEIRA PEPE</td>\n",
              "      <td>15954</td>\n",
              "      <td>RUA SALDANHA MARINHO</td>\n",
              "      <td>S/N</td>\n",
              "      <td>NaN</td>\n",
              "      <td>CAIXA D'ÁGUA</td>\n",
              "      <td>SALVADOR</td>\n",
              "      <td>BA</td>\n",
              "      <td>40323010</td>\n",
              "      <td>NaN</td>\n",
              "      <td>NaN</td>\n",
              "      <td>NaN</td>\n",
              "      <td>NaN</td>\n",
              "      <td>NaN</td>\n",
              "      <td>NaN</td>\n",
              "      <td>NaN</td>\n",
              "      <td>NaN</td>\n",
              "      <td>NaN</td>\n",
              "      <td>NaN</td>\n",
              "      <td>NaN</td>\n",
              "      <td>NaN</td>\n",
              "      <td>NaN</td>\n",
              "      <td>NaN</td>\n",
              "      <td>NaN</td>\n",
              "      <td>NaN</td>\n",
              "      <td>NaN</td>\n",
              "      <td>NaN</td>\n",
              "      <td>NaN</td>\n",
              "      <td>NaN</td>\n",
              "      <td>NaN</td>\n",
              "      <td>NaN</td>\n",
              "      <td>NaN</td>\n",
              "      <td>NaN</td>\n",
              "      <td>NaN</td>\n",
              "      <td>NaN</td>\n",
              "      <td>NaN</td>\n",
              "      <td>NaN</td>\n",
              "      <td>NaN</td>\n",
              "      <td>left_only</td>\n",
              "    </tr>\n",
              "  </tbody>\n",
              "</table>\n",
              "<p>567 rows × 44 columns</p>\n",
              "</div>"
            ],
            "text/plain": [
              "     seq  CODIGORESP            CNPJ  \\\n",
              "0      0           1  21554423000123   \n",
              "1      0           1  33205964000125   \n",
              "2      0           1  33205964000125   \n",
              "3      0           1  33205964000125   \n",
              "4      0           1  33205964000125   \n",
              "..   ...         ...             ...   \n",
              "562    0           1  15126437001549   \n",
              "563    0           1  09609235000230   \n",
              "564    0           1  15126437002006   \n",
              "565    0           1  15126437003673   \n",
              "566    0           1  15180714000520   \n",
              "\n",
              "                                           RAZAOSOCIAL           UNIDADE  \\\n",
              "0            INSTITUTO ONCOLOGICO LTDA  JUIZ DE FORAMG  MEDICINA NUCLEAR   \n",
              "1         CLINICA DE MEDICINA NUCL VILLELA PEDRAS LTDA       MED NUCLEAR   \n",
              "2         CLINICA DE MEDICINA NUCL VILLELA PEDRAS LTDA       MED NUCLEAR   \n",
              "3         CLINICA DE MEDICINA NUCL VILLELA PEDRAS LTDA       MED NUCLEAR   \n",
              "4         CLINICA DE MEDICINA NUCL VILLELA PEDRAS LTDA       MED NUCLEAR   \n",
              "..                                                 ...               ...   \n",
              "562  EMPRESA BRASILEIRA DE SERVICOS HOSPITALARES  E...  MEDICINA NUCLEAR   \n",
              "563                       HOSPITAL CENTRAL DO EXERCITO  MEDICINA NUCLEAR   \n",
              "564                                   EBSERH HUPAAUFAL  MEDICINA NUCLEAR   \n",
              "565       EBSERH  HOSPITAL UNIVERSITARIO ANTONIO PEDRO  MEDICINA NUCLEAR   \n",
              "566                 COMPLEXO HOSPITALAR DE SAUDE  UFBA  MEDICINA NUCLEAR   \n",
              "\n",
              "                        RESPONSAVEL  MATRICULACNEN                ENDERECO  \\\n",
              "0     GUSTAVO SFFEIR C DE MAGALHAES          16404       RUA SANTOS DUMONT   \n",
              "1          IVAN DE SA VILELA PEDRAS          11595              RUA MEXICO   \n",
              "2          IVAN DE SA VILELA PEDRAS          11595              RUA MEXICO   \n",
              "3          IVAN DE SA VILELA PEDRAS          11595              RUA MEXICO   \n",
              "4          IVAN DE SA VILELA PEDRAS          11595              RUA MEXICO   \n",
              "..                              ...            ...                     ...   \n",
              "562      Viviane S Parisotto Marino          14304  AVENIDA ALFREDO BALENA   \n",
              "563       AFONSO EDUARDO M MUZITANO          16239    RUA FRANCISCO MANUEL   \n",
              "564        ANDRE GUSTAVO SILVA PINO          17420   AV LOURIVAL MELO MOTA   \n",
              "565  RAQUEL DE PAULA MENDES OLIVEIR          17296   RUA MARQUES DO PARANA   \n",
              "566    CARLOS FREDERICO VIEIRA PEPE          15954    RUA SALDANHA MARINHO   \n",
              "\n",
              "    NUMERO  COMPLEMENTO                 BAIRRO       MUNICIPIO  UF       CEP  \\\n",
              "0       56          NaN               GRANBERY    JUIZ DE FORA  MG  36010510   \n",
              "1       98  3 E 4 ANDAR                 CENTRO  RIO DE JANEIRO  RJ  20031141   \n",
              "2       98  3 E 4 ANDAR                 CENTRO  RIO DE JANEIRO  RJ  20031141   \n",
              "3       98  3 E 4 ANDAR                 CENTRO  RIO DE JANEIRO  RJ  20031141   \n",
              "4       98  3 E 4 ANDAR                 CENTRO  RIO DE JANEIRO  RJ  20031141   \n",
              "..     ...          ...                    ...             ...  ..       ...   \n",
              "562    110          NaN        SANTA  EFIGENIA  BELO HORIZONTE  MG  30130100   \n",
              "563    126          NaN                 BEFICA  RIO DE JANEIRO  RJ  20911270   \n",
              "564    S/N          NaN  TABULEIRO DOS MARTINS          MACEIO  AL  57072900   \n",
              "565    303     2º andar                NITERÓI  RIO DE JANEIRO  RJ  24030215   \n",
              "566    S/N          NaN           CAIXA D'ÁGUA        SALVADOR  BA  40323010   \n",
              "\n",
              "     seq_x  CODIGORESP_x                                      RAZAOSOCIAL_x  \\\n",
              "0      0.0           1.0          INSTITUTO ONCOLOGICO LTDA  JUIZ DE FORAMG   \n",
              "1      0.0           1.0       CLINICA DE MEDICINA NUCL VILLELA PEDRAS LTDA   \n",
              "2      0.0           1.0       CLINICA DE MEDICINA NUCL VILLELA PEDRAS LTDA   \n",
              "3      0.0           1.0       CLINICA DE MEDICINA NUCL VILLELA PEDRAS LTDA   \n",
              "4      0.0           1.0       CLINICA DE MEDICINA NUCL VILLELA PEDRAS LTDA   \n",
              "..     ...           ...                                                ...   \n",
              "562    0.0           1.0  EMPRESA BRASILEIRA DE SERVICOS HOSPITALARES  E...   \n",
              "563    NaN           NaN                                                NaN   \n",
              "564    NaN           NaN                                                NaN   \n",
              "565    NaN           NaN                                                NaN   \n",
              "566    NaN           NaN                                                NaN   \n",
              "\n",
              "            UNIDADE_x                  RESPONSAVEL_x  MATRICULACNEN_x  \\\n",
              "0    MEDICINA NUCLEAR  GUSTAVO SFFEIR C DE MAGALHAES          16404.0   \n",
              "1         MED NUCLEAR       IVAN DE SA VILELA PEDRAS          11595.0   \n",
              "2         MED NUCLEAR       IVAN DE SA VILELA PEDRAS          11595.0   \n",
              "3         MED NUCLEAR       IVAN DE SA VILELA PEDRAS          11595.0   \n",
              "4         MED NUCLEAR       IVAN DE SA VILELA PEDRAS          11595.0   \n",
              "..                ...                            ...              ...   \n",
              "562  MEDICINA NUCLEAR     Viviane S Parisotto Marino          14304.0   \n",
              "563               NaN                            NaN              NaN   \n",
              "564               NaN                            NaN              NaN   \n",
              "565               NaN                            NaN              NaN   \n",
              "566               NaN                            NaN              NaN   \n",
              "\n",
              "                 ENDERECO_x NUMERO_x COMPLEMENTO_x         BAIRRO_x  \\\n",
              "0         RUA SANTOS DUMONT       56           NaN         GRANBERY   \n",
              "1                RUA MEXICO       98   3 E 4 ANDAR           CENTRO   \n",
              "2                RUA MEXICO       98   3 E 4 ANDAR           CENTRO   \n",
              "3                RUA MEXICO       98   3 E 4 ANDAR           CENTRO   \n",
              "4                RUA MEXICO       98   3 E 4 ANDAR           CENTRO   \n",
              "..                      ...      ...           ...              ...   \n",
              "562  AVENIDA ALFREDO BALENA      110           NaN  SANTA  EFIGENIA   \n",
              "563                     NaN      NaN           NaN              NaN   \n",
              "564                     NaN      NaN           NaN              NaN   \n",
              "565                     NaN      NaN           NaN              NaN   \n",
              "566                     NaN      NaN           NaN              NaN   \n",
              "\n",
              "        MUNICIPIO_x UF_x     CEP_x     CNES             ALVARA  CODEQUIP  \\\n",
              "0      JUIZ DE FORA   MG  36010510  2153106           398/2005       1.0   \n",
              "1    RIO DE JANEIRO   RJ  20031141  3178447  09/97/027417/2019      18.0   \n",
              "2    RIO DE JANEIRO   RJ  20031141  3178447       050.444/2020      18.0   \n",
              "3    RIO DE JANEIRO   RJ  20031141  3178447  09/97/027417/2019       1.0   \n",
              "4    RIO DE JANEIRO   RJ  20031141  3178447       050.444/2020       1.0   \n",
              "..              ...  ...       ...      ...                ...       ...   \n",
              "562  BELO HORIZONTE   MG  30130100  0027049       0108706 9930       1.0   \n",
              "563             NaN  NaN       NaN      NaN                NaN       NaN   \n",
              "564             NaN  NaN       NaN      NaN                NaN       NaN   \n",
              "565             NaN  NaN       NaN      NaN                NaN       NaN   \n",
              "566             NaN  NaN       NaN      NaN                NaN       NaN   \n",
              "\n",
              "     seq_y  CODIGORESP_y                                      RAZAOSOCIAL_y  \\\n",
              "0      0.0           1.0          INSTITUTO ONCOLOGICO LTDA  JUIZ DE FORAMG   \n",
              "1      0.0           1.0       CLINICA DE MEDICINA NUCL VILLELA PEDRAS LTDA   \n",
              "2      0.0           1.0       CLINICA DE MEDICINA NUCL VILLELA PEDRAS LTDA   \n",
              "3      0.0           1.0       CLINICA DE MEDICINA NUCL VILLELA PEDRAS LTDA   \n",
              "4      0.0           1.0       CLINICA DE MEDICINA NUCL VILLELA PEDRAS LTDA   \n",
              "..     ...           ...                                                ...   \n",
              "562    0.0           1.0  EMPRESA BRASILEIRA DE SERVICOS HOSPITALARES  E...   \n",
              "563    NaN           NaN                                                NaN   \n",
              "564    NaN           NaN                                                NaN   \n",
              "565    NaN           NaN                                                NaN   \n",
              "566    NaN           NaN                                                NaN   \n",
              "\n",
              "            UNIDADE_y                  RESPONSAVEL_y  MATRICULACNEN_y  \\\n",
              "0    MEDICINA NUCLEAR  GUSTAVO SFFEIR C DE MAGALHAES          16404.0   \n",
              "1         MED NUCLEAR       IVAN DE SA VILELA PEDRAS          11595.0   \n",
              "2         MED NUCLEAR       IVAN DE SA VILELA PEDRAS          11595.0   \n",
              "3         MED NUCLEAR       IVAN DE SA VILELA PEDRAS          11595.0   \n",
              "4         MED NUCLEAR       IVAN DE SA VILELA PEDRAS          11595.0   \n",
              "..                ...                            ...              ...   \n",
              "562  MEDICINA NUCLEAR     Viviane S Parisotto Marino          14304.0   \n",
              "563               NaN                            NaN              NaN   \n",
              "564               NaN                            NaN              NaN   \n",
              "565               NaN                            NaN              NaN   \n",
              "566               NaN                            NaN              NaN   \n",
              "\n",
              "                 ENDERECO_y NUMERO_y COMPLEMENTO_y         BAIRRO_y  \\\n",
              "0         RUA SANTOS DUMONT       56           NaN         GRANBERY   \n",
              "1                RUA MEXICO       98   3 E 4 ANDAR           CENTRO   \n",
              "2                RUA MEXICO       98   3 E 4 ANDAR           CENTRO   \n",
              "3                RUA MEXICO       98   3 E 4 ANDAR           CENTRO   \n",
              "4                RUA MEXICO       98   3 E 4 ANDAR           CENTRO   \n",
              "..                      ...      ...           ...              ...   \n",
              "562  AVENIDA ALFREDO BALENA      110           NaN  SANTA  EFIGENIA   \n",
              "563                     NaN      NaN           NaN              NaN   \n",
              "564                     NaN      NaN           NaN              NaN   \n",
              "565                     NaN      NaN           NaN              NaN   \n",
              "566                     NaN      NaN           NaN              NaN   \n",
              "\n",
              "        MUNICIPIO_y UF_y     CEP_y     _merge  \n",
              "0      JUIZ DE FORA   MG  36010510       both  \n",
              "1    RIO DE JANEIRO   RJ  20031141       both  \n",
              "2    RIO DE JANEIRO   RJ  20031141       both  \n",
              "3    RIO DE JANEIRO   RJ  20031141       both  \n",
              "4    RIO DE JANEIRO   RJ  20031141       both  \n",
              "..              ...  ...       ...        ...  \n",
              "562  BELO HORIZONTE   MG  30130100       both  \n",
              "563             NaN  NaN       NaN  left_only  \n",
              "564             NaN  NaN       NaN  left_only  \n",
              "565             NaN  NaN       NaN  left_only  \n",
              "566             NaN  NaN       NaN  left_only  \n",
              "\n",
              "[567 rows x 44 columns]"
            ]
          },
          "metadata": {
            "tags": []
          },
          "execution_count": 119
        }
      ]
    }
  ]
}