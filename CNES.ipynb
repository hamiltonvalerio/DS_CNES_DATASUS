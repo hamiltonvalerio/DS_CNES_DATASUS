{
  "nbformat": 4,
  "nbformat_minor": 0,
  "metadata": {
    "kernelspec": {
      "display_name": "Python 3",
      "language": "python",
      "name": "python3"
    },
    "language_info": {
      "codemirror_mode": {
        "name": "ipython",
        "version": 3
      },
      "file_extension": ".py",
      "mimetype": "text/x-python",
      "name": "python",
      "nbconvert_exporter": "python",
      "pygments_lexer": "ipython3",
      "version": "3.8.5"
    },
    "colab": {
      "name": "CNES.ipynb",
      "provenance": [],
      "collapsed_sections": [],
      "toc_visible": true,
      "include_colab_link": true
    }
  },
  "cells": [
    {
      "cell_type": "markdown",
      "metadata": {
        "id": "view-in-github",
        "colab_type": "text"
      },
      "source": [
        "<a href=\"https://colab.research.google.com/github/hamiltonvalerio/DS_CNES_DATASUS/blob/main/CNES.ipynb\" target=\"_parent\"><img src=\"https://colab.research.google.com/assets/colab-badge.svg\" alt=\"Open In Colab\"/></a>"
      ]
    },
    {
      "cell_type": "code",
      "metadata": {
        "id": "v-JByq-50WNH",
        "colab": {
          "base_uri": "https://localhost:8080/"
        },
        "outputId": "d4a54da4-ad67-4180-e38b-20aaeea9acf2"
      },
      "source": [
        "import pandas as pd\n",
        "import numpy as np\n",
        "import glob\n",
        "import time\n",
        "import requests\n",
        "from io import StringIO\n",
        "import unicodedata\n",
        "import re\n",
        "from google.colab import drive\n",
        "drive.mount('/drive')"
      ],
      "execution_count": 1,
      "outputs": [
        {
          "output_type": "stream",
          "text": [
            "Mounted at /drive\n"
          ],
          "name": "stdout"
        }
      ]
    },
    {
      "cell_type": "markdown",
      "metadata": {
        "id": "8P-51WkK0WNM"
      },
      "source": [
        "# SELECIONANDO NO GOOGLE DRIVE A TABELA DO MÊS 12/2020 DE NOMES DE EQUIPAMENTOS (tbEquipamento202012.csv) PARA FAZER UM JOIN COM O DATAFRAME de EQUIPAMENTOS TRAZENDO A NOMENCLATURA (Gama Camara, PET/CT)"
      ]
    },
    {
      "cell_type": "code",
      "metadata": {
        "scrolled": false,
        "colab": {
          "base_uri": "https://localhost:8080/",
          "height": 111
        },
        "id": "PLH0oQe90WNN",
        "outputId": "b9902ada-df3d-4fbb-dc57-7b7f39f7413d"
      },
      "source": [
        "url_eq_auxiliar = 'https://drive.google.com/file/d/19Qikm47nw3cy7FL6QwZj_4XmVHzz4Xp6/view?usp=sharing'\n",
        "path_eq_auxiliar = 'https://drive.google.com/uc?export=download&id='+url_eq_auxiliar.split('/')[-2]\n",
        "df_eq = pd.read_csv(path_eq_auxiliar,sep=';')\n",
        "\n",
        "filtro_eq = ['Gama Camara', 'PET/CT']\n",
        "\n",
        "result_eq = df_eq[df_eq['DS_EQUIPAMENTO'].str.contains('|'.join(filtro_eq))]\n",
        "\n",
        "result_eq"
      ],
      "execution_count": 2,
      "outputs": [
        {
          "output_type": "execute_result",
          "data": {
            "text/html": [
              "<div>\n",
              "<style scoped>\n",
              "    .dataframe tbody tr th:only-of-type {\n",
              "        vertical-align: middle;\n",
              "    }\n",
              "\n",
              "    .dataframe tbody tr th {\n",
              "        vertical-align: top;\n",
              "    }\n",
              "\n",
              "    .dataframe thead th {\n",
              "        text-align: right;\n",
              "    }\n",
              "</style>\n",
              "<table border=\"1\" class=\"dataframe\">\n",
              "  <thead>\n",
              "    <tr style=\"text-align: right;\">\n",
              "      <th></th>\n",
              "      <th>CO_EQUIPAMENTO</th>\n",
              "      <th>CO_TIPO_EQUIPAMENTO</th>\n",
              "      <th>DS_EQUIPAMENTO</th>\n",
              "    </tr>\n",
              "  </thead>\n",
              "  <tbody>\n",
              "    <tr>\n",
              "      <th>7</th>\n",
              "      <td>1</td>\n",
              "      <td>1</td>\n",
              "      <td>Gama Camara</td>\n",
              "    </tr>\n",
              "    <tr>\n",
              "      <th>66</th>\n",
              "      <td>18</td>\n",
              "      <td>1</td>\n",
              "      <td>PET/CT</td>\n",
              "    </tr>\n",
              "  </tbody>\n",
              "</table>\n",
              "</div>"
            ],
            "text/plain": [
              "    CO_EQUIPAMENTO  CO_TIPO_EQUIPAMENTO DS_EQUIPAMENTO\n",
              "7                1                    1    Gama Camara\n",
              "66              18                    1         PET/CT"
            ]
          },
          "metadata": {
            "tags": []
          },
          "execution_count": 2
        }
      ]
    },
    {
      "cell_type": "markdown",
      "metadata": {
        "id": "FwkzryXo0WNO"
      },
      "source": [
        "# ARRAY DE ESTADOS PARA PESQUISA"
      ]
    },
    {
      "cell_type": "code",
      "metadata": {
        "id": "TH79GCPU0WNO"
      },
      "source": [
        "array_estados = np.array([\"AC\", \"AL\", \"AM\", \"AP\", \"BA\", \"CE\", \"DF\", \"ES\", \"GO\", \"MA\", \"MT\", \"MS\", \"MG\", \"PA\", \"PB\", \"PR\", \"PE\", \"PI\", \"RJ\", \"RN\", \"RO\", \"RS\", \"RR\", \"SC\", \"SE\", \"SP\", \"TO\"])\n",
        "pd.options.display.max_columns = None"
      ],
      "execution_count": 3,
      "outputs": []
    },
    {
      "cell_type": "markdown",
      "metadata": {
        "id": "jxKzMqdedzsL"
      },
      "source": [
        "# FUNÇÃO PARA RETIRAR ACENTOS"
      ]
    },
    {
      "cell_type": "code",
      "metadata": {
        "id": "G7pWCm4WdyPX"
      },
      "source": [
        "def removerAcentosECaracteresEspeciais(palavra):\n",
        "\n",
        "    # Unicode normalize transforma um caracter em seu equivalente em latin.\n",
        "    nfkd = unicodedata.normalize('NFKD', palavra)\n",
        "    palavraSemAcento = u\"\".join([c for c in nfkd if not unicodedata.combining(c)])\n",
        "\n",
        "    # Usa expressão regular para retornar a palavra apenas com números, letras e espaço\n",
        "    return re.sub('[^a-zA-Z0-9 \\\\\\]', '', palavraSemAcento)\n",
        "\n",
        "    #crédito: https://gist.github.com/boniattirodrigo/67429ada53b7337d2e79"
      ],
      "execution_count": 4,
      "outputs": []
    },
    {
      "cell_type": "markdown",
      "metadata": {
        "id": "kNg7yUhB0WNO"
      },
      "source": [
        "# MONTA O ARRAY DE LINKS DE EQUIPAMENTOS\n",
        "Todos os arquivos do ano de 2020, mês 12, todos os Estados Brasileiros."
      ]
    },
    {
      "cell_type": "code",
      "metadata": {
        "colab": {
          "base_uri": "https://localhost:8080/"
        },
        "id": "wPWtM9E80WNP",
        "outputId": "cc1fa89c-f922-46dd-87af-dc8a120c6e6d"
      },
      "source": [
        "path_eq = 'https://datascience.ipen.br/~mario/CNESdados/200508_/Dados/EQ/CSVs/EQ'\n",
        "array_urls_eq = []\n",
        "campos_eq = ['CNES','CPF_CNPJ','CODEQUIP']\n",
        "\n",
        "for est in array_estados:\n",
        "    array_urls_eq.append(path_eq+\"\"+est+\"_2020.csv\")\n",
        "    \n",
        "print(array_urls_eq)"
      ],
      "execution_count": 5,
      "outputs": [
        {
          "output_type": "stream",
          "text": [
            "['https://datascience.ipen.br/~mario/CNESdados/200508_/Dados/EQ/CSVs/EQAC_2020.csv', 'https://datascience.ipen.br/~mario/CNESdados/200508_/Dados/EQ/CSVs/EQAL_2020.csv', 'https://datascience.ipen.br/~mario/CNESdados/200508_/Dados/EQ/CSVs/EQAM_2020.csv', 'https://datascience.ipen.br/~mario/CNESdados/200508_/Dados/EQ/CSVs/EQAP_2020.csv', 'https://datascience.ipen.br/~mario/CNESdados/200508_/Dados/EQ/CSVs/EQBA_2020.csv', 'https://datascience.ipen.br/~mario/CNESdados/200508_/Dados/EQ/CSVs/EQCE_2020.csv', 'https://datascience.ipen.br/~mario/CNESdados/200508_/Dados/EQ/CSVs/EQDF_2020.csv', 'https://datascience.ipen.br/~mario/CNESdados/200508_/Dados/EQ/CSVs/EQES_2020.csv', 'https://datascience.ipen.br/~mario/CNESdados/200508_/Dados/EQ/CSVs/EQGO_2020.csv', 'https://datascience.ipen.br/~mario/CNESdados/200508_/Dados/EQ/CSVs/EQMA_2020.csv', 'https://datascience.ipen.br/~mario/CNESdados/200508_/Dados/EQ/CSVs/EQMT_2020.csv', 'https://datascience.ipen.br/~mario/CNESdados/200508_/Dados/EQ/CSVs/EQMS_2020.csv', 'https://datascience.ipen.br/~mario/CNESdados/200508_/Dados/EQ/CSVs/EQMG_2020.csv', 'https://datascience.ipen.br/~mario/CNESdados/200508_/Dados/EQ/CSVs/EQPA_2020.csv', 'https://datascience.ipen.br/~mario/CNESdados/200508_/Dados/EQ/CSVs/EQPB_2020.csv', 'https://datascience.ipen.br/~mario/CNESdados/200508_/Dados/EQ/CSVs/EQPR_2020.csv', 'https://datascience.ipen.br/~mario/CNESdados/200508_/Dados/EQ/CSVs/EQPE_2020.csv', 'https://datascience.ipen.br/~mario/CNESdados/200508_/Dados/EQ/CSVs/EQPI_2020.csv', 'https://datascience.ipen.br/~mario/CNESdados/200508_/Dados/EQ/CSVs/EQRJ_2020.csv', 'https://datascience.ipen.br/~mario/CNESdados/200508_/Dados/EQ/CSVs/EQRN_2020.csv', 'https://datascience.ipen.br/~mario/CNESdados/200508_/Dados/EQ/CSVs/EQRO_2020.csv', 'https://datascience.ipen.br/~mario/CNESdados/200508_/Dados/EQ/CSVs/EQRS_2020.csv', 'https://datascience.ipen.br/~mario/CNESdados/200508_/Dados/EQ/CSVs/EQRR_2020.csv', 'https://datascience.ipen.br/~mario/CNESdados/200508_/Dados/EQ/CSVs/EQSC_2020.csv', 'https://datascience.ipen.br/~mario/CNESdados/200508_/Dados/EQ/CSVs/EQSE_2020.csv', 'https://datascience.ipen.br/~mario/CNESdados/200508_/Dados/EQ/CSVs/EQSP_2020.csv', 'https://datascience.ipen.br/~mario/CNESdados/200508_/Dados/EQ/CSVs/EQTO_2020.csv']\n"
          ],
          "name": "stdout"
        }
      ]
    },
    {
      "cell_type": "markdown",
      "metadata": {
        "id": "cw8qD6O90WNP"
      },
      "source": [
        "# GERA O DATAFRAME DE EQUIPAMENTOS"
      ]
    },
    {
      "cell_type": "code",
      "metadata": {
        "colab": {
          "base_uri": "https://localhost:8080/"
        },
        "id": "qEY2_zoU1zn5",
        "outputId": "f7164cc1-4b70-472d-be1b-22b2d67fe0d9"
      },
      "source": [
        "timeStartEQ = time.time()\n",
        "dfs_EQ = [pd.read_csv(url,sep=',', error_bad_lines=False, index_col=False, dtype='unicode', usecols = campos_eq) for url in array_urls_eq]\n",
        "total_df_EQ = pd.concat(dfs_EQ, ignore_index=True)\n",
        "tempoDeExecucaoEQ = (time.time() - timeStartEQ)\n",
        "print('Tempo de execução em minutos: ' + str(tempoDeExecucaoEQ/60))"
      ],
      "execution_count": 6,
      "outputs": [
        {
          "output_type": "stream",
          "text": [
            "Tempo de execução em minutos: 1.608044425646464\n"
          ],
          "name": "stdout"
        }
      ]
    },
    {
      "cell_type": "code",
      "metadata": {
        "id": "z16xOdQ8GTJ8"
      },
      "source": [
        "total_df_EQ['CODEQUIP'] = total_df_EQ['CODEQUIP'].astype(int)"
      ],
      "execution_count": 7,
      "outputs": []
    },
    {
      "cell_type": "code",
      "metadata": {
        "colab": {
          "base_uri": "https://localhost:8080/",
          "height": 359
        },
        "id": "3EbJd6QZ09vE",
        "outputId": "638a9647-e37e-4718-db0c-d9ad52a449f9"
      },
      "source": [
        "total_df_EQ.head(10)"
      ],
      "execution_count": 8,
      "outputs": [
        {
          "output_type": "execute_result",
          "data": {
            "text/html": [
              "<div>\n",
              "<style scoped>\n",
              "    .dataframe tbody tr th:only-of-type {\n",
              "        vertical-align: middle;\n",
              "    }\n",
              "\n",
              "    .dataframe tbody tr th {\n",
              "        vertical-align: top;\n",
              "    }\n",
              "\n",
              "    .dataframe thead th {\n",
              "        text-align: right;\n",
              "    }\n",
              "</style>\n",
              "<table border=\"1\" class=\"dataframe\">\n",
              "  <thead>\n",
              "    <tr style=\"text-align: right;\">\n",
              "      <th></th>\n",
              "      <th>CNES</th>\n",
              "      <th>CPF_CNPJ</th>\n",
              "      <th>CODEQUIP</th>\n",
              "    </tr>\n",
              "  </thead>\n",
              "  <tbody>\n",
              "    <tr>\n",
              "      <th>0</th>\n",
              "      <td>3006166</td>\n",
              "      <td>00000000000000</td>\n",
              "      <td>81</td>\n",
              "    </tr>\n",
              "    <tr>\n",
              "      <th>1</th>\n",
              "      <td>3006166</td>\n",
              "      <td>00000000000000</td>\n",
              "      <td>84</td>\n",
              "    </tr>\n",
              "    <tr>\n",
              "      <th>2</th>\n",
              "      <td>3006166</td>\n",
              "      <td>00000000000000</td>\n",
              "      <td>83</td>\n",
              "    </tr>\n",
              "    <tr>\n",
              "      <th>3</th>\n",
              "      <td>3006166</td>\n",
              "      <td>00000000000000</td>\n",
              "      <td>80</td>\n",
              "    </tr>\n",
              "    <tr>\n",
              "      <th>4</th>\n",
              "      <td>3382745</td>\n",
              "      <td>00000000000000</td>\n",
              "      <td>81</td>\n",
              "    </tr>\n",
              "    <tr>\n",
              "      <th>5</th>\n",
              "      <td>3382745</td>\n",
              "      <td>00000000000000</td>\n",
              "      <td>84</td>\n",
              "    </tr>\n",
              "    <tr>\n",
              "      <th>6</th>\n",
              "      <td>3382745</td>\n",
              "      <td>00000000000000</td>\n",
              "      <td>80</td>\n",
              "    </tr>\n",
              "    <tr>\n",
              "      <th>7</th>\n",
              "      <td>3382745</td>\n",
              "      <td>00000000000000</td>\n",
              "      <td>83</td>\n",
              "    </tr>\n",
              "    <tr>\n",
              "      <th>8</th>\n",
              "      <td>3393984</td>\n",
              "      <td>00000000000000</td>\n",
              "      <td>81</td>\n",
              "    </tr>\n",
              "    <tr>\n",
              "      <th>9</th>\n",
              "      <td>3393984</td>\n",
              "      <td>00000000000000</td>\n",
              "      <td>80</td>\n",
              "    </tr>\n",
              "  </tbody>\n",
              "</table>\n",
              "</div>"
            ],
            "text/plain": [
              "      CNES        CPF_CNPJ  CODEQUIP\n",
              "0  3006166  00000000000000        81\n",
              "1  3006166  00000000000000        84\n",
              "2  3006166  00000000000000        83\n",
              "3  3006166  00000000000000        80\n",
              "4  3382745  00000000000000        81\n",
              "5  3382745  00000000000000        84\n",
              "6  3382745  00000000000000        80\n",
              "7  3382745  00000000000000        83\n",
              "8  3393984  00000000000000        81\n",
              "9  3393984  00000000000000        80"
            ]
          },
          "metadata": {
            "tags": []
          },
          "execution_count": 8
        }
      ]
    },
    {
      "cell_type": "code",
      "metadata": {
        "colab": {
          "base_uri": "https://localhost:8080/"
        },
        "id": "tBXbE7tW3udx",
        "outputId": "c23f3bbf-76d9-4dab-90e6-ca025c43d88d"
      },
      "source": [
        "total_df_EQ.shape"
      ],
      "execution_count": 9,
      "outputs": [
        {
          "output_type": "execute_result",
          "data": {
            "text/plain": [
              "(8596372, 3)"
            ]
          },
          "metadata": {
            "tags": []
          },
          "execution_count": 9
        }
      ]
    },
    {
      "cell_type": "code",
      "metadata": {
        "colab": {
          "base_uri": "https://localhost:8080/"
        },
        "id": "jyRc07kqFhr2",
        "outputId": "11cdf6fe-1800-4687-a037-06b0ecd32644"
      },
      "source": [
        "total_df_EQ.dtypes"
      ],
      "execution_count": 10,
      "outputs": [
        {
          "output_type": "execute_result",
          "data": {
            "text/plain": [
              "CNES        object\n",
              "CPF_CNPJ    object\n",
              "CODEQUIP     int64\n",
              "dtype: object"
            ]
          },
          "metadata": {
            "tags": []
          },
          "execution_count": 10
        }
      ]
    },
    {
      "cell_type": "markdown",
      "metadata": {
        "id": "ae4ZMEVA0WNQ"
      },
      "source": [
        "# FILTRA O DATAFRAME DE EQUIPAMENTOS COM OS FILTROS: coluna_codequip.values (1,18) - QUE CORRESPONDEM AOS CODIGOS DOS EQUIPAMENTOS: Gama Camara e PET/CT "
      ]
    },
    {
      "cell_type": "code",
      "metadata": {
        "colab": {
          "base_uri": "https://localhost:8080/"
        },
        "id": "VKfVKBtc82ZC",
        "outputId": "1380efe0-056c-4ef2-ec93-68b90902dd54"
      },
      "source": [
        "coluna_codequip = result_eq.loc[:,'CO_EQUIPAMENTO'].astype(int)\n",
        "coluna_codequip.values"
      ],
      "execution_count": 11,
      "outputs": [
        {
          "output_type": "execute_result",
          "data": {
            "text/plain": [
              "array([ 1, 18])"
            ]
          },
          "metadata": {
            "tags": []
          },
          "execution_count": 11
        }
      ]
    },
    {
      "cell_type": "code",
      "metadata": {
        "id": "UUruqI1-D0en"
      },
      "source": [
        "result_df_EQ = total_df_EQ.loc[total_df_EQ['CODEQUIP'].isin(coluna_codequip.values)]"
      ],
      "execution_count": 12,
      "outputs": []
    },
    {
      "cell_type": "code",
      "metadata": {
        "colab": {
          "base_uri": "https://localhost:8080/"
        },
        "id": "VEkgLZ073ahO",
        "outputId": "9e8cfa9d-2487-42f5-950a-c5c89da147cd"
      },
      "source": [
        "result_df_EQ.shape"
      ],
      "execution_count": 13,
      "outputs": [
        {
          "output_type": "execute_result",
          "data": {
            "text/plain": [
              "(7343, 3)"
            ]
          },
          "metadata": {
            "tags": []
          },
          "execution_count": 13
        }
      ]
    },
    {
      "cell_type": "code",
      "metadata": {
        "id": "kxVXtYku33OD"
      },
      "source": [
        "result_df_EQ = result_df_EQ.rename(columns={'CODEQUIP': 'CODEQUIP_TAB_EQ'})"
      ],
      "execution_count": 14,
      "outputs": []
    },
    {
      "cell_type": "code",
      "metadata": {
        "colab": {
          "base_uri": "https://localhost:8080/",
          "height": 359
        },
        "id": "HyPgN8eiPGZY",
        "outputId": "75e0e80a-1d5d-42ef-a0d3-6158c833d768"
      },
      "source": [
        "result_df_EQ.head(10)"
      ],
      "execution_count": 15,
      "outputs": [
        {
          "output_type": "execute_result",
          "data": {
            "text/html": [
              "<div>\n",
              "<style scoped>\n",
              "    .dataframe tbody tr th:only-of-type {\n",
              "        vertical-align: middle;\n",
              "    }\n",
              "\n",
              "    .dataframe tbody tr th {\n",
              "        vertical-align: top;\n",
              "    }\n",
              "\n",
              "    .dataframe thead th {\n",
              "        text-align: right;\n",
              "    }\n",
              "</style>\n",
              "<table border=\"1\" class=\"dataframe\">\n",
              "  <thead>\n",
              "    <tr style=\"text-align: right;\">\n",
              "      <th></th>\n",
              "      <th>CNES</th>\n",
              "      <th>CPF_CNPJ</th>\n",
              "      <th>CODEQUIP_TAB_EQ</th>\n",
              "    </tr>\n",
              "  </thead>\n",
              "  <tbody>\n",
              "    <tr>\n",
              "      <th>921</th>\n",
              "      <td>2001977</td>\n",
              "      <td>00624104000177</td>\n",
              "      <td>1</td>\n",
              "    </tr>\n",
              "    <tr>\n",
              "      <th>1396</th>\n",
              "      <td>6225012</td>\n",
              "      <td>07616992000125</td>\n",
              "      <td>1</td>\n",
              "    </tr>\n",
              "    <tr>\n",
              "      <th>1538</th>\n",
              "      <td>6655653</td>\n",
              "      <td>11467937000198</td>\n",
              "      <td>1</td>\n",
              "    </tr>\n",
              "    <tr>\n",
              "      <th>2138</th>\n",
              "      <td>9467610</td>\n",
              "      <td>28685425000109</td>\n",
              "      <td>1</td>\n",
              "    </tr>\n",
              "    <tr>\n",
              "      <th>3609</th>\n",
              "      <td>2001977</td>\n",
              "      <td>00624104000177</td>\n",
              "      <td>1</td>\n",
              "    </tr>\n",
              "    <tr>\n",
              "      <th>4068</th>\n",
              "      <td>6225012</td>\n",
              "      <td>07616992000125</td>\n",
              "      <td>1</td>\n",
              "    </tr>\n",
              "    <tr>\n",
              "      <th>4210</th>\n",
              "      <td>6655653</td>\n",
              "      <td>11467937000198</td>\n",
              "      <td>1</td>\n",
              "    </tr>\n",
              "    <tr>\n",
              "      <th>4819</th>\n",
              "      <td>9467610</td>\n",
              "      <td>28685425000109</td>\n",
              "      <td>1</td>\n",
              "    </tr>\n",
              "    <tr>\n",
              "      <th>6299</th>\n",
              "      <td>2001977</td>\n",
              "      <td>00624104000177</td>\n",
              "      <td>1</td>\n",
              "    </tr>\n",
              "    <tr>\n",
              "      <th>6770</th>\n",
              "      <td>6225012</td>\n",
              "      <td>07616992000125</td>\n",
              "      <td>1</td>\n",
              "    </tr>\n",
              "  </tbody>\n",
              "</table>\n",
              "</div>"
            ],
            "text/plain": [
              "         CNES        CPF_CNPJ  CODEQUIP_TAB_EQ\n",
              "921   2001977  00624104000177                1\n",
              "1396  6225012  07616992000125                1\n",
              "1538  6655653  11467937000198                1\n",
              "2138  9467610  28685425000109                1\n",
              "3609  2001977  00624104000177                1\n",
              "4068  6225012  07616992000125                1\n",
              "4210  6655653  11467937000198                1\n",
              "4819  9467610  28685425000109                1\n",
              "6299  2001977  00624104000177                1\n",
              "6770  6225012  07616992000125                1"
            ]
          },
          "metadata": {
            "tags": []
          },
          "execution_count": 15
        }
      ]
    },
    {
      "cell_type": "code",
      "metadata": {
        "id": "177pFM5nyTBa"
      },
      "source": [
        "result_df_EQ.to_csv('/drive/My Drive/DS_CNES/result_df_EQ.csv')"
      ],
      "execution_count": null,
      "outputs": []
    },
    {
      "cell_type": "markdown",
      "metadata": {
        "id": "zUXNFJvy0WNR"
      },
      "source": [
        "# MONTA O ARRAY DE LINKS ESTABELECIMENTOS"
      ]
    },
    {
      "cell_type": "code",
      "metadata": {
        "colab": {
          "base_uri": "https://localhost:8080/"
        },
        "id": "D5tCoqOM0WNR",
        "outputId": "873fc550-56da-4029-d10c-384a5c2233bd"
      },
      "source": [
        "path_st = 'https://datascience.ipen.br/~mario/CNESdados/200508_/Dados/ST/CSVs/ST'\n",
        "array_urls_st = []\n",
        "campos_st = ['CNES','CPF_CNPJ','ALVARA']\n",
        "\n",
        "for est in array_estados:\n",
        "    array_urls_st.append(path_st+\"\"+est+\"_2020.csv\")\n",
        "    \n",
        "print(array_urls_st)"
      ],
      "execution_count": 16,
      "outputs": [
        {
          "output_type": "stream",
          "text": [
            "['https://datascience.ipen.br/~mario/CNESdados/200508_/Dados/ST/CSVs/STAC_2020.csv', 'https://datascience.ipen.br/~mario/CNESdados/200508_/Dados/ST/CSVs/STAL_2020.csv', 'https://datascience.ipen.br/~mario/CNESdados/200508_/Dados/ST/CSVs/STAM_2020.csv', 'https://datascience.ipen.br/~mario/CNESdados/200508_/Dados/ST/CSVs/STAP_2020.csv', 'https://datascience.ipen.br/~mario/CNESdados/200508_/Dados/ST/CSVs/STBA_2020.csv', 'https://datascience.ipen.br/~mario/CNESdados/200508_/Dados/ST/CSVs/STCE_2020.csv', 'https://datascience.ipen.br/~mario/CNESdados/200508_/Dados/ST/CSVs/STDF_2020.csv', 'https://datascience.ipen.br/~mario/CNESdados/200508_/Dados/ST/CSVs/STES_2020.csv', 'https://datascience.ipen.br/~mario/CNESdados/200508_/Dados/ST/CSVs/STGO_2020.csv', 'https://datascience.ipen.br/~mario/CNESdados/200508_/Dados/ST/CSVs/STMA_2020.csv', 'https://datascience.ipen.br/~mario/CNESdados/200508_/Dados/ST/CSVs/STMT_2020.csv', 'https://datascience.ipen.br/~mario/CNESdados/200508_/Dados/ST/CSVs/STMS_2020.csv', 'https://datascience.ipen.br/~mario/CNESdados/200508_/Dados/ST/CSVs/STMG_2020.csv', 'https://datascience.ipen.br/~mario/CNESdados/200508_/Dados/ST/CSVs/STPA_2020.csv', 'https://datascience.ipen.br/~mario/CNESdados/200508_/Dados/ST/CSVs/STPB_2020.csv', 'https://datascience.ipen.br/~mario/CNESdados/200508_/Dados/ST/CSVs/STPR_2020.csv', 'https://datascience.ipen.br/~mario/CNESdados/200508_/Dados/ST/CSVs/STPE_2020.csv', 'https://datascience.ipen.br/~mario/CNESdados/200508_/Dados/ST/CSVs/STPI_2020.csv', 'https://datascience.ipen.br/~mario/CNESdados/200508_/Dados/ST/CSVs/STRJ_2020.csv', 'https://datascience.ipen.br/~mario/CNESdados/200508_/Dados/ST/CSVs/STRN_2020.csv', 'https://datascience.ipen.br/~mario/CNESdados/200508_/Dados/ST/CSVs/STRO_2020.csv', 'https://datascience.ipen.br/~mario/CNESdados/200508_/Dados/ST/CSVs/STRS_2020.csv', 'https://datascience.ipen.br/~mario/CNESdados/200508_/Dados/ST/CSVs/STRR_2020.csv', 'https://datascience.ipen.br/~mario/CNESdados/200508_/Dados/ST/CSVs/STSC_2020.csv', 'https://datascience.ipen.br/~mario/CNESdados/200508_/Dados/ST/CSVs/STSE_2020.csv', 'https://datascience.ipen.br/~mario/CNESdados/200508_/Dados/ST/CSVs/STSP_2020.csv', 'https://datascience.ipen.br/~mario/CNESdados/200508_/Dados/ST/CSVs/STTO_2020.csv']\n"
          ],
          "name": "stdout"
        }
      ]
    },
    {
      "cell_type": "markdown",
      "metadata": {
        "id": "YJfvUdMB0WNR"
      },
      "source": [
        "# GERA O DATAFRAME DE ESTABELECIMENTOS"
      ]
    },
    {
      "cell_type": "code",
      "metadata": {
        "colab": {
          "base_uri": "https://localhost:8080/"
        },
        "id": "Z2oSx4Y90WNR",
        "outputId": "1f3023bd-b3ef-4666-f867-c7b3d73da725"
      },
      "source": [
        "timeStartST = time.time()\n",
        "dfs_ST = [pd.read_csv(urlst, sep=',', error_bad_lines=False, index_col=False, dtype='unicode', usecols = campos_st) for urlst in array_urls_st]\n",
        "total_df_ST = pd.concat(dfs_ST, ignore_index=True)\n",
        "tempoDeExecucaoST = (time.time() - timeStartST)\n",
        "print('Tempo de execução em minutos: ' + str(tempoDeExecucaoST/60))"
      ],
      "execution_count": 17,
      "outputs": [
        {
          "output_type": "stream",
          "text": [
            "Tempo de execução em minutos: 2.2570220947265627\n"
          ],
          "name": "stdout"
        }
      ]
    },
    {
      "cell_type": "code",
      "metadata": {
        "scrolled": false,
        "colab": {
          "base_uri": "https://localhost:8080/"
        },
        "id": "iEDANubc0WNS",
        "outputId": "1c0dd6c2-b37a-4b0c-b3e9-5141aa2b2317"
      },
      "source": [
        "total_df_ST.shape"
      ],
      "execution_count": 18,
      "outputs": [
        {
          "output_type": "execute_result",
          "data": {
            "text/plain": [
              "(3581555, 3)"
            ]
          },
          "metadata": {
            "tags": []
          },
          "execution_count": 18
        }
      ]
    },
    {
      "cell_type": "code",
      "metadata": {
        "colab": {
          "base_uri": "https://localhost:8080/",
          "height": 359
        },
        "id": "jFXq0NLO0WNS",
        "outputId": "15042c8d-c3ed-48b9-d807-0406543886eb"
      },
      "source": [
        "total_df_ST.head(10)"
      ],
      "execution_count": 19,
      "outputs": [
        {
          "output_type": "execute_result",
          "data": {
            "text/html": [
              "<div>\n",
              "<style scoped>\n",
              "    .dataframe tbody tr th:only-of-type {\n",
              "        vertical-align: middle;\n",
              "    }\n",
              "\n",
              "    .dataframe tbody tr th {\n",
              "        vertical-align: top;\n",
              "    }\n",
              "\n",
              "    .dataframe thead th {\n",
              "        text-align: right;\n",
              "    }\n",
              "</style>\n",
              "<table border=\"1\" class=\"dataframe\">\n",
              "  <thead>\n",
              "    <tr style=\"text-align: right;\">\n",
              "      <th></th>\n",
              "      <th>CNES</th>\n",
              "      <th>CPF_CNPJ</th>\n",
              "      <th>ALVARA</th>\n",
              "    </tr>\n",
              "  </thead>\n",
              "  <tbody>\n",
              "    <tr>\n",
              "      <th>0</th>\n",
              "      <td>3006166</td>\n",
              "      <td>00000000000000</td>\n",
              "      <td>NaN</td>\n",
              "    </tr>\n",
              "    <tr>\n",
              "      <th>1</th>\n",
              "      <td>3382745</td>\n",
              "      <td>00000000000000</td>\n",
              "      <td>NaN</td>\n",
              "    </tr>\n",
              "    <tr>\n",
              "      <th>2</th>\n",
              "      <td>3393984</td>\n",
              "      <td>00000000000000</td>\n",
              "      <td>NaN</td>\n",
              "    </tr>\n",
              "    <tr>\n",
              "      <th>3</th>\n",
              "      <td>3638685</td>\n",
              "      <td>00000000000000</td>\n",
              "      <td>NaN</td>\n",
              "    </tr>\n",
              "    <tr>\n",
              "      <th>4</th>\n",
              "      <td>5403669</td>\n",
              "      <td>00000000000000</td>\n",
              "      <td>NaN</td>\n",
              "    </tr>\n",
              "    <tr>\n",
              "      <th>5</th>\n",
              "      <td>5701929</td>\n",
              "      <td>00000000000000</td>\n",
              "      <td>NaN</td>\n",
              "    </tr>\n",
              "    <tr>\n",
              "      <th>6</th>\n",
              "      <td>6514669</td>\n",
              "      <td>00000000000000</td>\n",
              "      <td>NaN</td>\n",
              "    </tr>\n",
              "    <tr>\n",
              "      <th>7</th>\n",
              "      <td>7026641</td>\n",
              "      <td>00000000000000</td>\n",
              "      <td>NaN</td>\n",
              "    </tr>\n",
              "    <tr>\n",
              "      <th>8</th>\n",
              "      <td>7245890</td>\n",
              "      <td>10923709000201</td>\n",
              "      <td>239/2013</td>\n",
              "    </tr>\n",
              "    <tr>\n",
              "      <th>9</th>\n",
              "      <td>7669135</td>\n",
              "      <td>17390533000120</td>\n",
              "      <td>NaN</td>\n",
              "    </tr>\n",
              "  </tbody>\n",
              "</table>\n",
              "</div>"
            ],
            "text/plain": [
              "      CNES        CPF_CNPJ    ALVARA\n",
              "0  3006166  00000000000000       NaN\n",
              "1  3382745  00000000000000       NaN\n",
              "2  3393984  00000000000000       NaN\n",
              "3  3638685  00000000000000       NaN\n",
              "4  5403669  00000000000000       NaN\n",
              "5  5701929  00000000000000       NaN\n",
              "6  6514669  00000000000000       NaN\n",
              "7  7026641  00000000000000       NaN\n",
              "8  7245890  10923709000201  239/2013\n",
              "9  7669135  17390533000120       NaN"
            ]
          },
          "metadata": {
            "tags": []
          },
          "execution_count": 19
        }
      ]
    },
    {
      "cell_type": "markdown",
      "metadata": {
        "id": "sJd-ODgjWoD7"
      },
      "source": [
        "# FAZ O MERGE (RIGHT JOIN NO SQL) USANDO COMO CHAVE O VALOR CNES E REMOVENDO OS DUPLICADOS\n",
        "\n",
        "Aqui tenho um resultado de todas as empresas da base CNES que trabalham (ou tenham!?) os equipamentos GAMA CAMARA e PET/CT. Nesta lista podemos conferir se, pelo CNES, temos o Alvará.\n",
        "Com base nesta lista é possível importar a base de Clientes da Cnen e fazer uma comparação utilizando o CNES ou CNPJ cadastrado. "
      ]
    },
    {
      "cell_type": "code",
      "metadata": {
        "id": "3WEzDBh10WNS"
      },
      "source": [
        "df_lista_cnes = pd.merge(total_df_ST, result_df_EQ, on=\"CNES\", how=\"left\").drop_duplicates()\n",
        "df_lista_cnes = (df_lista_cnes.rename(columns={'CPF_CNPJ_x': 'CNPJ'})).drop(columns=['CPF_CNPJ_y'])\n",
        "df_lista_cnes['CNPJ'] = df_lista_cnes['CNPJ'].str.replace(\".\",\"\")\n",
        "df_lista_cnes['CNPJ'] = df_lista_cnes['CNPJ'].str.replace(\"/\",\"\")\n",
        "df_lista_cnes['CNPJ'] = df_lista_cnes['CNPJ'].str.replace(\"-\",\"\")\n",
        "df_lista_cnes['CNPJ'] = df_lista_cnes['CNPJ'].str.replace(\" \",\"\")\n"
      ],
      "execution_count": 20,
      "outputs": []
    },
    {
      "cell_type": "code",
      "metadata": {
        "colab": {
          "base_uri": "https://localhost:8080/",
          "height": 80
        },
        "id": "nPFVHhsGKHwV",
        "outputId": "c026ad1c-0e21-4a91-e764-f48eea785571"
      },
      "source": [
        "filtro_cnpj_lista = ['12343023000188']\n",
        "result_cnpj_lista = df_lista_cnes[df_lista_cnes['CNPJ'].str.contains('|'.join(filtro_cnpj_lista))]\n",
        "\n",
        "result_cnpj_lista"
      ],
      "execution_count": 58,
      "outputs": [
        {
          "output_type": "execute_result",
          "data": {
            "text/html": [
              "<div>\n",
              "<style scoped>\n",
              "    .dataframe tbody tr th:only-of-type {\n",
              "        vertical-align: middle;\n",
              "    }\n",
              "\n",
              "    .dataframe tbody tr th {\n",
              "        vertical-align: top;\n",
              "    }\n",
              "\n",
              "    .dataframe thead th {\n",
              "        text-align: right;\n",
              "    }\n",
              "</style>\n",
              "<table border=\"1\" class=\"dataframe\">\n",
              "  <thead>\n",
              "    <tr style=\"text-align: right;\">\n",
              "      <th></th>\n",
              "      <th>CNES</th>\n",
              "      <th>CNPJ</th>\n",
              "      <th>ALVARA</th>\n",
              "      <th>CODEQUIP_TAB_EQ</th>\n",
              "    </tr>\n",
              "  </thead>\n",
              "  <tbody>\n",
              "    <tr>\n",
              "      <th>2834219</th>\n",
              "      <td>6808050</td>\n",
              "      <td>12343023000188</td>\n",
              "      <td>35162000486400008516</td>\n",
              "      <td>1.0</td>\n",
              "    </tr>\n",
              "  </tbody>\n",
              "</table>\n",
              "</div>"
            ],
            "text/plain": [
              "            CNES            CNPJ                ALVARA  CODEQUIP_TAB_EQ\n",
              "2834219  6808050  12343023000188  35162000486400008516              1.0"
            ]
          },
          "metadata": {
            "tags": []
          },
          "execution_count": 58
        }
      ]
    },
    {
      "cell_type": "code",
      "metadata": {
        "colab": {
          "base_uri": "https://localhost:8080/"
        },
        "id": "Ibb-FTxOt2Sv",
        "outputId": "6adabb0b-f531-4a35-9a0b-61bdfac8a1f0"
      },
      "source": [
        "df_lista_cnes.shape"
      ],
      "execution_count": 22,
      "outputs": [
        {
          "output_type": "execute_result",
          "data": {
            "text/plain": [
              "(375854, 4)"
            ]
          },
          "metadata": {
            "tags": []
          },
          "execution_count": 22
        }
      ]
    },
    {
      "cell_type": "code",
      "metadata": {
        "id": "IYKi8zj7RfA-"
      },
      "source": [
        "df_lista_cnes = df_lista_cnes.drop_duplicates(subset=['CNPJ'])"
      ],
      "execution_count": 48,
      "outputs": []
    },
    {
      "cell_type": "code",
      "metadata": {
        "colab": {
          "base_uri": "https://localhost:8080/"
        },
        "id": "vsNdWoNuSXZ9",
        "outputId": "cea20784-c8eb-4ce2-9f3d-6b764b184609"
      },
      "source": [
        "df_lista_cnes.shape"
      ],
      "execution_count": 49,
      "outputs": [
        {
          "output_type": "execute_result",
          "data": {
            "text/plain": [
              "(270227, 4)"
            ]
          },
          "metadata": {
            "tags": []
          },
          "execution_count": 49
        }
      ]
    },
    {
      "cell_type": "code",
      "metadata": {
        "colab": {
          "base_uri": "https://localhost:8080/",
          "height": 359
        },
        "id": "7le04PUtBUqb",
        "outputId": "551b536f-f179-4bb6-9160-d47395f3584e"
      },
      "source": [
        "\n",
        "df_lista_cnes.head(10)"
      ],
      "execution_count": 23,
      "outputs": [
        {
          "output_type": "execute_result",
          "data": {
            "text/html": [
              "<div>\n",
              "<style scoped>\n",
              "    .dataframe tbody tr th:only-of-type {\n",
              "        vertical-align: middle;\n",
              "    }\n",
              "\n",
              "    .dataframe tbody tr th {\n",
              "        vertical-align: top;\n",
              "    }\n",
              "\n",
              "    .dataframe thead th {\n",
              "        text-align: right;\n",
              "    }\n",
              "</style>\n",
              "<table border=\"1\" class=\"dataframe\">\n",
              "  <thead>\n",
              "    <tr style=\"text-align: right;\">\n",
              "      <th></th>\n",
              "      <th>CNES</th>\n",
              "      <th>CNPJ</th>\n",
              "      <th>ALVARA</th>\n",
              "      <th>CODEQUIP_TAB_EQ</th>\n",
              "    </tr>\n",
              "  </thead>\n",
              "  <tbody>\n",
              "    <tr>\n",
              "      <th>0</th>\n",
              "      <td>3006166</td>\n",
              "      <td>00000000000000</td>\n",
              "      <td>NaN</td>\n",
              "      <td>NaN</td>\n",
              "    </tr>\n",
              "    <tr>\n",
              "      <th>1</th>\n",
              "      <td>3382745</td>\n",
              "      <td>00000000000000</td>\n",
              "      <td>NaN</td>\n",
              "      <td>NaN</td>\n",
              "    </tr>\n",
              "    <tr>\n",
              "      <th>2</th>\n",
              "      <td>3393984</td>\n",
              "      <td>00000000000000</td>\n",
              "      <td>NaN</td>\n",
              "      <td>NaN</td>\n",
              "    </tr>\n",
              "    <tr>\n",
              "      <th>3</th>\n",
              "      <td>3638685</td>\n",
              "      <td>00000000000000</td>\n",
              "      <td>NaN</td>\n",
              "      <td>NaN</td>\n",
              "    </tr>\n",
              "    <tr>\n",
              "      <th>4</th>\n",
              "      <td>5403669</td>\n",
              "      <td>00000000000000</td>\n",
              "      <td>NaN</td>\n",
              "      <td>NaN</td>\n",
              "    </tr>\n",
              "    <tr>\n",
              "      <th>5</th>\n",
              "      <td>5701929</td>\n",
              "      <td>00000000000000</td>\n",
              "      <td>NaN</td>\n",
              "      <td>NaN</td>\n",
              "    </tr>\n",
              "    <tr>\n",
              "      <th>6</th>\n",
              "      <td>6514669</td>\n",
              "      <td>00000000000000</td>\n",
              "      <td>NaN</td>\n",
              "      <td>NaN</td>\n",
              "    </tr>\n",
              "    <tr>\n",
              "      <th>7</th>\n",
              "      <td>7026641</td>\n",
              "      <td>00000000000000</td>\n",
              "      <td>NaN</td>\n",
              "      <td>NaN</td>\n",
              "    </tr>\n",
              "    <tr>\n",
              "      <th>8</th>\n",
              "      <td>7245890</td>\n",
              "      <td>10923709000201</td>\n",
              "      <td>239/2013</td>\n",
              "      <td>NaN</td>\n",
              "    </tr>\n",
              "    <tr>\n",
              "      <th>9</th>\n",
              "      <td>7669135</td>\n",
              "      <td>17390533000120</td>\n",
              "      <td>NaN</td>\n",
              "      <td>NaN</td>\n",
              "    </tr>\n",
              "  </tbody>\n",
              "</table>\n",
              "</div>"
            ],
            "text/plain": [
              "      CNES            CNPJ    ALVARA  CODEQUIP_TAB_EQ\n",
              "0  3006166  00000000000000       NaN              NaN\n",
              "1  3382745  00000000000000       NaN              NaN\n",
              "2  3393984  00000000000000       NaN              NaN\n",
              "3  3638685  00000000000000       NaN              NaN\n",
              "4  5403669  00000000000000       NaN              NaN\n",
              "5  5701929  00000000000000       NaN              NaN\n",
              "6  6514669  00000000000000       NaN              NaN\n",
              "7  7026641  00000000000000       NaN              NaN\n",
              "8  7245890  10923709000201  239/2013              NaN\n",
              "9  7669135  17390533000120       NaN              NaN"
            ]
          },
          "metadata": {
            "tags": []
          },
          "execution_count": 23
        }
      ]
    },
    {
      "cell_type": "code",
      "metadata": {
        "id": "kD0R0DvLOyJY"
      },
      "source": [
        "df_lista_cnes.to_csv('/drive/My Drive/DS_CNES/df_lista_cnes_leftjoin.csv')"
      ],
      "execution_count": null,
      "outputs": []
    },
    {
      "cell_type": "code",
      "metadata": {
        "id": "LAnj071goR9L"
      },
      "source": [
        "df_lista_cnes.to_excel('/drive/My Drive/DS_CNES/df_lista_cnes.xlsx',sheet_name='df_lista_cnes')"
      ],
      "execution_count": 60,
      "outputs": []
    },
    {
      "cell_type": "markdown",
      "metadata": {
        "id": "IFXr7oRlPjLY"
      },
      "source": [
        "# CARREGA DO GOOGLE DRIVE A LISTA DE CLIENTES DISPONIBILIZADA PELA CNEN\n",
        "Ao mesmo tempo que carrega a lista, que esta em excel, é formatado o campo de CNPJ para Join com o resultado da base CNES acima."
      ]
    },
    {
      "cell_type": "code",
      "metadata": {
        "id": "7fg_-VL9blxP"
      },
      "source": [
        "url_lista_clientes_cnen = 'https://drive.google.com/file/d/1OvY1NsR0Bn8eDq2I28TRvwjQPEdPywAh/view?usp=sharing'\n",
        "path_lista_clientes_cnen = 'https://drive.google.com/uc?export=download&id='+url_lista_clientes_cnen.split('/')[-2]\n",
        "df_lista_clientes_cnen = pd.read_excel(path_lista_clientes_cnen, index_col=0).drop(columns=['seq'])\n",
        "df_lista_clientes_cnen['CNPJ'] = df_lista_clientes_cnen['CNPJ'].str.replace(\".\",\"\")\n",
        "df_lista_clientes_cnen['CNPJ'] = df_lista_clientes_cnen['CNPJ'].str.replace(\"/\",\"\")\n",
        "df_lista_clientes_cnen['CNPJ'] = df_lista_clientes_cnen['CNPJ'].str.replace(\"-\",\"\")\n",
        "df_lista_clientes_cnen['CNPJ'] = df_lista_clientes_cnen['CNPJ'].str.replace(\" \",\"\")\n",
        "df_lista_clientes_cnen['RAZAOSOCIAL'] = df_lista_clientes_cnen['RAZAOSOCIAL'].apply(lambda x:removerAcentosECaracteresEspeciais(x))\n",
        "df_lista_clientes_cnen['UNIDADE'] = df_lista_clientes_cnen['UNIDADE'].apply(lambda x:removerAcentosECaracteresEspeciais(x))\n",
        "df_lista_clientes_cnen['RESPONSAVEL'] = df_lista_clientes_cnen['RESPONSAVEL'].apply(lambda x:removerAcentosECaracteresEspeciais(x))\n",
        "df_lista_clientes_cnen['ENDERECO'] = df_lista_clientes_cnen['ENDERECO'].apply(lambda x:removerAcentosECaracteresEspeciais(x))\n",
        "df_lista_clientes_cnen['MUNICIPIO'] = df_lista_clientes_cnen['MUNICIPIO'].apply(lambda x:removerAcentosECaracteresEspeciais(x))\n",
        "\n",
        "\n"
      ],
      "execution_count": 24,
      "outputs": []
    },
    {
      "cell_type": "code",
      "metadata": {
        "colab": {
          "base_uri": "https://localhost:8080/",
          "height": 544
        },
        "id": "gN8hD45CuamJ",
        "outputId": "c7148e38-c01f-4dc0-b429-f60fc9069de2"
      },
      "source": [
        "df_lista_clientes_cnen.head(5)"
      ],
      "execution_count": 25,
      "outputs": [
        {
          "output_type": "execute_result",
          "data": {
            "text/html": [
              "<div>\n",
              "<style scoped>\n",
              "    .dataframe tbody tr th:only-of-type {\n",
              "        vertical-align: middle;\n",
              "    }\n",
              "\n",
              "    .dataframe tbody tr th {\n",
              "        vertical-align: top;\n",
              "    }\n",
              "\n",
              "    .dataframe thead th {\n",
              "        text-align: right;\n",
              "    }\n",
              "</style>\n",
              "<table border=\"1\" class=\"dataframe\">\n",
              "  <thead>\n",
              "    <tr style=\"text-align: right;\">\n",
              "      <th></th>\n",
              "      <th>CODIGORESP</th>\n",
              "      <th>CNPJ</th>\n",
              "      <th>RAZAOSOCIAL</th>\n",
              "      <th>UNIDADE</th>\n",
              "      <th>RESPONSAVEL</th>\n",
              "      <th>MATRICULACNEN</th>\n",
              "      <th>ENDERECO</th>\n",
              "      <th>NUMERO</th>\n",
              "      <th>COMPLEMENTO</th>\n",
              "      <th>BAIRRO</th>\n",
              "      <th>MUNICIPIO</th>\n",
              "      <th>UF</th>\n",
              "      <th>CEP</th>\n",
              "    </tr>\n",
              "    <tr>\n",
              "      <th>CODIGOCLIENTE</th>\n",
              "      <th></th>\n",
              "      <th></th>\n",
              "      <th></th>\n",
              "      <th></th>\n",
              "      <th></th>\n",
              "      <th></th>\n",
              "      <th></th>\n",
              "      <th></th>\n",
              "      <th></th>\n",
              "      <th></th>\n",
              "      <th></th>\n",
              "      <th></th>\n",
              "      <th></th>\n",
              "    </tr>\n",
              "  </thead>\n",
              "  <tbody>\n",
              "    <tr>\n",
              "      <th>5002184</th>\n",
              "      <td>1</td>\n",
              "      <td>21554423000123</td>\n",
              "      <td>INSTITUTO ONCOLOGICO LTDA  JUIZ DE FORAMG</td>\n",
              "      <td>MEDICINA NUCLEAR</td>\n",
              "      <td>GUSTAVO SFFEIR C DE MAGALHAES</td>\n",
              "      <td>16404</td>\n",
              "      <td>RUA SANTOS DUMONT</td>\n",
              "      <td>56</td>\n",
              "      <td>NaN</td>\n",
              "      <td>GRANBERY</td>\n",
              "      <td>JUIZ DE FORA</td>\n",
              "      <td>MG</td>\n",
              "      <td>36010510</td>\n",
              "    </tr>\n",
              "    <tr>\n",
              "      <th>5002672</th>\n",
              "      <td>1</td>\n",
              "      <td>33205964000125</td>\n",
              "      <td>CLINICA DE MEDICINA NUCL VILLELA PEDRAS LTDA</td>\n",
              "      <td>MED NUCLEAR</td>\n",
              "      <td>IVAN DE SA VILELA PEDRAS</td>\n",
              "      <td>11595</td>\n",
              "      <td>RUA MEXICO</td>\n",
              "      <td>98</td>\n",
              "      <td>3 E 4 ANDAR</td>\n",
              "      <td>CENTRO</td>\n",
              "      <td>RIO DE JANEIRO</td>\n",
              "      <td>RJ</td>\n",
              "      <td>20031141</td>\n",
              "    </tr>\n",
              "    <tr>\n",
              "      <th>5009782</th>\n",
              "      <td>1</td>\n",
              "      <td>15166416000151</td>\n",
              "      <td>REAL SOCIEDADE PORTUGUESA DE BENEFICIENCIA 16 ...</td>\n",
              "      <td>MEDICINA NUCLEAR</td>\n",
              "      <td>EDMARIO ANTONIO G COSTA</td>\n",
              "      <td>11672</td>\n",
              "      <td>AV PRINCESA ISABEL</td>\n",
              "      <td>914</td>\n",
              "      <td>NaN</td>\n",
              "      <td>BARRA AVENIDA</td>\n",
              "      <td>SALVADOR</td>\n",
              "      <td>BA</td>\n",
              "      <td>40140901</td>\n",
              "    </tr>\n",
              "    <tr>\n",
              "      <th>5016363</th>\n",
              "      <td>1</td>\n",
              "      <td>75033308000132</td>\n",
              "      <td>CENTRO DE MEDICINA NUCLEAR DO PARANA LTDA SC</td>\n",
              "      <td>MEDICINA NUCLEAR</td>\n",
              "      <td>TAIZA PARENTE ZUKOVSKI</td>\n",
              "      <td>15390</td>\n",
              "      <td>RUA PDE ILDEFONSO</td>\n",
              "      <td>158</td>\n",
              "      <td>NaN</td>\n",
              "      <td>BATEL</td>\n",
              "      <td>CURITIBA</td>\n",
              "      <td>PR</td>\n",
              "      <td>80240160</td>\n",
              "    </tr>\n",
              "    <tr>\n",
              "      <th>5017408</th>\n",
              "      <td>1</td>\n",
              "      <td>33804212000180</td>\n",
              "      <td>CLINICA SAO CARLOS SA</td>\n",
              "      <td>SERV MED NUCLEAR</td>\n",
              "      <td>CARLOS AFFONSO FUSER</td>\n",
              "      <td>11663</td>\n",
              "      <td>RUA HUMAITA</td>\n",
              "      <td>296</td>\n",
              "      <td>NaN</td>\n",
              "      <td>BOTAFOGO</td>\n",
              "      <td>RIO DE JANEIRO</td>\n",
              "      <td>RJ</td>\n",
              "      <td>22261001</td>\n",
              "    </tr>\n",
              "  </tbody>\n",
              "</table>\n",
              "</div>"
            ],
            "text/plain": [
              "               CODIGORESP            CNPJ  \\\n",
              "CODIGOCLIENTE                               \n",
              "5002184                 1  21554423000123   \n",
              "5002672                 1  33205964000125   \n",
              "5009782                 1  15166416000151   \n",
              "5016363                 1  75033308000132   \n",
              "5017408                 1  33804212000180   \n",
              "\n",
              "                                                     RAZAOSOCIAL  \\\n",
              "CODIGOCLIENTE                                                      \n",
              "5002184                INSTITUTO ONCOLOGICO LTDA  JUIZ DE FORAMG   \n",
              "5002672             CLINICA DE MEDICINA NUCL VILLELA PEDRAS LTDA   \n",
              "5009782        REAL SOCIEDADE PORTUGUESA DE BENEFICIENCIA 16 ...   \n",
              "5016363             CENTRO DE MEDICINA NUCLEAR DO PARANA LTDA SC   \n",
              "5017408                                    CLINICA SAO CARLOS SA   \n",
              "\n",
              "                        UNIDADE                    RESPONSAVEL  MATRICULACNEN  \\\n",
              "CODIGOCLIENTE                                                                   \n",
              "5002184        MEDICINA NUCLEAR  GUSTAVO SFFEIR C DE MAGALHAES          16404   \n",
              "5002672             MED NUCLEAR       IVAN DE SA VILELA PEDRAS          11595   \n",
              "5009782        MEDICINA NUCLEAR        EDMARIO ANTONIO G COSTA          11672   \n",
              "5016363        MEDICINA NUCLEAR         TAIZA PARENTE ZUKOVSKI          15390   \n",
              "5017408        SERV MED NUCLEAR           CARLOS AFFONSO FUSER          11663   \n",
              "\n",
              "                         ENDERECO NUMERO  COMPLEMENTO         BAIRRO  \\\n",
              "CODIGOCLIENTE                                                          \n",
              "5002184         RUA SANTOS DUMONT     56          NaN       GRANBERY   \n",
              "5002672                RUA MEXICO     98  3 E 4 ANDAR         CENTRO   \n",
              "5009782        AV PRINCESA ISABEL    914          NaN  BARRA AVENIDA   \n",
              "5016363         RUA PDE ILDEFONSO    158          NaN          BATEL   \n",
              "5017408               RUA HUMAITA    296          NaN       BOTAFOGO   \n",
              "\n",
              "                    MUNICIPIO  UF       CEP  \n",
              "CODIGOCLIENTE                                \n",
              "5002184          JUIZ DE FORA  MG  36010510  \n",
              "5002672        RIO DE JANEIRO  RJ  20031141  \n",
              "5009782              SALVADOR  BA  40140901  \n",
              "5016363              CURITIBA  PR  80240160  \n",
              "5017408        RIO DE JANEIRO  RJ  22261001  "
            ]
          },
          "metadata": {
            "tags": []
          },
          "execution_count": 25
        }
      ]
    },
    {
      "cell_type": "code",
      "metadata": {
        "id": "7tZFsOI4fDyn"
      },
      "source": [
        "df_lista_clientes_cnen.to_csv('/drive/My Drive/DS_CNES/df_lista_clientes_cnen.csv')"
      ],
      "execution_count": null,
      "outputs": []
    },
    {
      "cell_type": "code",
      "metadata": {
        "id": "iU5yrA5MAhCO"
      },
      "source": [
        "df_lista_clientes_cnen.to_excel('/drive/My Drive/DS_CNES/df_lista_clientes_cnen.xlsx')"
      ],
      "execution_count": null,
      "outputs": []
    },
    {
      "cell_type": "markdown",
      "metadata": {
        "id": "ff-5rRtLBjMZ"
      },
      "source": [
        "# FAZ O MERGE DA LISTA DE CLIENTES COM A LISTA DA BASE CNES\n",
        "Utiliza como chave o campo CNPJ"
      ]
    },
    {
      "cell_type": "code",
      "metadata": {
        "colab": {
          "base_uri": "https://localhost:8080/"
        },
        "id": "cVQtI4NW9fBS",
        "outputId": "e4803ce8-86e5-43b8-c4c3-8d2baf7618ba"
      },
      "source": [
        "print(\"Quantidade de linhas tabela Clientes/CNEN: \"+str(df_lista_clientes_cnen.shape)+\n",
        "      \"\\nQuantidade de linhas tabela CNES/DATASUS: \"+str(df_lista_cnes.shape))\n"
      ],
      "execution_count": 61,
      "outputs": [
        {
          "output_type": "stream",
          "text": [
            "Quantidade de linhas tabela Clientes/CNEN: (443, 13)\n",
            "Quantidade de linhas tabela CNES/DATASUS: (270227, 4)\n"
          ],
          "name": "stdout"
        }
      ]
    },
    {
      "cell_type": "code",
      "metadata": {
        "id": "vdLEV1dz9P3M"
      },
      "source": [
        "df_resultado_final = pd.merge(df_lista_clientes_cnen, df_lista_cnes, left_on=\"CNPJ\", right_on=\"CNPJ\", how=\"inner\")\n",
        "df_resultado_final['ALVARA'] = df_resultado_final['ALVARA'].str.replace(\",\",\"\")\n",
        "df_resultado_final['COMPLEMENTO'] = df_resultado_final['COMPLEMENTO'].str.replace(\",\",\"\")"
      ],
      "execution_count": 62,
      "outputs": []
    },
    {
      "cell_type": "code",
      "metadata": {
        "colab": {
          "base_uri": "https://localhost:8080/"
        },
        "id": "blTFb8Wr_xQS",
        "outputId": "a9fcf1a3-65cf-418e-d526-3e10d8a4ff7b"
      },
      "source": [
        "print(\"Quantidade de linhas do resultado final: \"+str(df_resultado_final.shape))\n"
      ],
      "execution_count": 63,
      "outputs": [
        {
          "output_type": "stream",
          "text": [
            "Quantidade de linhas do resultado final: (392, 16)\n"
          ],
          "name": "stdout"
        }
      ]
    },
    {
      "cell_type": "code",
      "metadata": {
        "id": "rAN74Og1cnAM"
      },
      "source": [
        "df_resultado_final.to_excel('/drive/My Drive/DS_CNES/df_resultado_final_inner.xlsx')"
      ],
      "execution_count": 64,
      "outputs": []
    },
    {
      "cell_type": "markdown",
      "metadata": {
        "id": "j8dbSPI6LoAh"
      },
      "source": [
        "#Condição CNEN !-> CNES\n",
        "Abaixo aplico a seguinte condição: Trazer todos os clientes da tabela da CNEN que não estão inseridos na tabela da CNES."
      ]
    },
    {
      "cell_type": "code",
      "metadata": {
        "id": "3pxa061RcGZD"
      },
      "source": [
        "df_resultado_final_inverso = df_lista_clientes_cnen[~df_lista_clientes_cnen['CNPJ'].isin(df_lista_cnes['CNPJ'])]"
      ],
      "execution_count": 68,
      "outputs": []
    },
    {
      "cell_type": "code",
      "metadata": {
        "colab": {
          "base_uri": "https://localhost:8080/"
        },
        "id": "GK06yKpwYV3m",
        "outputId": "3c0a7d06-4e71-41a0-9d67-e9ec5f57022c"
      },
      "source": [
        "df_resultado_final_inverso.shape"
      ],
      "execution_count": 70,
      "outputs": [
        {
          "output_type": "execute_result",
          "data": {
            "text/plain": [
              "(51, 13)"
            ]
          },
          "metadata": {
            "tags": []
          },
          "execution_count": 70
        }
      ]
    },
    {
      "cell_type": "code",
      "metadata": {
        "id": "0RDAtDpS8EWi"
      },
      "source": [
        "df_resultado_final_inverso.to_excel('/drive/My Drive/DS_CNES/df_resultado_final_inverso.xlsx')"
      ],
      "execution_count": 72,
      "outputs": []
    },
    {
      "cell_type": "code",
      "metadata": {
        "colab": {
          "base_uri": "https://localhost:8080/",
          "height": 728
        },
        "id": "WPKdv2tVDDop",
        "outputId": "ed54b7cf-f45d-474d-ea9d-8a41f74e4ac9"
      },
      "source": [
        "pd.merge(df_lista_clientes_cnen, df_lista_cnes,on='CNPJ',how='outer',indicator=True)"
      ],
      "execution_count": 52,
      "outputs": [
        {
          "output_type": "execute_result",
          "data": {
            "text/html": [
              "<div>\n",
              "<style scoped>\n",
              "    .dataframe tbody tr th:only-of-type {\n",
              "        vertical-align: middle;\n",
              "    }\n",
              "\n",
              "    .dataframe tbody tr th {\n",
              "        vertical-align: top;\n",
              "    }\n",
              "\n",
              "    .dataframe thead th {\n",
              "        text-align: right;\n",
              "    }\n",
              "</style>\n",
              "<table border=\"1\" class=\"dataframe\">\n",
              "  <thead>\n",
              "    <tr style=\"text-align: right;\">\n",
              "      <th></th>\n",
              "      <th>CODIGORESP</th>\n",
              "      <th>CNPJ</th>\n",
              "      <th>RAZAOSOCIAL</th>\n",
              "      <th>UNIDADE</th>\n",
              "      <th>RESPONSAVEL</th>\n",
              "      <th>MATRICULACNEN</th>\n",
              "      <th>ENDERECO</th>\n",
              "      <th>NUMERO</th>\n",
              "      <th>COMPLEMENTO</th>\n",
              "      <th>BAIRRO</th>\n",
              "      <th>MUNICIPIO</th>\n",
              "      <th>UF</th>\n",
              "      <th>CEP</th>\n",
              "      <th>CNES</th>\n",
              "      <th>ALVARA</th>\n",
              "      <th>CODEQUIP_TAB_EQ</th>\n",
              "      <th>_merge</th>\n",
              "    </tr>\n",
              "  </thead>\n",
              "  <tbody>\n",
              "    <tr>\n",
              "      <th>0</th>\n",
              "      <td>1.0</td>\n",
              "      <td>21554423000123</td>\n",
              "      <td>INSTITUTO ONCOLOGICO LTDA  JUIZ DE FORAMG</td>\n",
              "      <td>MEDICINA NUCLEAR</td>\n",
              "      <td>GUSTAVO SFFEIR C DE MAGALHAES</td>\n",
              "      <td>16404.0</td>\n",
              "      <td>RUA SANTOS DUMONT</td>\n",
              "      <td>56</td>\n",
              "      <td>NaN</td>\n",
              "      <td>GRANBERY</td>\n",
              "      <td>JUIZ DE FORA</td>\n",
              "      <td>MG</td>\n",
              "      <td>36010510</td>\n",
              "      <td>2153106</td>\n",
              "      <td>398/2005</td>\n",
              "      <td>1.0</td>\n",
              "      <td>both</td>\n",
              "    </tr>\n",
              "    <tr>\n",
              "      <th>1</th>\n",
              "      <td>1.0</td>\n",
              "      <td>33205964000125</td>\n",
              "      <td>CLINICA DE MEDICINA NUCL VILLELA PEDRAS LTDA</td>\n",
              "      <td>MED NUCLEAR</td>\n",
              "      <td>IVAN DE SA VILELA PEDRAS</td>\n",
              "      <td>11595.0</td>\n",
              "      <td>RUA MEXICO</td>\n",
              "      <td>98</td>\n",
              "      <td>3 E 4 ANDAR</td>\n",
              "      <td>CENTRO</td>\n",
              "      <td>RIO DE JANEIRO</td>\n",
              "      <td>RJ</td>\n",
              "      <td>20031141</td>\n",
              "      <td>3178447</td>\n",
              "      <td>09/97/027417/2019</td>\n",
              "      <td>18.0</td>\n",
              "      <td>both</td>\n",
              "    </tr>\n",
              "    <tr>\n",
              "      <th>2</th>\n",
              "      <td>1.0</td>\n",
              "      <td>15166416000151</td>\n",
              "      <td>REAL SOCIEDADE PORTUGUESA DE BENEFICIENCIA 16 ...</td>\n",
              "      <td>MEDICINA NUCLEAR</td>\n",
              "      <td>EDMARIO ANTONIO G COSTA</td>\n",
              "      <td>11672.0</td>\n",
              "      <td>AV PRINCESA ISABEL</td>\n",
              "      <td>914</td>\n",
              "      <td>NaN</td>\n",
              "      <td>BARRA AVENIDA</td>\n",
              "      <td>SALVADOR</td>\n",
              "      <td>BA</td>\n",
              "      <td>40140901</td>\n",
              "      <td>0004251</td>\n",
              "      <td>PROT-0311190010223</td>\n",
              "      <td>1.0</td>\n",
              "      <td>both</td>\n",
              "    </tr>\n",
              "    <tr>\n",
              "      <th>3</th>\n",
              "      <td>1.0</td>\n",
              "      <td>75033308000132</td>\n",
              "      <td>CENTRO DE MEDICINA NUCLEAR DO PARANA LTDA SC</td>\n",
              "      <td>MEDICINA NUCLEAR</td>\n",
              "      <td>TAIZA PARENTE ZUKOVSKI</td>\n",
              "      <td>15390.0</td>\n",
              "      <td>RUA PDE ILDEFONSO</td>\n",
              "      <td>158</td>\n",
              "      <td>NaN</td>\n",
              "      <td>BATEL</td>\n",
              "      <td>CURITIBA</td>\n",
              "      <td>PR</td>\n",
              "      <td>80240160</td>\n",
              "      <td>0015865</td>\n",
              "      <td>2019000000003</td>\n",
              "      <td>1.0</td>\n",
              "      <td>both</td>\n",
              "    </tr>\n",
              "    <tr>\n",
              "      <th>4</th>\n",
              "      <td>1.0</td>\n",
              "      <td>33804212000180</td>\n",
              "      <td>CLINICA SAO CARLOS SA</td>\n",
              "      <td>SERV MED NUCLEAR</td>\n",
              "      <td>CARLOS AFFONSO FUSER</td>\n",
              "      <td>11663.0</td>\n",
              "      <td>RUA HUMAITA</td>\n",
              "      <td>296</td>\n",
              "      <td>NaN</td>\n",
              "      <td>BOTAFOGO</td>\n",
              "      <td>RIO DE JANEIRO</td>\n",
              "      <td>RJ</td>\n",
              "      <td>22261001</td>\n",
              "      <td>3009947</td>\n",
              "      <td>E-08/101.518/1997</td>\n",
              "      <td>NaN</td>\n",
              "      <td>both</td>\n",
              "    </tr>\n",
              "    <tr>\n",
              "      <th>...</th>\n",
              "      <td>...</td>\n",
              "      <td>...</td>\n",
              "      <td>...</td>\n",
              "      <td>...</td>\n",
              "      <td>...</td>\n",
              "      <td>...</td>\n",
              "      <td>...</td>\n",
              "      <td>...</td>\n",
              "      <td>...</td>\n",
              "      <td>...</td>\n",
              "      <td>...</td>\n",
              "      <td>...</td>\n",
              "      <td>...</td>\n",
              "      <td>...</td>\n",
              "      <td>...</td>\n",
              "      <td>...</td>\n",
              "      <td>...</td>\n",
              "    </tr>\n",
              "    <tr>\n",
              "      <th>270277</th>\n",
              "      <td>NaN</td>\n",
              "      <td>00005094299123</td>\n",
              "      <td>NaN</td>\n",
              "      <td>NaN</td>\n",
              "      <td>NaN</td>\n",
              "      <td>NaN</td>\n",
              "      <td>NaN</td>\n",
              "      <td>NaN</td>\n",
              "      <td>NaN</td>\n",
              "      <td>NaN</td>\n",
              "      <td>NaN</td>\n",
              "      <td>NaN</td>\n",
              "      <td>NaN</td>\n",
              "      <td>0440361</td>\n",
              "      <td>2001179252</td>\n",
              "      <td>NaN</td>\n",
              "      <td>right_only</td>\n",
              "    </tr>\n",
              "    <tr>\n",
              "      <th>270278</th>\n",
              "      <td>NaN</td>\n",
              "      <td>27797198000132</td>\n",
              "      <td>NaN</td>\n",
              "      <td>NaN</td>\n",
              "      <td>NaN</td>\n",
              "      <td>NaN</td>\n",
              "      <td>NaN</td>\n",
              "      <td>NaN</td>\n",
              "      <td>NaN</td>\n",
              "      <td>NaN</td>\n",
              "      <td>NaN</td>\n",
              "      <td>NaN</td>\n",
              "      <td>NaN</td>\n",
              "      <td>0413097</td>\n",
              "      <td>405/2020</td>\n",
              "      <td>NaN</td>\n",
              "      <td>right_only</td>\n",
              "    </tr>\n",
              "    <tr>\n",
              "      <th>270279</th>\n",
              "      <td>NaN</td>\n",
              "      <td>37130185000169</td>\n",
              "      <td>NaN</td>\n",
              "      <td>NaN</td>\n",
              "      <td>NaN</td>\n",
              "      <td>NaN</td>\n",
              "      <td>NaN</td>\n",
              "      <td>NaN</td>\n",
              "      <td>NaN</td>\n",
              "      <td>NaN</td>\n",
              "      <td>NaN</td>\n",
              "      <td>NaN</td>\n",
              "      <td>NaN</td>\n",
              "      <td>0426059</td>\n",
              "      <td>20200117288</td>\n",
              "      <td>NaN</td>\n",
              "      <td>right_only</td>\n",
              "    </tr>\n",
              "    <tr>\n",
              "      <th>270280</th>\n",
              "      <td>NaN</td>\n",
              "      <td>36138785000100</td>\n",
              "      <td>NaN</td>\n",
              "      <td>NaN</td>\n",
              "      <td>NaN</td>\n",
              "      <td>NaN</td>\n",
              "      <td>NaN</td>\n",
              "      <td>NaN</td>\n",
              "      <td>NaN</td>\n",
              "      <td>NaN</td>\n",
              "      <td>NaN</td>\n",
              "      <td>NaN</td>\n",
              "      <td>NaN</td>\n",
              "      <td>0426180</td>\n",
              "      <td>2020013929</td>\n",
              "      <td>NaN</td>\n",
              "      <td>right_only</td>\n",
              "    </tr>\n",
              "    <tr>\n",
              "      <th>270281</th>\n",
              "      <td>NaN</td>\n",
              "      <td>36188358000137</td>\n",
              "      <td>NaN</td>\n",
              "      <td>NaN</td>\n",
              "      <td>NaN</td>\n",
              "      <td>NaN</td>\n",
              "      <td>NaN</td>\n",
              "      <td>NaN</td>\n",
              "      <td>NaN</td>\n",
              "      <td>NaN</td>\n",
              "      <td>NaN</td>\n",
              "      <td>NaN</td>\n",
              "      <td>NaN</td>\n",
              "      <td>0446475</td>\n",
              "      <td>2020011950</td>\n",
              "      <td>NaN</td>\n",
              "      <td>right_only</td>\n",
              "    </tr>\n",
              "  </tbody>\n",
              "</table>\n",
              "<p>270282 rows × 17 columns</p>\n",
              "</div>"
            ],
            "text/plain": [
              "        CODIGORESP            CNPJ  \\\n",
              "0              1.0  21554423000123   \n",
              "1              1.0  33205964000125   \n",
              "2              1.0  15166416000151   \n",
              "3              1.0  75033308000132   \n",
              "4              1.0  33804212000180   \n",
              "...            ...             ...   \n",
              "270277         NaN  00005094299123   \n",
              "270278         NaN  27797198000132   \n",
              "270279         NaN  37130185000169   \n",
              "270280         NaN  36138785000100   \n",
              "270281         NaN  36188358000137   \n",
              "\n",
              "                                              RAZAOSOCIAL           UNIDADE  \\\n",
              "0               INSTITUTO ONCOLOGICO LTDA  JUIZ DE FORAMG  MEDICINA NUCLEAR   \n",
              "1            CLINICA DE MEDICINA NUCL VILLELA PEDRAS LTDA       MED NUCLEAR   \n",
              "2       REAL SOCIEDADE PORTUGUESA DE BENEFICIENCIA 16 ...  MEDICINA NUCLEAR   \n",
              "3            CENTRO DE MEDICINA NUCLEAR DO PARANA LTDA SC  MEDICINA NUCLEAR   \n",
              "4                                   CLINICA SAO CARLOS SA  SERV MED NUCLEAR   \n",
              "...                                                   ...               ...   \n",
              "270277                                                NaN               NaN   \n",
              "270278                                                NaN               NaN   \n",
              "270279                                                NaN               NaN   \n",
              "270280                                                NaN               NaN   \n",
              "270281                                                NaN               NaN   \n",
              "\n",
              "                          RESPONSAVEL  MATRICULACNEN            ENDERECO  \\\n",
              "0       GUSTAVO SFFEIR C DE MAGALHAES        16404.0   RUA SANTOS DUMONT   \n",
              "1            IVAN DE SA VILELA PEDRAS        11595.0          RUA MEXICO   \n",
              "2             EDMARIO ANTONIO G COSTA        11672.0  AV PRINCESA ISABEL   \n",
              "3              TAIZA PARENTE ZUKOVSKI        15390.0   RUA PDE ILDEFONSO   \n",
              "4                CARLOS AFFONSO FUSER        11663.0         RUA HUMAITA   \n",
              "...                               ...            ...                 ...   \n",
              "270277                            NaN            NaN                 NaN   \n",
              "270278                            NaN            NaN                 NaN   \n",
              "270279                            NaN            NaN                 NaN   \n",
              "270280                            NaN            NaN                 NaN   \n",
              "270281                            NaN            NaN                 NaN   \n",
              "\n",
              "       NUMERO  COMPLEMENTO         BAIRRO       MUNICIPIO   UF       CEP  \\\n",
              "0          56          NaN       GRANBERY    JUIZ DE FORA   MG  36010510   \n",
              "1          98  3 E 4 ANDAR         CENTRO  RIO DE JANEIRO   RJ  20031141   \n",
              "2         914          NaN  BARRA AVENIDA        SALVADOR   BA  40140901   \n",
              "3         158          NaN          BATEL        CURITIBA   PR  80240160   \n",
              "4         296          NaN       BOTAFOGO  RIO DE JANEIRO   RJ  22261001   \n",
              "...       ...          ...            ...             ...  ...       ...   \n",
              "270277    NaN          NaN            NaN             NaN  NaN       NaN   \n",
              "270278    NaN          NaN            NaN             NaN  NaN       NaN   \n",
              "270279    NaN          NaN            NaN             NaN  NaN       NaN   \n",
              "270280    NaN          NaN            NaN             NaN  NaN       NaN   \n",
              "270281    NaN          NaN            NaN             NaN  NaN       NaN   \n",
              "\n",
              "           CNES              ALVARA  CODEQUIP_TAB_EQ      _merge  \n",
              "0       2153106            398/2005              1.0        both  \n",
              "1       3178447   09/97/027417/2019             18.0        both  \n",
              "2       0004251  PROT-0311190010223              1.0        both  \n",
              "3       0015865       2019000000003              1.0        both  \n",
              "4       3009947   E-08/101.518/1997              NaN        both  \n",
              "...         ...                 ...              ...         ...  \n",
              "270277  0440361          2001179252              NaN  right_only  \n",
              "270278  0413097            405/2020              NaN  right_only  \n",
              "270279  0426059         20200117288              NaN  right_only  \n",
              "270280  0426180          2020013929              NaN  right_only  \n",
              "270281  0446475          2020011950              NaN  right_only  \n",
              "\n",
              "[270282 rows x 17 columns]"
            ]
          },
          "metadata": {
            "tags": []
          },
          "execution_count": 52
        }
      ]
    },
    {
      "cell_type": "code",
      "metadata": {
        "colab": {
          "base_uri": "https://localhost:8080/"
        },
        "id": "0xabA1wmFHER",
        "outputId": "9b831ea3-d8de-4769-e3ea-72e74fd30c0f"
      },
      "source": [
        "df_resultado_final_join.shape"
      ],
      "execution_count": 53,
      "outputs": [
        {
          "output_type": "execute_result",
          "data": {
            "text/plain": [
              "(559, 15)"
            ]
          },
          "metadata": {
            "tags": []
          },
          "execution_count": 53
        }
      ]
    },
    {
      "cell_type": "code",
      "metadata": {
        "id": "YLIIwNglGKHm"
      },
      "source": [
        "df_resultado_final.to_csv('/drive/My Drive/DS_CNES/df_resultado_final_left.csv')\n"
      ],
      "execution_count": null,
      "outputs": []
    },
    {
      "cell_type": "code",
      "metadata": {
        "id": "JTBbk-dEtrBq"
      },
      "source": [
        "df_resultado_final.to_excel('/drive/My Drive/DS_CNES/df_resultado_final_left.xlsx')"
      ],
      "execution_count": null,
      "outputs": []
    }
  ]
}